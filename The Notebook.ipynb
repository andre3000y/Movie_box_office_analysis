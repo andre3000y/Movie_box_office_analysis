{
 "cells": [
  {
   "cell_type": "markdown",
   "id": "3a9397ac-bd56-4d10-afb0-a2b981aaa840",
   "metadata": {},
   "source": [
    "# Starting Point:\n",
    "First, we import all of the necessary python modules."
   ]
  },
  {
   "cell_type": "code",
   "execution_count": 1,
   "id": "32875450-c004-45d3-94ff-29b829ed1735",
   "metadata": {},
   "outputs": [],
   "source": [
    "import sqlite3 #getting data from .db files\n",
    "import pandas as pd #working with DataFrames\n",
    "import seaborn as sns #making visualizations\n",
    "import matplotlib.pyplot as plt #making and exporting visualizations\n",
    "import copy #copying dataframes properly\n",
    "import time #interpretting datetime strings\n",
    "import numpy as np #correlation analysis\n",
    "import string #useful library for dealing with strings"
   ]
  },
  {
   "cell_type": "markdown",
   "id": "fc4da2d3-270c-4e66-9672-e4262782ddfd",
   "metadata": {},
   "source": [
    "We also create the sql database with the code below."
   ]
  },
  {
   "cell_type": "code",
   "execution_count": 2,
   "id": "0bf2c03b-1aee-4ec0-b4dc-eba0349b863b",
   "metadata": {
    "ExecuteTime": {
     "end_time": "2020-12-17T21:22:46.674739Z",
     "start_time": "2020-12-17T21:22:46.344841Z"
    }
   },
   "outputs": [],
   "source": [
    "from src.make_db import create_movies_db"
   ]
  },
  {
   "cell_type": "code",
   "execution_count": 3,
   "id": "8df0c0b3-a529-4ee1-bd60-6dfa1cb621ac",
   "metadata": {
    "ExecuteTime": {
     "end_time": "2020-12-17T21:23:10.522663Z",
     "start_time": "2020-12-17T21:22:47.047708Z"
    },
    "scrolled": true
   },
   "outputs": [
    {
     "name": "stdout",
     "output_type": "stream",
     "text": [
      "imdb_title_principals table created successfully....\n",
      "imdb_name_basic table created successfully....\n",
      "imdb_title_crew table created successfully....\n",
      "imdb_title_ratings table created successfully....\n",
      "imdb_title_basics table created successfully....\n",
      "imdb_title_akas table created successfully....\n",
      "tn_movie_budgets table created successfully....\n",
      "tmdb_movies table created successfully....\n",
      "bom_movie_gross table created successfully....\n",
      "rotten_tomatoes_critic_reviews table created successfully....\n",
      "rotten_tomatoes_movies table created successfully....\n",
      "=========================================================\n",
      "Inserting data into the imdb_title_crew table....\n",
      "Inserting data into the tmdb_movies table....\n",
      "Inserting data into the imdb_title_akas table....\n",
      "Inserting data into the imdb_title_ratings table....\n",
      "Inserting data into the imdb_name_basics table....\n",
      "Inserting data into the rotten_tomatoes_movies table....\n",
      "Inserting data into the rotten_tomatoes_critic_reviews table....\n",
      "Inserting data into the imdb_title_basics table....\n",
      "Inserting data into the tn_movie_budgets table....\n",
      "Inserting data into the bom_movie_gross table....\n",
      "Inserting data into the imdb_title_principals table....\n",
      "=========================================================\n",
      "Database created successfully!\n",
      "To connect to the database: open a connection using the path \"data\\movies.db\"\n"
     ]
    }
   ],
   "source": [
    "create_movies_db()"
   ]
  },
  {
   "cell_type": "markdown",
   "id": "e632bebd-8530-4b47-9f0e-820274219b2b",
   "metadata": {},
   "source": [
    "![movies.db schema](images/movies_db_schema.png)"
   ]
  },
  {
   "cell_type": "markdown",
   "id": "dc5288d6-4bfd-461d-8c70-43e64bafcb55",
   "metadata": {
    "tags": []
   },
   "source": [
    "# Part 1: The Rotten Tomatoes Tables\n",
    "The first tables that we use is from the Rotten Tomatoes website. These are valuable as they collect reviews and ratings' scores from various locations online for tons of films."
   ]
  },
  {
   "cell_type": "markdown",
   "id": "13d0bdc5-4921-41eb-bafd-b2b600f03e28",
   "metadata": {
    "tags": []
   },
   "source": [
    "## Cleaning the tables\n",
    "Here, we import the datatables to DataFrames using SQL."
   ]
  },
  {
   "cell_type": "code",
   "execution_count": 4,
   "id": "19b394c1-fc09-45ec-ab7f-ab7c17057daa",
   "metadata": {
    "tags": []
   },
   "outputs": [],
   "source": [
    "conn = sqlite3.connect('data/movies.db')\n",
    "\n",
    "df_r = pd.read_sql('''\n",
    "select * from rotten_tomatoes_critic_reviews\n",
    "''', conn) #_r stands for reviews\n",
    "\n",
    "df_m = pd.read_sql('''\n",
    "select * from rotten_tomatoes_movies\n",
    "''', conn) #_m stands for movies"
   ]
  },
  {
   "cell_type": "markdown",
   "id": "b4e751cd-be35-49aa-816d-108abb0f92a9",
   "metadata": {},
   "source": [
    "Let's start with the reviews table. We use `.shape` and `.head()` to take a peek."
   ]
  },
  {
   "cell_type": "code",
   "execution_count": 5,
   "id": "127e8b84-148a-40ac-ba90-41eb1c41c2d4",
   "metadata": {},
   "outputs": [
    {
     "name": "stdout",
     "output_type": "stream",
     "text": [
      "(1130017, 9)\n"
     ]
    },
    {
     "data": {
      "text/html": [
       "<div>\n",
       "<style scoped>\n",
       "    .dataframe tbody tr th:only-of-type {\n",
       "        vertical-align: middle;\n",
       "    }\n",
       "\n",
       "    .dataframe tbody tr th {\n",
       "        vertical-align: top;\n",
       "    }\n",
       "\n",
       "    .dataframe thead th {\n",
       "        text-align: right;\n",
       "    }\n",
       "</style>\n",
       "<table border=\"1\" class=\"dataframe\">\n",
       "  <thead>\n",
       "    <tr style=\"text-align: right;\">\n",
       "      <th></th>\n",
       "      <th>idx</th>\n",
       "      <th>rotten_tomatoes_link</th>\n",
       "      <th>critic_name</th>\n",
       "      <th>top_critic</th>\n",
       "      <th>publisher_name</th>\n",
       "      <th>review_type</th>\n",
       "      <th>review_score</th>\n",
       "      <th>review_date</th>\n",
       "      <th>review_content</th>\n",
       "    </tr>\n",
       "  </thead>\n",
       "  <tbody>\n",
       "    <tr>\n",
       "      <th>0</th>\n",
       "      <td>0</td>\n",
       "      <td>m/0814255</td>\n",
       "      <td>Andrew L. Urban</td>\n",
       "      <td>0</td>\n",
       "      <td>Urban Cinefile</td>\n",
       "      <td>Fresh</td>\n",
       "      <td>None</td>\n",
       "      <td>2010-02-06</td>\n",
       "      <td>A fantasy adventure that fuses Greek mythology...</td>\n",
       "    </tr>\n",
       "    <tr>\n",
       "      <th>1</th>\n",
       "      <td>1</td>\n",
       "      <td>m/0814255</td>\n",
       "      <td>Louise Keller</td>\n",
       "      <td>0</td>\n",
       "      <td>Urban Cinefile</td>\n",
       "      <td>Fresh</td>\n",
       "      <td>None</td>\n",
       "      <td>2010-02-06</td>\n",
       "      <td>Uma Thurman as Medusa, the gorgon with a coiff...</td>\n",
       "    </tr>\n",
       "    <tr>\n",
       "      <th>2</th>\n",
       "      <td>2</td>\n",
       "      <td>m/0814255</td>\n",
       "      <td>None</td>\n",
       "      <td>0</td>\n",
       "      <td>FILMINK (Australia)</td>\n",
       "      <td>Fresh</td>\n",
       "      <td>None</td>\n",
       "      <td>2010-02-09</td>\n",
       "      <td>With a top-notch cast and dazzling special eff...</td>\n",
       "    </tr>\n",
       "    <tr>\n",
       "      <th>3</th>\n",
       "      <td>3</td>\n",
       "      <td>m/0814255</td>\n",
       "      <td>Ben McEachen</td>\n",
       "      <td>0</td>\n",
       "      <td>Sunday Mail (Australia)</td>\n",
       "      <td>Fresh</td>\n",
       "      <td>3.5/5</td>\n",
       "      <td>2010-02-09</td>\n",
       "      <td>Whether audiences will get behind The Lightnin...</td>\n",
       "    </tr>\n",
       "    <tr>\n",
       "      <th>4</th>\n",
       "      <td>4</td>\n",
       "      <td>m/0814255</td>\n",
       "      <td>Ethan Alter</td>\n",
       "      <td>1</td>\n",
       "      <td>Hollywood Reporter</td>\n",
       "      <td>Rotten</td>\n",
       "      <td>None</td>\n",
       "      <td>2010-02-10</td>\n",
       "      <td>What's really lacking in The Lightning Thief i...</td>\n",
       "    </tr>\n",
       "  </tbody>\n",
       "</table>\n",
       "</div>"
      ],
      "text/plain": [
       "   idx rotten_tomatoes_link      critic_name  top_critic  \\\n",
       "0    0            m/0814255  Andrew L. Urban           0   \n",
       "1    1            m/0814255    Louise Keller           0   \n",
       "2    2            m/0814255             None           0   \n",
       "3    3            m/0814255     Ben McEachen           0   \n",
       "4    4            m/0814255      Ethan Alter           1   \n",
       "\n",
       "            publisher_name review_type review_score review_date  \\\n",
       "0           Urban Cinefile       Fresh         None  2010-02-06   \n",
       "1           Urban Cinefile       Fresh         None  2010-02-06   \n",
       "2      FILMINK (Australia)       Fresh         None  2010-02-09   \n",
       "3  Sunday Mail (Australia)       Fresh        3.5/5  2010-02-09   \n",
       "4       Hollywood Reporter      Rotten         None  2010-02-10   \n",
       "\n",
       "                                      review_content  \n",
       "0  A fantasy adventure that fuses Greek mythology...  \n",
       "1  Uma Thurman as Medusa, the gorgon with a coiff...  \n",
       "2  With a top-notch cast and dazzling special eff...  \n",
       "3  Whether audiences will get behind The Lightnin...  \n",
       "4  What's really lacking in The Lightning Thief i...  "
      ]
     },
     "execution_count": 5,
     "metadata": {},
     "output_type": "execute_result"
    }
   ],
   "source": [
    "print(df_r.shape)\n",
    "df_r.head()"
   ]
  },
  {
   "cell_type": "markdown",
   "id": "a6ba6ed6-80e4-4a45-b725-1bce35b1e795",
   "metadata": {},
   "source": [
    "We'll immediately drop the `critic_name` and `review_content` columns, as they aren't useful without natural language processing. The `idx` column can also go."
   ]
  },
  {
   "cell_type": "code",
   "execution_count": 6,
   "id": "7f774abd-1720-47a2-a2ff-05d9b1022104",
   "metadata": {},
   "outputs": [],
   "source": [
    "df_r.drop(['critic_name','review_content','idx'], axis = 1, inplace = True) #drops review_content from the columns"
   ]
  },
  {
   "cell_type": "markdown",
   "id": "32e77dcc-3e85-4a15-9948-9e1275152421",
   "metadata": {},
   "source": [
    "Now we check for null values (we can already see a couple in the `review_score` column above)."
   ]
  },
  {
   "cell_type": "code",
   "execution_count": 7,
   "id": "c9174de5-0e70-4d95-854c-f77fea0ed4cc",
   "metadata": {},
   "outputs": [
    {
     "data": {
      "text/plain": [
       "rotten_tomatoes_link         0\n",
       "top_critic                   0\n",
       "publisher_name               0\n",
       "review_type                  0\n",
       "review_score            305936\n",
       "review_date                  0\n",
       "dtype: int64"
      ]
     },
     "execution_count": 7,
     "metadata": {},
     "output_type": "execute_result"
    }
   ],
   "source": [
    "df_r.isna().sum() #returns a count of null values for each column"
   ]
  },
  {
   "cell_type": "markdown",
   "id": "54ad3ebf-aa3a-4d03-9b8f-221e1a83ab7e",
   "metadata": {},
   "source": [
    "As all of the missing values are in review_score, let's take a peek at these values."
   ]
  },
  {
   "cell_type": "code",
   "execution_count": 8,
   "id": "ec1cb94c-6110-40c2-88cb-0f38ef442ff3",
   "metadata": {},
   "outputs": [
    {
     "data": {
      "text/plain": [
       "0           None\n",
       "1           None\n",
       "2           None\n",
       "3          3.5/5\n",
       "4           None\n",
       "           ...  \n",
       "1130012      2/5\n",
       "1130013    3.5/5\n",
       "1130014       B+\n",
       "1130015    3.5/5\n",
       "1130016        C\n",
       "Name: review_score, Length: 1130017, dtype: object"
      ]
     },
     "execution_count": 8,
     "metadata": {},
     "output_type": "execute_result"
    }
   ],
   "source": [
    "df_r['review_score'] #display just the review_score column"
   ]
  },
  {
   "cell_type": "markdown",
   "id": "c5e7ab88-0dff-4ab3-8cd1-51908358fb43",
   "metadata": {},
   "source": [
    "It appears that a lot of the values are strings in the form `Points/Total`. Others are in the form of a letter grade. Let's tackle these.\n",
    "\n",
    "We start by investigating what all letter grades are being used."
   ]
  },
  {
   "cell_type": "code",
   "execution_count": 9,
   "id": "8fcda077-132e-4a91-a3f3-3a00d3210582",
   "metadata": {},
   "outputs": [
    {
     "data": {
      "text/plain": [
       "B       24358\n",
       "B+      19822\n",
       "B-      15754\n",
       "C       14329\n",
       "A-      11410\n",
       "C+      10863\n",
       "A        9482\n",
       "C-       9449\n",
       "D        6148\n",
       "D+       3802\n",
       "F        1896\n",
       "D-       1605\n",
       "C  -        3\n",
       "A  -        1\n",
       "Name: review_score, dtype: int64"
      ]
     },
     "execution_count": 9,
     "metadata": {},
     "output_type": "execute_result"
    }
   ],
   "source": [
    "def has_letter(str_input): #make a function to tell if the input has a letter\n",
    "    for char in str_input:\n",
    "        if char in string.ascii_uppercase:\n",
    "            return True\n",
    "        \n",
    "    return False\n",
    "\n",
    "df_r.loc[df_r['review_score'].map(lambda x: has_letter(x) if x != None else False), 'review_score'].value_counts()\n",
    "#The above uses the has_letter function to return every value in the column with a letter (None doesn't\n",
    "#have a letter and is thus excluded)."
   ]
  },
  {
   "cell_type": "markdown",
   "id": "f7ee5c78-c14f-4d33-a770-54c9d1f1dc32",
   "metadata": {},
   "source": [
    "Let's make a dictionary of these values and corresponding scores from 0 to 1. Also make note of the few `C -` and `A -` scores that erroneously contain spaces."
   ]
  },
  {
   "cell_type": "code",
   "execution_count": 10,
   "id": "d9f043b9-7ffa-43ba-8501-17d544838ffd",
   "metadata": {},
   "outputs": [
    {
     "name": "stdout",
     "output_type": "stream",
     "text": [
      "{'F': 0.0, 'D-': 0.09090909090909091, 'D': 0.18181818181818182, 'D+': 0.2727272727272727, 'C-': 0.36363636363636365, 'C': 0.4545454545454546, 'C+': 0.5454545454545454, 'B-': 0.6363636363636364, 'B': 0.7272727272727273, 'B+': 0.8181818181818182, 'A-': 0.9090909090909092, 'A': 1.0}\n"
     ]
    }
   ],
   "source": [
    "score_tuple = ('F','D-','D','D+','C-','C','C+','B-','B','B+','A-','A')\n",
    "scores = np.linspace(0, 1, len(score_tuple)) #evenly spaced values from 0 to 1\n",
    "\n",
    "score_map = dict(zip(score_tuple, scores))\n",
    "print(score_map)"
   ]
  },
  {
   "cell_type": "markdown",
   "id": "f515c7dd-4aff-4282-9053-2b2e026928f3",
   "metadata": {},
   "source": [
    "Now we write a function that will convert all of the letter grades to the appropriate score, as well as do the division needed for all of the scores in the `Points/Total` format."
   ]
  },
  {
   "cell_type": "code",
   "execution_count": 11,
   "id": "c8f748fd-4a32-47c6-9347-77cc05ff91c7",
   "metadata": {},
   "outputs": [],
   "source": [
    "def percent(strscore):\n",
    "    if strscore is None:\n",
    "        return strscore #we aren't tackling Nones yet\n",
    "    for character in strscore: #check for letter grades\n",
    "        if character in string.ascii_uppercase:\n",
    "            return score_map[strscore.replace(' ','')] #some letter grades have stray spaces, remember?\n",
    "        \n",
    "    components = strscore.split('/')\n",
    "    \n",
    "    if len(components) == 2: #just to make sure that the format is proper.\n",
    "        if float(components[1]) == 0: #avoid erroneously dividing by zero. We replaces these with Nones to disregard them later \n",
    "            return None\n",
    "        return float(components[0])/float(components[1])\n",
    "    else:\n",
    "        return strscore"
   ]
  },
  {
   "cell_type": "markdown",
   "id": "158f6e6e-d7f8-4f55-b80e-086a81863c12",
   "metadata": {},
   "source": [
    "Now we apply this function."
   ]
  },
  {
   "cell_type": "code",
   "execution_count": 12,
   "id": "57ee2c25-0301-47a8-b0a2-ac87237656ba",
   "metadata": {},
   "outputs": [
    {
     "data": {
      "text/html": [
       "<div>\n",
       "<style scoped>\n",
       "    .dataframe tbody tr th:only-of-type {\n",
       "        vertical-align: middle;\n",
       "    }\n",
       "\n",
       "    .dataframe tbody tr th {\n",
       "        vertical-align: top;\n",
       "    }\n",
       "\n",
       "    .dataframe thead th {\n",
       "        text-align: right;\n",
       "    }\n",
       "</style>\n",
       "<table border=\"1\" class=\"dataframe\">\n",
       "  <thead>\n",
       "    <tr style=\"text-align: right;\">\n",
       "      <th></th>\n",
       "      <th>rotten_tomatoes_link</th>\n",
       "      <th>top_critic</th>\n",
       "      <th>publisher_name</th>\n",
       "      <th>review_type</th>\n",
       "      <th>review_score</th>\n",
       "      <th>review_date</th>\n",
       "    </tr>\n",
       "  </thead>\n",
       "  <tbody>\n",
       "    <tr>\n",
       "      <th>0</th>\n",
       "      <td>m/0814255</td>\n",
       "      <td>0</td>\n",
       "      <td>Urban Cinefile</td>\n",
       "      <td>Fresh</td>\n",
       "      <td>None</td>\n",
       "      <td>2010-02-06</td>\n",
       "    </tr>\n",
       "    <tr>\n",
       "      <th>1</th>\n",
       "      <td>m/0814255</td>\n",
       "      <td>0</td>\n",
       "      <td>Urban Cinefile</td>\n",
       "      <td>Fresh</td>\n",
       "      <td>None</td>\n",
       "      <td>2010-02-06</td>\n",
       "    </tr>\n",
       "    <tr>\n",
       "      <th>2</th>\n",
       "      <td>m/0814255</td>\n",
       "      <td>0</td>\n",
       "      <td>FILMINK (Australia)</td>\n",
       "      <td>Fresh</td>\n",
       "      <td>None</td>\n",
       "      <td>2010-02-09</td>\n",
       "    </tr>\n",
       "    <tr>\n",
       "      <th>3</th>\n",
       "      <td>m/0814255</td>\n",
       "      <td>0</td>\n",
       "      <td>Sunday Mail (Australia)</td>\n",
       "      <td>Fresh</td>\n",
       "      <td>0.7</td>\n",
       "      <td>2010-02-09</td>\n",
       "    </tr>\n",
       "    <tr>\n",
       "      <th>4</th>\n",
       "      <td>m/0814255</td>\n",
       "      <td>1</td>\n",
       "      <td>Hollywood Reporter</td>\n",
       "      <td>Rotten</td>\n",
       "      <td>None</td>\n",
       "      <td>2010-02-10</td>\n",
       "    </tr>\n",
       "  </tbody>\n",
       "</table>\n",
       "</div>"
      ],
      "text/plain": [
       "  rotten_tomatoes_link  top_critic           publisher_name review_type  \\\n",
       "0            m/0814255           0           Urban Cinefile       Fresh   \n",
       "1            m/0814255           0           Urban Cinefile       Fresh   \n",
       "2            m/0814255           0      FILMINK (Australia)       Fresh   \n",
       "3            m/0814255           0  Sunday Mail (Australia)       Fresh   \n",
       "4            m/0814255           1       Hollywood Reporter      Rotten   \n",
       "\n",
       "  review_score review_date  \n",
       "0         None  2010-02-06  \n",
       "1         None  2010-02-06  \n",
       "2         None  2010-02-09  \n",
       "3          0.7  2010-02-09  \n",
       "4         None  2010-02-10  "
      ]
     },
     "execution_count": 12,
     "metadata": {},
     "output_type": "execute_result"
    }
   ],
   "source": [
    "df_r['review_score'] = df_r['review_score'].map(percent)\n",
    "df_r.head()"
   ]
  },
  {
   "cell_type": "markdown",
   "id": "0366aba0-83eb-49c5-b58d-ef85e9f814e7",
   "metadata": {},
   "source": [
    "Let's do a quick check to see that none of the resulting values are over 1."
   ]
  },
  {
   "cell_type": "code",
   "execution_count": 13,
   "id": "5fb0f975-d481-4f66-8bfe-913e576c856e",
   "metadata": {},
   "outputs": [
    {
     "data": {
      "text/plain": [
       "398354      0.0\n",
       "984544      0.0\n",
       "12166       0.0\n",
       "612059      0.0\n",
       "12169       0.0\n",
       "          ...  \n",
       "777549     95.0\n",
       "979139    910.0\n",
       "923019    910.0\n",
       "832900    920.0\n",
       "832901    920.0\n",
       "Name: review_score, Length: 824079, dtype: float64"
      ]
     },
     "execution_count": 13,
     "metadata": {},
     "output_type": "execute_result"
    }
   ],
   "source": [
    "df_r['review_score'] = df_r['review_score'].astype(float)\n",
    "df_r.loc[df_r['review_score'].notna(), 'review_score'].sort_values() #sort the values that aren't Nones/NaNs"
   ]
  },
  {
   "cell_type": "markdown",
   "id": "69e069d3-d93a-41ea-88b2-a7e2529253ef",
   "metadata": {},
   "source": [
    "It appears that there were some bad entries that didn't contain a `/` to let us know what scale was being used. We'll drop these now."
   ]
  },
  {
   "cell_type": "code",
   "execution_count": 14,
   "id": "285bec14-be5e-4a18-947c-bee5cff6e32c",
   "metadata": {},
   "outputs": [],
   "source": [
    "df_r.loc[df_r['review_score'].notna(), 'review_score'] = df_r.loc[df_r['review_score'].notna(), 'review_score'].map(lambda x: x if x <= 1 else np.nan)\n",
    "#the above replaces any non-null values over 1 with NaNs"
   ]
  },
  {
   "cell_type": "markdown",
   "id": "cf2d6ec8-e38b-45f7-9123-4463681fb163",
   "metadata": {},
   "source": [
    "We check to see that all is now well..."
   ]
  },
  {
   "cell_type": "code",
   "execution_count": 15,
   "id": "12657f3a-7f85-4a5c-8254-1bacba4560a8",
   "metadata": {},
   "outputs": [
    {
     "data": {
      "text/plain": [
       "260269    0.0\n",
       "396418    0.0\n",
       "274457    0.0\n",
       "663892    0.0\n",
       "274601    0.0\n",
       "         ... \n",
       "916177    1.0\n",
       "916172    1.0\n",
       "916171    1.0\n",
       "916164    1.0\n",
       "626616    1.0\n",
       "Name: review_score, Length: 822503, dtype: float64"
      ]
     },
     "execution_count": 15,
     "metadata": {},
     "output_type": "execute_result"
    }
   ],
   "source": [
    "df_r.loc[df_r['review_score'].notna(), 'review_score'].sort_values() #sort the values that aren't Nones/NaNs"
   ]
  },
  {
   "cell_type": "markdown",
   "id": "09ac4e99-ebbc-459a-9259-141f0f1b096e",
   "metadata": {},
   "source": [
    "Now we can tackle null values. In order to preserve the number of data points we have, we will replace all null values with the median value of the `review_score` column for the given movie (identified by the `rotten_tomatoes_link`).\n",
    "\n",
    "So, we generate a series containing the median `review_score` for each film."
   ]
  },
  {
   "cell_type": "code",
   "execution_count": 16,
   "id": "4456d2e6-5063-4627-adc0-ece273af27df",
   "metadata": {},
   "outputs": [
    {
     "data": {
      "text/plain": [
       "rotten_tomatoes_link\n",
       "m/+_one_2019                       0.7500\n",
       "m/+h                               0.2875\n",
       "m/-_man                            0.6250\n",
       "m/-cule_valley_of_the_lost_ants    0.8000\n",
       "m/0814255                          0.6000\n",
       "Name: review_score, dtype: float64"
      ]
     },
     "execution_count": 16,
     "metadata": {},
     "output_type": "execute_result"
    }
   ],
   "source": [
    "df_med_sc = df_r.loc[df_r['review_score'].notna()].groupby('rotten_tomatoes_link')['review_score'].median()\n",
    "df_med_sc.head()"
   ]
  },
  {
   "cell_type": "markdown",
   "id": "f8f12a77-d15d-41c6-b038-684485ed56eb",
   "metadata": {},
   "source": [
    "Now, as there is no easy way to access the values of a different series in the middle of a `.map()` function, we will be cheeky and first replace all null values in the `review_score` column with the `rotten_tomatoes_link`."
   ]
  },
  {
   "cell_type": "code",
   "execution_count": 17,
   "id": "7dbc38e1-ab6b-4cbe-b229-11bf4368e708",
   "metadata": {},
   "outputs": [
    {
     "data": {
      "text/html": [
       "<div>\n",
       "<style scoped>\n",
       "    .dataframe tbody tr th:only-of-type {\n",
       "        vertical-align: middle;\n",
       "    }\n",
       "\n",
       "    .dataframe tbody tr th {\n",
       "        vertical-align: top;\n",
       "    }\n",
       "\n",
       "    .dataframe thead th {\n",
       "        text-align: right;\n",
       "    }\n",
       "</style>\n",
       "<table border=\"1\" class=\"dataframe\">\n",
       "  <thead>\n",
       "    <tr style=\"text-align: right;\">\n",
       "      <th></th>\n",
       "      <th>rotten_tomatoes_link</th>\n",
       "      <th>review_score</th>\n",
       "    </tr>\n",
       "  </thead>\n",
       "  <tbody>\n",
       "    <tr>\n",
       "      <th>1129954</th>\n",
       "      <td>m/zootopia</td>\n",
       "      <td>m/zootopia</td>\n",
       "    </tr>\n",
       "    <tr>\n",
       "      <th>1129955</th>\n",
       "      <td>m/zootopia</td>\n",
       "      <td>m/zootopia</td>\n",
       "    </tr>\n",
       "    <tr>\n",
       "      <th>1129962</th>\n",
       "      <td>m/zootopia</td>\n",
       "      <td>m/zootopia</td>\n",
       "    </tr>\n",
       "    <tr>\n",
       "      <th>1129964</th>\n",
       "      <td>m/zootopia</td>\n",
       "      <td>m/zootopia</td>\n",
       "    </tr>\n",
       "    <tr>\n",
       "      <th>1129966</th>\n",
       "      <td>m/zootopia</td>\n",
       "      <td>m/zootopia</td>\n",
       "    </tr>\n",
       "    <tr>\n",
       "      <th>1129967</th>\n",
       "      <td>m/zootopia</td>\n",
       "      <td>m/zootopia</td>\n",
       "    </tr>\n",
       "    <tr>\n",
       "      <th>1129968</th>\n",
       "      <td>m/zootopia</td>\n",
       "      <td>m/zootopia</td>\n",
       "    </tr>\n",
       "    <tr>\n",
       "      <th>1129969</th>\n",
       "      <td>m/zootopia</td>\n",
       "      <td>m/zootopia</td>\n",
       "    </tr>\n",
       "    <tr>\n",
       "      <th>1129971</th>\n",
       "      <td>m/zootopia</td>\n",
       "      <td>m/zootopia</td>\n",
       "    </tr>\n",
       "    <tr>\n",
       "      <th>1129972</th>\n",
       "      <td>m/zootopia</td>\n",
       "      <td>m/zootopia</td>\n",
       "    </tr>\n",
       "    <tr>\n",
       "      <th>1129977</th>\n",
       "      <td>m/zorba_the_greek</td>\n",
       "      <td>m/zorba_the_greek</td>\n",
       "    </tr>\n",
       "    <tr>\n",
       "      <th>1129984</th>\n",
       "      <td>m/zorba_the_greek</td>\n",
       "      <td>m/zorba_the_greek</td>\n",
       "    </tr>\n",
       "    <tr>\n",
       "      <th>1129985</th>\n",
       "      <td>m/zorba_the_greek</td>\n",
       "      <td>m/zorba_the_greek</td>\n",
       "    </tr>\n",
       "    <tr>\n",
       "      <th>1129989</th>\n",
       "      <td>m/zulu</td>\n",
       "      <td>m/zulu</td>\n",
       "    </tr>\n",
       "    <tr>\n",
       "      <th>1129997</th>\n",
       "      <td>m/zulu</td>\n",
       "      <td>m/zulu</td>\n",
       "    </tr>\n",
       "    <tr>\n",
       "      <th>1129998</th>\n",
       "      <td>m/zulu</td>\n",
       "      <td>m/zulu</td>\n",
       "    </tr>\n",
       "    <tr>\n",
       "      <th>1130001</th>\n",
       "      <td>m/zulu</td>\n",
       "      <td>m/zulu</td>\n",
       "    </tr>\n",
       "    <tr>\n",
       "      <th>1130003</th>\n",
       "      <td>m/zulu</td>\n",
       "      <td>m/zulu</td>\n",
       "    </tr>\n",
       "    <tr>\n",
       "      <th>1130007</th>\n",
       "      <td>m/zulu</td>\n",
       "      <td>m/zulu</td>\n",
       "    </tr>\n",
       "    <tr>\n",
       "      <th>1130008</th>\n",
       "      <td>m/zulu</td>\n",
       "      <td>m/zulu</td>\n",
       "    </tr>\n",
       "  </tbody>\n",
       "</table>\n",
       "</div>"
      ],
      "text/plain": [
       "        rotten_tomatoes_link       review_score\n",
       "1129954           m/zootopia         m/zootopia\n",
       "1129955           m/zootopia         m/zootopia\n",
       "1129962           m/zootopia         m/zootopia\n",
       "1129964           m/zootopia         m/zootopia\n",
       "1129966           m/zootopia         m/zootopia\n",
       "1129967           m/zootopia         m/zootopia\n",
       "1129968           m/zootopia         m/zootopia\n",
       "1129969           m/zootopia         m/zootopia\n",
       "1129971           m/zootopia         m/zootopia\n",
       "1129972           m/zootopia         m/zootopia\n",
       "1129977    m/zorba_the_greek  m/zorba_the_greek\n",
       "1129984    m/zorba_the_greek  m/zorba_the_greek\n",
       "1129985    m/zorba_the_greek  m/zorba_the_greek\n",
       "1129989               m/zulu             m/zulu\n",
       "1129997               m/zulu             m/zulu\n",
       "1129998               m/zulu             m/zulu\n",
       "1130001               m/zulu             m/zulu\n",
       "1130003               m/zulu             m/zulu\n",
       "1130007               m/zulu             m/zulu\n",
       "1130008               m/zulu             m/zulu"
      ]
     },
     "execution_count": 17,
     "metadata": {},
     "output_type": "execute_result"
    }
   ],
   "source": [
    "def check_string(val): #checks if the input is a string\n",
    "    if type(val) == str:\n",
    "        return True\n",
    "    return False\n",
    "\n",
    "df_r.loc[df_r['review_score'].isna(), 'review_score'] = df_r['rotten_tomatoes_link'] #replacing nulls with links\n",
    "df_r.loc[df_r['review_score'].map(check_string), ['rotten_tomatoes_link','review_score']].tail(20)\n",
    "#displaying the link and score columns for any row with a string in the score column\n",
    "#this is done to check that the replacements happened as intended"
   ]
  },
  {
   "cell_type": "markdown",
   "id": "32dbbf6e-1ea7-48a4-ac63-f9c292a4ff65",
   "metadata": {},
   "source": [
    "Now we can go through the `review_score` column and replace any string value with the median score for that film."
   ]
  },
  {
   "cell_type": "code",
   "execution_count": 18,
   "id": "a010bbca-02f1-4347-9844-3ff9a75f9769",
   "metadata": {},
   "outputs": [
    {
     "data": {
      "text/plain": [
       "<class 'float'>    1130017\n",
       "Name: review_score, dtype: int64"
      ]
     },
     "execution_count": 18,
     "metadata": {},
     "output_type": "execute_result"
    }
   ],
   "source": [
    "def replace_with_med(score): #defining a function to replace strings with the appropriate median value from the Series we made\n",
    "    if type(score) == float:\n",
    "        return score\n",
    "    elif score in df_med_sc.index:\n",
    "        return df_med_sc[score]\n",
    "    else:\n",
    "        return None\n",
    "    \n",
    "df_r['review_score'] = df_r['review_score'].map(replace_with_med) #using the function to fix the review scores\n",
    "df_r['review_score'].map(lambda x: type(x)).value_counts() #checking what kind of values remain"
   ]
  },
  {
   "cell_type": "markdown",
   "id": "b0d5ca11-66c2-49b4-b89b-362d55d27bd4",
   "metadata": {},
   "source": [
    "Nice! Only `float`s remain. Let's double check to be sure:"
   ]
  },
  {
   "cell_type": "code",
   "execution_count": 19,
   "id": "71a3102b-5cac-46a0-adeb-baad63b9d52f",
   "metadata": {},
   "outputs": [
    {
     "data": {
      "text/plain": [
       "rotten_tomatoes_link      0\n",
       "top_critic                0\n",
       "publisher_name            0\n",
       "review_type               0\n",
       "review_score            238\n",
       "review_date               0\n",
       "dtype: int64"
      ]
     },
     "execution_count": 19,
     "metadata": {},
     "output_type": "execute_result"
    }
   ],
   "source": [
    "df_r.isna().sum()"
   ]
  },
  {
   "cell_type": "markdown",
   "id": "9f2d9540-e754-4b98-bfdd-40f7af7e4c53",
   "metadata": {},
   "source": [
    "This likely means certain films didn't have any reviews without null scores from the beginning, and thus they did not appear in the median score Series we made. We'll drop these, as they were never useful in the first place."
   ]
  },
  {
   "cell_type": "code",
   "execution_count": 20,
   "id": "ae30705e-130e-44c0-8069-0ad7e04a64a9",
   "metadata": {},
   "outputs": [
    {
     "name": "stdout",
     "output_type": "stream",
     "text": [
      "(1129779, 6)\n"
     ]
    },
    {
     "data": {
      "text/plain": [
       "rotten_tomatoes_link    0\n",
       "top_critic              0\n",
       "publisher_name          0\n",
       "review_type             0\n",
       "review_score            0\n",
       "review_date             0\n",
       "dtype: int64"
      ]
     },
     "execution_count": 20,
     "metadata": {},
     "output_type": "execute_result"
    }
   ],
   "source": [
    "df_r.dropna(inplace = True)\n",
    "print(df_r.shape) #to get a feel for how many values were lost\n",
    "df_r.isna().sum()"
   ]
  },
  {
   "cell_type": "markdown",
   "id": "2434a855-a5a4-47a6-a3a6-e18b66ab7766",
   "metadata": {},
   "source": [
    "Hardly any records were lost. Now, let's work on the `review_date` column, converting it to a `datetime` object. First, we check the format of the `review_date` strings."
   ]
  },
  {
   "cell_type": "code",
   "execution_count": 21,
   "id": "3ae3a077-d921-4655-ae98-e97ab235a13d",
   "metadata": {},
   "outputs": [
    {
     "data": {
      "text/plain": [
       "0    2010-02-06\n",
       "1    2010-02-06\n",
       "2    2010-02-09\n",
       "3    2010-02-09\n",
       "4    2010-02-10\n",
       "Name: review_date, dtype: object"
      ]
     },
     "execution_count": 21,
     "metadata": {},
     "output_type": "execute_result"
    }
   ],
   "source": [
    "df_r['review_date'].head()"
   ]
  },
  {
   "cell_type": "markdown",
   "id": "eff9872c-a084-4b15-a8c0-644b37c7f963",
   "metadata": {},
   "source": [
    "Now, we convert these."
   ]
  },
  {
   "cell_type": "code",
   "execution_count": 22,
   "id": "4937208a-9778-4172-9861-f38ecbfaa4cb",
   "metadata": {},
   "outputs": [],
   "source": [
    "df_r['review_date'] = df_r['review_date'].map(lambda x: time.strptime(x, \"%Y-%m-%d\"))"
   ]
  },
  {
   "cell_type": "markdown",
   "id": "7adece1f-42da-4c8a-8c5a-9498a97013a9",
   "metadata": {},
   "source": [
    "Now, we move on to cleaning the movies table. To refresh our memory, let's take a peek:"
   ]
  },
  {
   "cell_type": "code",
   "execution_count": 23,
   "id": "eae83a81-3384-4cd2-a70f-f37e5bfb3461",
   "metadata": {},
   "outputs": [
    {
     "name": "stdout",
     "output_type": "stream",
     "text": [
      "(17712, 23)\n"
     ]
    },
    {
     "data": {
      "text/html": [
       "<div>\n",
       "<style scoped>\n",
       "    .dataframe tbody tr th:only-of-type {\n",
       "        vertical-align: middle;\n",
       "    }\n",
       "\n",
       "    .dataframe tbody tr th {\n",
       "        vertical-align: top;\n",
       "    }\n",
       "\n",
       "    .dataframe thead th {\n",
       "        text-align: right;\n",
       "    }\n",
       "</style>\n",
       "<table border=\"1\" class=\"dataframe\">\n",
       "  <thead>\n",
       "    <tr style=\"text-align: right;\">\n",
       "      <th></th>\n",
       "      <th>idx</th>\n",
       "      <th>rotten_tomatoes_link</th>\n",
       "      <th>movie_title</th>\n",
       "      <th>movie_info</th>\n",
       "      <th>critics_consensus</th>\n",
       "      <th>content_rating</th>\n",
       "      <th>genres</th>\n",
       "      <th>directors</th>\n",
       "      <th>authors</th>\n",
       "      <th>actors</th>\n",
       "      <th>...</th>\n",
       "      <th>production_company</th>\n",
       "      <th>tomatometer_status</th>\n",
       "      <th>tomatometer_rating</th>\n",
       "      <th>tomatometer_count</th>\n",
       "      <th>audience_status</th>\n",
       "      <th>audience_rating</th>\n",
       "      <th>audience_count</th>\n",
       "      <th>tomatometer_top_critics_count</th>\n",
       "      <th>tomatometer_fresh_critics_count</th>\n",
       "      <th>tomatometer_rotten_critics_count</th>\n",
       "    </tr>\n",
       "  </thead>\n",
       "  <tbody>\n",
       "    <tr>\n",
       "      <th>0</th>\n",
       "      <td>0</td>\n",
       "      <td>m/0814255</td>\n",
       "      <td>Percy Jackson &amp; the Olympians: The Lightning T...</td>\n",
       "      <td>Always trouble-prone, the life of teenager Per...</td>\n",
       "      <td>Though it may seem like just another Harry Pot...</td>\n",
       "      <td>PG</td>\n",
       "      <td>Action &amp; Adventure, Comedy, Drama, Science Fic...</td>\n",
       "      <td>Chris Columbus</td>\n",
       "      <td>Craig Titley, Chris Columbus, Rick Riordan</td>\n",
       "      <td>Logan Lerman, Brandon T. Jackson, Alexandra Da...</td>\n",
       "      <td>...</td>\n",
       "      <td>20th Century Fox</td>\n",
       "      <td>Rotten</td>\n",
       "      <td>49.0</td>\n",
       "      <td>149.0</td>\n",
       "      <td>Spilled</td>\n",
       "      <td>53.0</td>\n",
       "      <td>254421.0</td>\n",
       "      <td>43</td>\n",
       "      <td>73</td>\n",
       "      <td>76</td>\n",
       "    </tr>\n",
       "    <tr>\n",
       "      <th>1</th>\n",
       "      <td>1</td>\n",
       "      <td>m/0878835</td>\n",
       "      <td>Please Give</td>\n",
       "      <td>Kate (Catherine Keener) and her husband Alex (...</td>\n",
       "      <td>Nicole Holofcener's newest might seem slight i...</td>\n",
       "      <td>R</td>\n",
       "      <td>Comedy</td>\n",
       "      <td>Nicole Holofcener</td>\n",
       "      <td>Nicole Holofcener</td>\n",
       "      <td>Catherine Keener, Amanda Peet, Oliver Platt, R...</td>\n",
       "      <td>...</td>\n",
       "      <td>Sony Pictures Classics</td>\n",
       "      <td>Certified-Fresh</td>\n",
       "      <td>87.0</td>\n",
       "      <td>142.0</td>\n",
       "      <td>Upright</td>\n",
       "      <td>64.0</td>\n",
       "      <td>11574.0</td>\n",
       "      <td>44</td>\n",
       "      <td>123</td>\n",
       "      <td>19</td>\n",
       "    </tr>\n",
       "    <tr>\n",
       "      <th>2</th>\n",
       "      <td>2</td>\n",
       "      <td>m/10</td>\n",
       "      <td>10</td>\n",
       "      <td>A successful, middle-aged Hollywood songwriter...</td>\n",
       "      <td>Blake Edwards' bawdy comedy may not score a pe...</td>\n",
       "      <td>R</td>\n",
       "      <td>Comedy, Romance</td>\n",
       "      <td>Blake Edwards</td>\n",
       "      <td>Blake Edwards</td>\n",
       "      <td>Dudley Moore, Bo Derek, Julie Andrews, Robert ...</td>\n",
       "      <td>...</td>\n",
       "      <td>Waner Bros.</td>\n",
       "      <td>Fresh</td>\n",
       "      <td>67.0</td>\n",
       "      <td>24.0</td>\n",
       "      <td>Spilled</td>\n",
       "      <td>53.0</td>\n",
       "      <td>14684.0</td>\n",
       "      <td>2</td>\n",
       "      <td>16</td>\n",
       "      <td>8</td>\n",
       "    </tr>\n",
       "    <tr>\n",
       "      <th>3</th>\n",
       "      <td>3</td>\n",
       "      <td>m/1000013-12_angry_men</td>\n",
       "      <td>12 Angry Men (Twelve Angry Men)</td>\n",
       "      <td>Following the closing arguments in a murder tr...</td>\n",
       "      <td>Sidney Lumet's feature debut is a superbly wri...</td>\n",
       "      <td>NR</td>\n",
       "      <td>Classics, Drama</td>\n",
       "      <td>Sidney Lumet</td>\n",
       "      <td>Reginald Rose</td>\n",
       "      <td>Martin Balsam, John Fiedler, Lee J. Cobb, E.G....</td>\n",
       "      <td>...</td>\n",
       "      <td>Criterion Collection</td>\n",
       "      <td>Certified-Fresh</td>\n",
       "      <td>100.0</td>\n",
       "      <td>54.0</td>\n",
       "      <td>Upright</td>\n",
       "      <td>97.0</td>\n",
       "      <td>105386.0</td>\n",
       "      <td>6</td>\n",
       "      <td>54</td>\n",
       "      <td>0</td>\n",
       "    </tr>\n",
       "    <tr>\n",
       "      <th>4</th>\n",
       "      <td>4</td>\n",
       "      <td>m/1000079-20000_leagues_under_the_sea</td>\n",
       "      <td>20,000 Leagues Under The Sea</td>\n",
       "      <td>In 1866, Professor Pierre M. Aronnax (Paul Luk...</td>\n",
       "      <td>One of Disney's finest live-action adventures,...</td>\n",
       "      <td>G</td>\n",
       "      <td>Action &amp; Adventure, Drama, Kids &amp; Family</td>\n",
       "      <td>Richard Fleischer</td>\n",
       "      <td>Earl Felton</td>\n",
       "      <td>James Mason, Kirk Douglas, Paul Lukas, Peter L...</td>\n",
       "      <td>...</td>\n",
       "      <td>Disney</td>\n",
       "      <td>Fresh</td>\n",
       "      <td>89.0</td>\n",
       "      <td>27.0</td>\n",
       "      <td>Upright</td>\n",
       "      <td>74.0</td>\n",
       "      <td>68918.0</td>\n",
       "      <td>5</td>\n",
       "      <td>24</td>\n",
       "      <td>3</td>\n",
       "    </tr>\n",
       "  </tbody>\n",
       "</table>\n",
       "<p>5 rows × 23 columns</p>\n",
       "</div>"
      ],
      "text/plain": [
       "   idx                   rotten_tomatoes_link  \\\n",
       "0    0                              m/0814255   \n",
       "1    1                              m/0878835   \n",
       "2    2                                   m/10   \n",
       "3    3                 m/1000013-12_angry_men   \n",
       "4    4  m/1000079-20000_leagues_under_the_sea   \n",
       "\n",
       "                                         movie_title  \\\n",
       "0  Percy Jackson & the Olympians: The Lightning T...   \n",
       "1                                        Please Give   \n",
       "2                                                 10   \n",
       "3                    12 Angry Men (Twelve Angry Men)   \n",
       "4                       20,000 Leagues Under The Sea   \n",
       "\n",
       "                                          movie_info  \\\n",
       "0  Always trouble-prone, the life of teenager Per...   \n",
       "1  Kate (Catherine Keener) and her husband Alex (...   \n",
       "2  A successful, middle-aged Hollywood songwriter...   \n",
       "3  Following the closing arguments in a murder tr...   \n",
       "4  In 1866, Professor Pierre M. Aronnax (Paul Luk...   \n",
       "\n",
       "                                   critics_consensus content_rating  \\\n",
       "0  Though it may seem like just another Harry Pot...             PG   \n",
       "1  Nicole Holofcener's newest might seem slight i...              R   \n",
       "2  Blake Edwards' bawdy comedy may not score a pe...              R   \n",
       "3  Sidney Lumet's feature debut is a superbly wri...             NR   \n",
       "4  One of Disney's finest live-action adventures,...              G   \n",
       "\n",
       "                                              genres          directors  \\\n",
       "0  Action & Adventure, Comedy, Drama, Science Fic...     Chris Columbus   \n",
       "1                                             Comedy  Nicole Holofcener   \n",
       "2                                    Comedy, Romance      Blake Edwards   \n",
       "3                                    Classics, Drama       Sidney Lumet   \n",
       "4           Action & Adventure, Drama, Kids & Family  Richard Fleischer   \n",
       "\n",
       "                                      authors  \\\n",
       "0  Craig Titley, Chris Columbus, Rick Riordan   \n",
       "1                           Nicole Holofcener   \n",
       "2                               Blake Edwards   \n",
       "3                               Reginald Rose   \n",
       "4                                 Earl Felton   \n",
       "\n",
       "                                              actors  ...  \\\n",
       "0  Logan Lerman, Brandon T. Jackson, Alexandra Da...  ...   \n",
       "1  Catherine Keener, Amanda Peet, Oliver Platt, R...  ...   \n",
       "2  Dudley Moore, Bo Derek, Julie Andrews, Robert ...  ...   \n",
       "3  Martin Balsam, John Fiedler, Lee J. Cobb, E.G....  ...   \n",
       "4  James Mason, Kirk Douglas, Paul Lukas, Peter L...  ...   \n",
       "\n",
       "       production_company tomatometer_status  tomatometer_rating  \\\n",
       "0        20th Century Fox             Rotten                49.0   \n",
       "1  Sony Pictures Classics    Certified-Fresh                87.0   \n",
       "2             Waner Bros.              Fresh                67.0   \n",
       "3    Criterion Collection    Certified-Fresh               100.0   \n",
       "4                  Disney              Fresh                89.0   \n",
       "\n",
       "  tomatometer_count audience_status  audience_rating  audience_count  \\\n",
       "0             149.0         Spilled             53.0        254421.0   \n",
       "1             142.0         Upright             64.0         11574.0   \n",
       "2              24.0         Spilled             53.0         14684.0   \n",
       "3              54.0         Upright             97.0        105386.0   \n",
       "4              27.0         Upright             74.0         68918.0   \n",
       "\n",
       "  tomatometer_top_critics_count  tomatometer_fresh_critics_count  \\\n",
       "0                            43                               73   \n",
       "1                            44                              123   \n",
       "2                             2                               16   \n",
       "3                             6                               54   \n",
       "4                             5                               24   \n",
       "\n",
       "   tomatometer_rotten_critics_count  \n",
       "0                                76  \n",
       "1                                19  \n",
       "2                                 8  \n",
       "3                                 0  \n",
       "4                                 3  \n",
       "\n",
       "[5 rows x 23 columns]"
      ]
     },
     "execution_count": 23,
     "metadata": {},
     "output_type": "execute_result"
    }
   ],
   "source": [
    "print(df_m.shape)\n",
    "df_m.head()"
   ]
  },
  {
   "cell_type": "markdown",
   "id": "defc5694-635b-4f25-89e2-b2f03900fe07",
   "metadata": {},
   "source": [
    "Let's drop all the columns that we won't be using."
   ]
  },
  {
   "cell_type": "code",
   "execution_count": 24,
   "id": "07c3e18b-ed2c-40ef-bb2d-c8301b49005c",
   "metadata": {},
   "outputs": [],
   "source": [
    "df_m.drop(['critics_consensus','movie_info','tomatometer_top_critics_count',\n",
    "           'tomatometer_fresh_critics_count','tomatometer_rotten_critics_count','idx'], axis = 1, inplace = True)"
   ]
  },
  {
   "cell_type": "markdown",
   "id": "520ed11e-a72a-49b6-949e-f69d633c1dae",
   "metadata": {},
   "source": [
    "Now we check for nulls."
   ]
  },
  {
   "cell_type": "code",
   "execution_count": 25,
   "id": "bac0180a-c036-4ec4-a343-9ca68d812325",
   "metadata": {},
   "outputs": [
    {
     "data": {
      "text/plain": [
       "rotten_tomatoes_link         0\n",
       "movie_title                  0\n",
       "content_rating               0\n",
       "genres                      19\n",
       "directors                  194\n",
       "authors                   1542\n",
       "actors                     352\n",
       "original_release_date     1166\n",
       "streaming_release_date     384\n",
       "runtime                    314\n",
       "production_company         499\n",
       "tomatometer_status          44\n",
       "tomatometer_rating          44\n",
       "tomatometer_count           44\n",
       "audience_status            448\n",
       "audience_rating            296\n",
       "audience_count             297\n",
       "dtype: int64"
      ]
     },
     "execution_count": 25,
     "metadata": {},
     "output_type": "execute_result"
    }
   ],
   "source": [
    "df_m.isna().sum()"
   ]
  },
  {
   "cell_type": "markdown",
   "id": "e8c015bf-5c70-4d3e-bd82-690da18e58f3",
   "metadata": {},
   "source": [
    "There's no simple way to replace missing values with central values, as each movie should appear only once. Additionally, many of the missing values are categorical or text based. So, we simply drop these."
   ]
  },
  {
   "cell_type": "code",
   "execution_count": 26,
   "id": "a2c52630-400e-4648-921f-e54e96f2d0c0",
   "metadata": {},
   "outputs": [
    {
     "data": {
      "text/plain": [
       "rotten_tomatoes_link      0\n",
       "movie_title               0\n",
       "content_rating            0\n",
       "genres                    0\n",
       "directors                 0\n",
       "authors                   0\n",
       "actors                    0\n",
       "original_release_date     0\n",
       "streaming_release_date    0\n",
       "runtime                   0\n",
       "production_company        0\n",
       "tomatometer_status        0\n",
       "tomatometer_rating        0\n",
       "tomatometer_count         0\n",
       "audience_status           0\n",
       "audience_rating           0\n",
       "audience_count            0\n",
       "dtype: int64"
      ]
     },
     "execution_count": 26,
     "metadata": {},
     "output_type": "execute_result"
    }
   ],
   "source": [
    "df_m.dropna(inplace = True)\n",
    "df_m.isna().sum()"
   ]
  },
  {
   "cell_type": "markdown",
   "id": "6c0cca88-a48c-4475-90c0-b5c8de274e53",
   "metadata": {},
   "source": [
    "Let's also quickly convert the two date columns to `datetime`."
   ]
  },
  {
   "cell_type": "code",
   "execution_count": 27,
   "id": "0db8d7b0-d019-4d05-8e87-04b4bcbd57f9",
   "metadata": {},
   "outputs": [],
   "source": [
    "df_m['original_release_date'] = df_m['original_release_date'].map(lambda x: time.strptime(x, \"%Y-%m-%d\"))\n",
    "df_m['streaming_release_date'] = df_m['streaming_release_date'].map(lambda x: time.strptime(x, \"%Y-%m-%d\"))"
   ]
  },
  {
   "cell_type": "markdown",
   "id": "3d434f8c-a108-4d7f-8d76-6ad1c5828158",
   "metadata": {},
   "source": [
    "A quick check for duplicates.."
   ]
  },
  {
   "cell_type": "code",
   "execution_count": 28,
   "id": "12b9d9a3-f268-4fea-9de8-3a0fdc1c561b",
   "metadata": {},
   "outputs": [
    {
     "data": {
      "text/html": [
       "<div>\n",
       "<style scoped>\n",
       "    .dataframe tbody tr th:only-of-type {\n",
       "        vertical-align: middle;\n",
       "    }\n",
       "\n",
       "    .dataframe tbody tr th {\n",
       "        vertical-align: top;\n",
       "    }\n",
       "\n",
       "    .dataframe thead th {\n",
       "        text-align: right;\n",
       "    }\n",
       "</style>\n",
       "<table border=\"1\" class=\"dataframe\">\n",
       "  <thead>\n",
       "    <tr style=\"text-align: right;\">\n",
       "      <th></th>\n",
       "      <th>rotten_tomatoes_link</th>\n",
       "      <th>movie_title</th>\n",
       "      <th>content_rating</th>\n",
       "      <th>genres</th>\n",
       "      <th>directors</th>\n",
       "      <th>authors</th>\n",
       "      <th>actors</th>\n",
       "      <th>original_release_date</th>\n",
       "      <th>streaming_release_date</th>\n",
       "      <th>runtime</th>\n",
       "      <th>production_company</th>\n",
       "      <th>tomatometer_status</th>\n",
       "      <th>tomatometer_rating</th>\n",
       "      <th>tomatometer_count</th>\n",
       "      <th>audience_status</th>\n",
       "      <th>audience_rating</th>\n",
       "      <th>audience_count</th>\n",
       "    </tr>\n",
       "  </thead>\n",
       "  <tbody>\n",
       "  </tbody>\n",
       "</table>\n",
       "</div>"
      ],
      "text/plain": [
       "Empty DataFrame\n",
       "Columns: [rotten_tomatoes_link, movie_title, content_rating, genres, directors, authors, actors, original_release_date, streaming_release_date, runtime, production_company, tomatometer_status, tomatometer_rating, tomatometer_count, audience_status, audience_rating, audience_count]\n",
       "Index: []"
      ]
     },
     "execution_count": 28,
     "metadata": {},
     "output_type": "execute_result"
    }
   ],
   "source": [
    "df_m.loc[df_m.duplicated(['movie_title','original_release_date'])]"
   ]
  },
  {
   "cell_type": "markdown",
   "id": "6a1494d0-6caf-4abb-be78-c7b3b87ef5bc",
   "metadata": {},
   "source": [
    "Now that we've mostly cleaned both Rotten Tomatoes tables, we can join them using the `rotten_tomatoes_link` column"
   ]
  },
  {
   "cell_type": "code",
   "execution_count": 29,
   "id": "a4ba8099-6e50-4584-94a0-d12bf8a80937",
   "metadata": {},
   "outputs": [
    {
     "name": "stdout",
     "output_type": "stream",
     "text": [
      "(1003058, 21)\n"
     ]
    },
    {
     "data": {
      "text/html": [
       "<div>\n",
       "<style scoped>\n",
       "    .dataframe tbody tr th:only-of-type {\n",
       "        vertical-align: middle;\n",
       "    }\n",
       "\n",
       "    .dataframe tbody tr th {\n",
       "        vertical-align: top;\n",
       "    }\n",
       "\n",
       "    .dataframe thead th {\n",
       "        text-align: right;\n",
       "    }\n",
       "</style>\n",
       "<table border=\"1\" class=\"dataframe\">\n",
       "  <thead>\n",
       "    <tr style=\"text-align: right;\">\n",
       "      <th></th>\n",
       "      <th>movie_title</th>\n",
       "      <th>content_rating</th>\n",
       "      <th>genres</th>\n",
       "      <th>directors</th>\n",
       "      <th>authors</th>\n",
       "      <th>actors</th>\n",
       "      <th>original_release_date</th>\n",
       "      <th>streaming_release_date</th>\n",
       "      <th>runtime</th>\n",
       "      <th>production_company</th>\n",
       "      <th>...</th>\n",
       "      <th>tomatometer_rating</th>\n",
       "      <th>tomatometer_count</th>\n",
       "      <th>audience_status</th>\n",
       "      <th>audience_rating</th>\n",
       "      <th>audience_count</th>\n",
       "      <th>top_critic</th>\n",
       "      <th>publisher_name</th>\n",
       "      <th>review_type</th>\n",
       "      <th>review_score</th>\n",
       "      <th>review_date</th>\n",
       "    </tr>\n",
       "    <tr>\n",
       "      <th>rotten_tomatoes_link</th>\n",
       "      <th></th>\n",
       "      <th></th>\n",
       "      <th></th>\n",
       "      <th></th>\n",
       "      <th></th>\n",
       "      <th></th>\n",
       "      <th></th>\n",
       "      <th></th>\n",
       "      <th></th>\n",
       "      <th></th>\n",
       "      <th></th>\n",
       "      <th></th>\n",
       "      <th></th>\n",
       "      <th></th>\n",
       "      <th></th>\n",
       "      <th></th>\n",
       "      <th></th>\n",
       "      <th></th>\n",
       "      <th></th>\n",
       "      <th></th>\n",
       "      <th></th>\n",
       "    </tr>\n",
       "  </thead>\n",
       "  <tbody>\n",
       "    <tr>\n",
       "      <th>m/0814255</th>\n",
       "      <td>Percy Jackson &amp; the Olympians: The Lightning T...</td>\n",
       "      <td>PG</td>\n",
       "      <td>Action &amp; Adventure, Comedy, Drama, Science Fic...</td>\n",
       "      <td>Chris Columbus</td>\n",
       "      <td>Craig Titley, Chris Columbus, Rick Riordan</td>\n",
       "      <td>Logan Lerman, Brandon T. Jackson, Alexandra Da...</td>\n",
       "      <td>(2010, 2, 12, 0, 0, 0, 4, 43, -1)</td>\n",
       "      <td>(2015, 11, 25, 0, 0, 0, 2, 329, -1)</td>\n",
       "      <td>119.0</td>\n",
       "      <td>20th Century Fox</td>\n",
       "      <td>...</td>\n",
       "      <td>49.0</td>\n",
       "      <td>149.0</td>\n",
       "      <td>Spilled</td>\n",
       "      <td>53.0</td>\n",
       "      <td>254421.0</td>\n",
       "      <td>0.0</td>\n",
       "      <td>Urban Cinefile</td>\n",
       "      <td>Fresh</td>\n",
       "      <td>0.6</td>\n",
       "      <td>(2010, 2, 6, 0, 0, 0, 5, 37, -1)</td>\n",
       "    </tr>\n",
       "    <tr>\n",
       "      <th>m/0814255</th>\n",
       "      <td>Percy Jackson &amp; the Olympians: The Lightning T...</td>\n",
       "      <td>PG</td>\n",
       "      <td>Action &amp; Adventure, Comedy, Drama, Science Fic...</td>\n",
       "      <td>Chris Columbus</td>\n",
       "      <td>Craig Titley, Chris Columbus, Rick Riordan</td>\n",
       "      <td>Logan Lerman, Brandon T. Jackson, Alexandra Da...</td>\n",
       "      <td>(2010, 2, 12, 0, 0, 0, 4, 43, -1)</td>\n",
       "      <td>(2015, 11, 25, 0, 0, 0, 2, 329, -1)</td>\n",
       "      <td>119.0</td>\n",
       "      <td>20th Century Fox</td>\n",
       "      <td>...</td>\n",
       "      <td>49.0</td>\n",
       "      <td>149.0</td>\n",
       "      <td>Spilled</td>\n",
       "      <td>53.0</td>\n",
       "      <td>254421.0</td>\n",
       "      <td>0.0</td>\n",
       "      <td>Urban Cinefile</td>\n",
       "      <td>Fresh</td>\n",
       "      <td>0.6</td>\n",
       "      <td>(2010, 2, 6, 0, 0, 0, 5, 37, -1)</td>\n",
       "    </tr>\n",
       "    <tr>\n",
       "      <th>m/0814255</th>\n",
       "      <td>Percy Jackson &amp; the Olympians: The Lightning T...</td>\n",
       "      <td>PG</td>\n",
       "      <td>Action &amp; Adventure, Comedy, Drama, Science Fic...</td>\n",
       "      <td>Chris Columbus</td>\n",
       "      <td>Craig Titley, Chris Columbus, Rick Riordan</td>\n",
       "      <td>Logan Lerman, Brandon T. Jackson, Alexandra Da...</td>\n",
       "      <td>(2010, 2, 12, 0, 0, 0, 4, 43, -1)</td>\n",
       "      <td>(2015, 11, 25, 0, 0, 0, 2, 329, -1)</td>\n",
       "      <td>119.0</td>\n",
       "      <td>20th Century Fox</td>\n",
       "      <td>...</td>\n",
       "      <td>49.0</td>\n",
       "      <td>149.0</td>\n",
       "      <td>Spilled</td>\n",
       "      <td>53.0</td>\n",
       "      <td>254421.0</td>\n",
       "      <td>0.0</td>\n",
       "      <td>FILMINK (Australia)</td>\n",
       "      <td>Fresh</td>\n",
       "      <td>0.6</td>\n",
       "      <td>(2010, 2, 9, 0, 0, 0, 1, 40, -1)</td>\n",
       "    </tr>\n",
       "    <tr>\n",
       "      <th>m/0814255</th>\n",
       "      <td>Percy Jackson &amp; the Olympians: The Lightning T...</td>\n",
       "      <td>PG</td>\n",
       "      <td>Action &amp; Adventure, Comedy, Drama, Science Fic...</td>\n",
       "      <td>Chris Columbus</td>\n",
       "      <td>Craig Titley, Chris Columbus, Rick Riordan</td>\n",
       "      <td>Logan Lerman, Brandon T. Jackson, Alexandra Da...</td>\n",
       "      <td>(2010, 2, 12, 0, 0, 0, 4, 43, -1)</td>\n",
       "      <td>(2015, 11, 25, 0, 0, 0, 2, 329, -1)</td>\n",
       "      <td>119.0</td>\n",
       "      <td>20th Century Fox</td>\n",
       "      <td>...</td>\n",
       "      <td>49.0</td>\n",
       "      <td>149.0</td>\n",
       "      <td>Spilled</td>\n",
       "      <td>53.0</td>\n",
       "      <td>254421.0</td>\n",
       "      <td>0.0</td>\n",
       "      <td>Sunday Mail (Australia)</td>\n",
       "      <td>Fresh</td>\n",
       "      <td>0.7</td>\n",
       "      <td>(2010, 2, 9, 0, 0, 0, 1, 40, -1)</td>\n",
       "    </tr>\n",
       "    <tr>\n",
       "      <th>m/0814255</th>\n",
       "      <td>Percy Jackson &amp; the Olympians: The Lightning T...</td>\n",
       "      <td>PG</td>\n",
       "      <td>Action &amp; Adventure, Comedy, Drama, Science Fic...</td>\n",
       "      <td>Chris Columbus</td>\n",
       "      <td>Craig Titley, Chris Columbus, Rick Riordan</td>\n",
       "      <td>Logan Lerman, Brandon T. Jackson, Alexandra Da...</td>\n",
       "      <td>(2010, 2, 12, 0, 0, 0, 4, 43, -1)</td>\n",
       "      <td>(2015, 11, 25, 0, 0, 0, 2, 329, -1)</td>\n",
       "      <td>119.0</td>\n",
       "      <td>20th Century Fox</td>\n",
       "      <td>...</td>\n",
       "      <td>49.0</td>\n",
       "      <td>149.0</td>\n",
       "      <td>Spilled</td>\n",
       "      <td>53.0</td>\n",
       "      <td>254421.0</td>\n",
       "      <td>1.0</td>\n",
       "      <td>Hollywood Reporter</td>\n",
       "      <td>Rotten</td>\n",
       "      <td>0.6</td>\n",
       "      <td>(2010, 2, 10, 0, 0, 0, 2, 41, -1)</td>\n",
       "    </tr>\n",
       "  </tbody>\n",
       "</table>\n",
       "<p>5 rows × 21 columns</p>\n",
       "</div>"
      ],
      "text/plain": [
       "                                                            movie_title  \\\n",
       "rotten_tomatoes_link                                                      \n",
       "m/0814255             Percy Jackson & the Olympians: The Lightning T...   \n",
       "m/0814255             Percy Jackson & the Olympians: The Lightning T...   \n",
       "m/0814255             Percy Jackson & the Olympians: The Lightning T...   \n",
       "m/0814255             Percy Jackson & the Olympians: The Lightning T...   \n",
       "m/0814255             Percy Jackson & the Olympians: The Lightning T...   \n",
       "\n",
       "                     content_rating  \\\n",
       "rotten_tomatoes_link                  \n",
       "m/0814255                        PG   \n",
       "m/0814255                        PG   \n",
       "m/0814255                        PG   \n",
       "m/0814255                        PG   \n",
       "m/0814255                        PG   \n",
       "\n",
       "                                                                 genres  \\\n",
       "rotten_tomatoes_link                                                      \n",
       "m/0814255             Action & Adventure, Comedy, Drama, Science Fic...   \n",
       "m/0814255             Action & Adventure, Comedy, Drama, Science Fic...   \n",
       "m/0814255             Action & Adventure, Comedy, Drama, Science Fic...   \n",
       "m/0814255             Action & Adventure, Comedy, Drama, Science Fic...   \n",
       "m/0814255             Action & Adventure, Comedy, Drama, Science Fic...   \n",
       "\n",
       "                           directors  \\\n",
       "rotten_tomatoes_link                   \n",
       "m/0814255             Chris Columbus   \n",
       "m/0814255             Chris Columbus   \n",
       "m/0814255             Chris Columbus   \n",
       "m/0814255             Chris Columbus   \n",
       "m/0814255             Chris Columbus   \n",
       "\n",
       "                                                         authors  \\\n",
       "rotten_tomatoes_link                                               \n",
       "m/0814255             Craig Titley, Chris Columbus, Rick Riordan   \n",
       "m/0814255             Craig Titley, Chris Columbus, Rick Riordan   \n",
       "m/0814255             Craig Titley, Chris Columbus, Rick Riordan   \n",
       "m/0814255             Craig Titley, Chris Columbus, Rick Riordan   \n",
       "m/0814255             Craig Titley, Chris Columbus, Rick Riordan   \n",
       "\n",
       "                                                                 actors  \\\n",
       "rotten_tomatoes_link                                                      \n",
       "m/0814255             Logan Lerman, Brandon T. Jackson, Alexandra Da...   \n",
       "m/0814255             Logan Lerman, Brandon T. Jackson, Alexandra Da...   \n",
       "m/0814255             Logan Lerman, Brandon T. Jackson, Alexandra Da...   \n",
       "m/0814255             Logan Lerman, Brandon T. Jackson, Alexandra Da...   \n",
       "m/0814255             Logan Lerman, Brandon T. Jackson, Alexandra Da...   \n",
       "\n",
       "                                  original_release_date  \\\n",
       "rotten_tomatoes_link                                      \n",
       "m/0814255             (2010, 2, 12, 0, 0, 0, 4, 43, -1)   \n",
       "m/0814255             (2010, 2, 12, 0, 0, 0, 4, 43, -1)   \n",
       "m/0814255             (2010, 2, 12, 0, 0, 0, 4, 43, -1)   \n",
       "m/0814255             (2010, 2, 12, 0, 0, 0, 4, 43, -1)   \n",
       "m/0814255             (2010, 2, 12, 0, 0, 0, 4, 43, -1)   \n",
       "\n",
       "                                   streaming_release_date  runtime  \\\n",
       "rotten_tomatoes_link                                                 \n",
       "m/0814255             (2015, 11, 25, 0, 0, 0, 2, 329, -1)    119.0   \n",
       "m/0814255             (2015, 11, 25, 0, 0, 0, 2, 329, -1)    119.0   \n",
       "m/0814255             (2015, 11, 25, 0, 0, 0, 2, 329, -1)    119.0   \n",
       "m/0814255             (2015, 11, 25, 0, 0, 0, 2, 329, -1)    119.0   \n",
       "m/0814255             (2015, 11, 25, 0, 0, 0, 2, 329, -1)    119.0   \n",
       "\n",
       "                     production_company  ... tomatometer_rating  \\\n",
       "rotten_tomatoes_link                     ...                      \n",
       "m/0814255              20th Century Fox  ...               49.0   \n",
       "m/0814255              20th Century Fox  ...               49.0   \n",
       "m/0814255              20th Century Fox  ...               49.0   \n",
       "m/0814255              20th Century Fox  ...               49.0   \n",
       "m/0814255              20th Century Fox  ...               49.0   \n",
       "\n",
       "                      tomatometer_count  audience_status audience_rating  \\\n",
       "rotten_tomatoes_link                                                       \n",
       "m/0814255                         149.0          Spilled            53.0   \n",
       "m/0814255                         149.0          Spilled            53.0   \n",
       "m/0814255                         149.0          Spilled            53.0   \n",
       "m/0814255                         149.0          Spilled            53.0   \n",
       "m/0814255                         149.0          Spilled            53.0   \n",
       "\n",
       "                      audience_count  top_critic           publisher_name  \\\n",
       "rotten_tomatoes_link                                                        \n",
       "m/0814255                   254421.0         0.0           Urban Cinefile   \n",
       "m/0814255                   254421.0         0.0           Urban Cinefile   \n",
       "m/0814255                   254421.0         0.0      FILMINK (Australia)   \n",
       "m/0814255                   254421.0         0.0  Sunday Mail (Australia)   \n",
       "m/0814255                   254421.0         1.0       Hollywood Reporter   \n",
       "\n",
       "                     review_type review_score  \\\n",
       "rotten_tomatoes_link                            \n",
       "m/0814255                  Fresh          0.6   \n",
       "m/0814255                  Fresh          0.6   \n",
       "m/0814255                  Fresh          0.6   \n",
       "m/0814255                  Fresh          0.7   \n",
       "m/0814255                 Rotten          0.6   \n",
       "\n",
       "                                            review_date  \n",
       "rotten_tomatoes_link                                     \n",
       "m/0814255              (2010, 2, 6, 0, 0, 0, 5, 37, -1)  \n",
       "m/0814255              (2010, 2, 6, 0, 0, 0, 5, 37, -1)  \n",
       "m/0814255              (2010, 2, 9, 0, 0, 0, 1, 40, -1)  \n",
       "m/0814255              (2010, 2, 9, 0, 0, 0, 1, 40, -1)  \n",
       "m/0814255             (2010, 2, 10, 0, 0, 0, 2, 41, -1)  \n",
       "\n",
       "[5 rows x 21 columns]"
      ]
     },
     "execution_count": 29,
     "metadata": {},
     "output_type": "execute_result"
    }
   ],
   "source": [
    "df_rot = df_m.set_index('rotten_tomatoes_link').join(df_r.set_index('rotten_tomatoes_link'), how = 'left')\n",
    "print(df_rot.shape)\n",
    "df_rot.head()"
   ]
  },
  {
   "cell_type": "markdown",
   "id": "0ab52ca2-ba74-4d1c-b536-fac918e3dd33",
   "metadata": {},
   "source": [
    "One last check for nulls:"
   ]
  },
  {
   "cell_type": "code",
   "execution_count": 30,
   "id": "e79c659b-c214-4d55-9e81-1084b59d0d1e",
   "metadata": {},
   "outputs": [
    {
     "data": {
      "text/plain": [
       "movie_title                0\n",
       "content_rating             0\n",
       "genres                     0\n",
       "directors                  0\n",
       "authors                    0\n",
       "actors                     0\n",
       "original_release_date      0\n",
       "streaming_release_date     0\n",
       "runtime                    0\n",
       "production_company         0\n",
       "tomatometer_status         0\n",
       "tomatometer_rating         0\n",
       "tomatometer_count          0\n",
       "audience_status            0\n",
       "audience_rating            0\n",
       "audience_count             0\n",
       "top_critic                17\n",
       "publisher_name            17\n",
       "review_type               17\n",
       "review_score              17\n",
       "review_date               17\n",
       "dtype: int64"
      ]
     },
     "execution_count": 30,
     "metadata": {},
     "output_type": "execute_result"
    }
   ],
   "source": [
    "df_rot.isna().sum()"
   ]
  },
  {
   "cell_type": "markdown",
   "id": "5fcc396f-a415-4c3c-9300-5720c0b345ce",
   "metadata": {},
   "source": [
    "As there are so few, we drop them."
   ]
  },
  {
   "cell_type": "code",
   "execution_count": 31,
   "id": "c07f7aaf-0605-4038-ba5a-e929da1122a0",
   "metadata": {},
   "outputs": [],
   "source": [
    "df_rot.dropna(inplace = True)"
   ]
  },
  {
   "cell_type": "markdown",
   "id": "ad6a30ee-05d4-4a79-8457-a77f27ffbd46",
   "metadata": {},
   "source": [
    "## Working with the combined table\n",
    "\n",
    "Let's do some further cleaning up and finally get to some useful visualizations. First, we convert the `genres`, `directors`,`authors`, and `actors` columns to list form."
   ]
  },
  {
   "cell_type": "code",
   "execution_count": 32,
   "id": "a1df175d-3018-4664-801e-65e0b2957899",
   "metadata": {},
   "outputs": [],
   "source": [
    "def listize(stringlist): #function to turn a string into a list\n",
    "    if stringlist == None:\n",
    "        return []\n",
    "    list_version = stringlist.split(', ')\n",
    "    return list_version\n",
    "\n",
    "def columnlister(listcols): #function to make the process a little smoother by converting each column we give it\n",
    "    for col in listcols:\n",
    "        df_rot[col] = df_rot[col].map(listize)\n",
    "        \n",
    "columnlister(['genres','directors','authors','actors'])"
   ]
  },
  {
   "cell_type": "markdown",
   "id": "c27b9f98-b8c5-4768-8869-18049691f6c8",
   "metadata": {},
   "source": [
    "We quickly check that this worked."
   ]
  },
  {
   "cell_type": "code",
   "execution_count": 33,
   "id": "ff8f0cf1-2393-4034-90b2-59a2d47dcacc",
   "metadata": {},
   "outputs": [
    {
     "name": "stdout",
     "output_type": "stream",
     "text": [
      "<class 'list'> <class 'list'>\n",
      "<class 'list'> <class 'list'>\n"
     ]
    }
   ],
   "source": [
    "print(type(df_rot['genres'].iloc[0]), type(df_rot['directors'].iloc[0]))\n",
    "print(type(df_rot['authors'].iloc[0]), type(df_rot['actors'].iloc[0]))"
   ]
  },
  {
   "cell_type": "markdown",
   "id": "3e73ea1c-bbf5-4918-874a-b62dbb71992d",
   "metadata": {},
   "source": [
    "Now lets quickly filter out anything with a `runtime` below 45 minutes. We're not interested in short films."
   ]
  },
  {
   "cell_type": "code",
   "execution_count": 34,
   "id": "22a3b6b8-9b6a-483b-963b-6875ae40c4fc",
   "metadata": {},
   "outputs": [
    {
     "data": {
      "text/plain": [
       "(1002588, 21)"
      ]
     },
     "execution_count": 34,
     "metadata": {},
     "output_type": "execute_result"
    }
   ],
   "source": [
    "df_rot = df_rot.loc[df_rot['runtime'] >= 45]\n",
    "df_rot.shape #to check how many values are lost"
   ]
  },
  {
   "cell_type": "markdown",
   "id": "64044f2e-ba11-443f-a709-f1b83548477c",
   "metadata": {},
   "source": [
    "We can similarly disregard any film with an `audience_count` below that of the 50th percentile. We aren't interested in any film that doesn't reach the mainstream."
   ]
  },
  {
   "cell_type": "code",
   "execution_count": 35,
   "id": "2612afaf-838a-47b2-87b0-460685fb7a7e",
   "metadata": {},
   "outputs": [
    {
     "data": {
      "text/plain": [
       "(501322, 21)"
      ]
     },
     "execution_count": 35,
     "metadata": {},
     "output_type": "execute_result"
    }
   ],
   "source": [
    "df_rot = df_rot.loc[df_rot['audience_count'] >= df_rot['audience_count'].quantile(.50)]\n",
    "df_rot.shape #to check how many values are lost"
   ]
  },
  {
   "cell_type": "markdown",
   "id": "9922084f-f6f9-4cf6-85b5-b483ffff77f9",
   "metadata": {},
   "source": [
    "Now, let's convert the `review_score` column to a score out of 5."
   ]
  },
  {
   "cell_type": "code",
   "execution_count": 36,
   "id": "d3e8acf6-a985-4c00-880a-3338db07284f",
   "metadata": {},
   "outputs": [
    {
     "data": {
      "text/plain": [
       "rotten_tomatoes_link\n",
       "m/0814255    3.0\n",
       "m/0814255    3.0\n",
       "m/0814255    3.0\n",
       "m/0814255    3.5\n",
       "m/0814255    3.0\n",
       "Name: review_score, dtype: float64"
      ]
     },
     "execution_count": 36,
     "metadata": {},
     "output_type": "execute_result"
    }
   ],
   "source": [
    "df_rot['review_score'] = df_rot['review_score']*5\n",
    "df_rot['review_score'].head() #to check"
   ]
  },
  {
   "cell_type": "markdown",
   "id": "41b9a08b-f19e-41fe-80ab-93d4d293f402",
   "metadata": {},
   "source": [
    "We add a column called `fresh_bool` which is a boolean corresponding to wheter or not the review is fresh."
   ]
  },
  {
   "cell_type": "code",
   "execution_count": 37,
   "id": "bed3867e-db26-4bdc-b4f7-38018d467464",
   "metadata": {},
   "outputs": [],
   "source": [
    "df_rot['fresh_bool'] = df_rot['review_type'].map(lambda x: x == 'Fresh')"
   ]
  },
  {
   "cell_type": "markdown",
   "id": "4d8c8373-afbc-4872-8d16-7d9c06b720b3",
   "metadata": {
    "tags": []
   },
   "source": [
    "Now, we explode the genres column for closer inspection."
   ]
  },
  {
   "cell_type": "code",
   "execution_count": 38,
   "id": "70efcbef-6281-4077-a684-4e216cd1b70b",
   "metadata": {},
   "outputs": [
    {
     "name": "stdout",
     "output_type": "stream",
     "text": [
      "(1141115, 22)\n"
     ]
    },
    {
     "data": {
      "text/html": [
       "<div>\n",
       "<style scoped>\n",
       "    .dataframe tbody tr th:only-of-type {\n",
       "        vertical-align: middle;\n",
       "    }\n",
       "\n",
       "    .dataframe tbody tr th {\n",
       "        vertical-align: top;\n",
       "    }\n",
       "\n",
       "    .dataframe thead th {\n",
       "        text-align: right;\n",
       "    }\n",
       "</style>\n",
       "<table border=\"1\" class=\"dataframe\">\n",
       "  <thead>\n",
       "    <tr style=\"text-align: right;\">\n",
       "      <th></th>\n",
       "      <th>movie_title</th>\n",
       "      <th>content_rating</th>\n",
       "      <th>genres</th>\n",
       "      <th>directors</th>\n",
       "      <th>authors</th>\n",
       "      <th>actors</th>\n",
       "      <th>original_release_date</th>\n",
       "      <th>streaming_release_date</th>\n",
       "      <th>runtime</th>\n",
       "      <th>production_company</th>\n",
       "      <th>...</th>\n",
       "      <th>tomatometer_count</th>\n",
       "      <th>audience_status</th>\n",
       "      <th>audience_rating</th>\n",
       "      <th>audience_count</th>\n",
       "      <th>top_critic</th>\n",
       "      <th>publisher_name</th>\n",
       "      <th>review_type</th>\n",
       "      <th>review_score</th>\n",
       "      <th>review_date</th>\n",
       "      <th>fresh_bool</th>\n",
       "    </tr>\n",
       "    <tr>\n",
       "      <th>rotten_tomatoes_link</th>\n",
       "      <th></th>\n",
       "      <th></th>\n",
       "      <th></th>\n",
       "      <th></th>\n",
       "      <th></th>\n",
       "      <th></th>\n",
       "      <th></th>\n",
       "      <th></th>\n",
       "      <th></th>\n",
       "      <th></th>\n",
       "      <th></th>\n",
       "      <th></th>\n",
       "      <th></th>\n",
       "      <th></th>\n",
       "      <th></th>\n",
       "      <th></th>\n",
       "      <th></th>\n",
       "      <th></th>\n",
       "      <th></th>\n",
       "      <th></th>\n",
       "      <th></th>\n",
       "    </tr>\n",
       "  </thead>\n",
       "  <tbody>\n",
       "    <tr>\n",
       "      <th>m/0814255</th>\n",
       "      <td>Percy Jackson &amp; the Olympians: The Lightning T...</td>\n",
       "      <td>PG</td>\n",
       "      <td>Action &amp; Adventure</td>\n",
       "      <td>[Chris Columbus]</td>\n",
       "      <td>[Craig Titley, Chris Columbus, Rick Riordan]</td>\n",
       "      <td>[Logan Lerman, Brandon T. Jackson, Alexandra D...</td>\n",
       "      <td>(2010, 2, 12, 0, 0, 0, 4, 43, -1)</td>\n",
       "      <td>(2015, 11, 25, 0, 0, 0, 2, 329, -1)</td>\n",
       "      <td>119.0</td>\n",
       "      <td>20th Century Fox</td>\n",
       "      <td>...</td>\n",
       "      <td>149.0</td>\n",
       "      <td>Spilled</td>\n",
       "      <td>53.0</td>\n",
       "      <td>254421.0</td>\n",
       "      <td>0.0</td>\n",
       "      <td>Urban Cinefile</td>\n",
       "      <td>Fresh</td>\n",
       "      <td>3.0</td>\n",
       "      <td>(2010, 2, 6, 0, 0, 0, 5, 37, -1)</td>\n",
       "      <td>True</td>\n",
       "    </tr>\n",
       "    <tr>\n",
       "      <th>m/0814255</th>\n",
       "      <td>Percy Jackson &amp; the Olympians: The Lightning T...</td>\n",
       "      <td>PG</td>\n",
       "      <td>Comedy</td>\n",
       "      <td>[Chris Columbus]</td>\n",
       "      <td>[Craig Titley, Chris Columbus, Rick Riordan]</td>\n",
       "      <td>[Logan Lerman, Brandon T. Jackson, Alexandra D...</td>\n",
       "      <td>(2010, 2, 12, 0, 0, 0, 4, 43, -1)</td>\n",
       "      <td>(2015, 11, 25, 0, 0, 0, 2, 329, -1)</td>\n",
       "      <td>119.0</td>\n",
       "      <td>20th Century Fox</td>\n",
       "      <td>...</td>\n",
       "      <td>149.0</td>\n",
       "      <td>Spilled</td>\n",
       "      <td>53.0</td>\n",
       "      <td>254421.0</td>\n",
       "      <td>0.0</td>\n",
       "      <td>Urban Cinefile</td>\n",
       "      <td>Fresh</td>\n",
       "      <td>3.0</td>\n",
       "      <td>(2010, 2, 6, 0, 0, 0, 5, 37, -1)</td>\n",
       "      <td>True</td>\n",
       "    </tr>\n",
       "    <tr>\n",
       "      <th>m/0814255</th>\n",
       "      <td>Percy Jackson &amp; the Olympians: The Lightning T...</td>\n",
       "      <td>PG</td>\n",
       "      <td>Drama</td>\n",
       "      <td>[Chris Columbus]</td>\n",
       "      <td>[Craig Titley, Chris Columbus, Rick Riordan]</td>\n",
       "      <td>[Logan Lerman, Brandon T. Jackson, Alexandra D...</td>\n",
       "      <td>(2010, 2, 12, 0, 0, 0, 4, 43, -1)</td>\n",
       "      <td>(2015, 11, 25, 0, 0, 0, 2, 329, -1)</td>\n",
       "      <td>119.0</td>\n",
       "      <td>20th Century Fox</td>\n",
       "      <td>...</td>\n",
       "      <td>149.0</td>\n",
       "      <td>Spilled</td>\n",
       "      <td>53.0</td>\n",
       "      <td>254421.0</td>\n",
       "      <td>0.0</td>\n",
       "      <td>Urban Cinefile</td>\n",
       "      <td>Fresh</td>\n",
       "      <td>3.0</td>\n",
       "      <td>(2010, 2, 6, 0, 0, 0, 5, 37, -1)</td>\n",
       "      <td>True</td>\n",
       "    </tr>\n",
       "    <tr>\n",
       "      <th>m/0814255</th>\n",
       "      <td>Percy Jackson &amp; the Olympians: The Lightning T...</td>\n",
       "      <td>PG</td>\n",
       "      <td>Science Fiction &amp; Fantasy</td>\n",
       "      <td>[Chris Columbus]</td>\n",
       "      <td>[Craig Titley, Chris Columbus, Rick Riordan]</td>\n",
       "      <td>[Logan Lerman, Brandon T. Jackson, Alexandra D...</td>\n",
       "      <td>(2010, 2, 12, 0, 0, 0, 4, 43, -1)</td>\n",
       "      <td>(2015, 11, 25, 0, 0, 0, 2, 329, -1)</td>\n",
       "      <td>119.0</td>\n",
       "      <td>20th Century Fox</td>\n",
       "      <td>...</td>\n",
       "      <td>149.0</td>\n",
       "      <td>Spilled</td>\n",
       "      <td>53.0</td>\n",
       "      <td>254421.0</td>\n",
       "      <td>0.0</td>\n",
       "      <td>Urban Cinefile</td>\n",
       "      <td>Fresh</td>\n",
       "      <td>3.0</td>\n",
       "      <td>(2010, 2, 6, 0, 0, 0, 5, 37, -1)</td>\n",
       "      <td>True</td>\n",
       "    </tr>\n",
       "    <tr>\n",
       "      <th>m/0814255</th>\n",
       "      <td>Percy Jackson &amp; the Olympians: The Lightning T...</td>\n",
       "      <td>PG</td>\n",
       "      <td>Action &amp; Adventure</td>\n",
       "      <td>[Chris Columbus]</td>\n",
       "      <td>[Craig Titley, Chris Columbus, Rick Riordan]</td>\n",
       "      <td>[Logan Lerman, Brandon T. Jackson, Alexandra D...</td>\n",
       "      <td>(2010, 2, 12, 0, 0, 0, 4, 43, -1)</td>\n",
       "      <td>(2015, 11, 25, 0, 0, 0, 2, 329, -1)</td>\n",
       "      <td>119.0</td>\n",
       "      <td>20th Century Fox</td>\n",
       "      <td>...</td>\n",
       "      <td>149.0</td>\n",
       "      <td>Spilled</td>\n",
       "      <td>53.0</td>\n",
       "      <td>254421.0</td>\n",
       "      <td>0.0</td>\n",
       "      <td>Urban Cinefile</td>\n",
       "      <td>Fresh</td>\n",
       "      <td>3.0</td>\n",
       "      <td>(2010, 2, 6, 0, 0, 0, 5, 37, -1)</td>\n",
       "      <td>True</td>\n",
       "    </tr>\n",
       "  </tbody>\n",
       "</table>\n",
       "<p>5 rows × 22 columns</p>\n",
       "</div>"
      ],
      "text/plain": [
       "                                                            movie_title  \\\n",
       "rotten_tomatoes_link                                                      \n",
       "m/0814255             Percy Jackson & the Olympians: The Lightning T...   \n",
       "m/0814255             Percy Jackson & the Olympians: The Lightning T...   \n",
       "m/0814255             Percy Jackson & the Olympians: The Lightning T...   \n",
       "m/0814255             Percy Jackson & the Olympians: The Lightning T...   \n",
       "m/0814255             Percy Jackson & the Olympians: The Lightning T...   \n",
       "\n",
       "                     content_rating                     genres  \\\n",
       "rotten_tomatoes_link                                             \n",
       "m/0814255                        PG         Action & Adventure   \n",
       "m/0814255                        PG                     Comedy   \n",
       "m/0814255                        PG                      Drama   \n",
       "m/0814255                        PG  Science Fiction & Fantasy   \n",
       "m/0814255                        PG         Action & Adventure   \n",
       "\n",
       "                             directors  \\\n",
       "rotten_tomatoes_link                     \n",
       "m/0814255             [Chris Columbus]   \n",
       "m/0814255             [Chris Columbus]   \n",
       "m/0814255             [Chris Columbus]   \n",
       "m/0814255             [Chris Columbus]   \n",
       "m/0814255             [Chris Columbus]   \n",
       "\n",
       "                                                           authors  \\\n",
       "rotten_tomatoes_link                                                 \n",
       "m/0814255             [Craig Titley, Chris Columbus, Rick Riordan]   \n",
       "m/0814255             [Craig Titley, Chris Columbus, Rick Riordan]   \n",
       "m/0814255             [Craig Titley, Chris Columbus, Rick Riordan]   \n",
       "m/0814255             [Craig Titley, Chris Columbus, Rick Riordan]   \n",
       "m/0814255             [Craig Titley, Chris Columbus, Rick Riordan]   \n",
       "\n",
       "                                                                 actors  \\\n",
       "rotten_tomatoes_link                                                      \n",
       "m/0814255             [Logan Lerman, Brandon T. Jackson, Alexandra D...   \n",
       "m/0814255             [Logan Lerman, Brandon T. Jackson, Alexandra D...   \n",
       "m/0814255             [Logan Lerman, Brandon T. Jackson, Alexandra D...   \n",
       "m/0814255             [Logan Lerman, Brandon T. Jackson, Alexandra D...   \n",
       "m/0814255             [Logan Lerman, Brandon T. Jackson, Alexandra D...   \n",
       "\n",
       "                                  original_release_date  \\\n",
       "rotten_tomatoes_link                                      \n",
       "m/0814255             (2010, 2, 12, 0, 0, 0, 4, 43, -1)   \n",
       "m/0814255             (2010, 2, 12, 0, 0, 0, 4, 43, -1)   \n",
       "m/0814255             (2010, 2, 12, 0, 0, 0, 4, 43, -1)   \n",
       "m/0814255             (2010, 2, 12, 0, 0, 0, 4, 43, -1)   \n",
       "m/0814255             (2010, 2, 12, 0, 0, 0, 4, 43, -1)   \n",
       "\n",
       "                                   streaming_release_date  runtime  \\\n",
       "rotten_tomatoes_link                                                 \n",
       "m/0814255             (2015, 11, 25, 0, 0, 0, 2, 329, -1)    119.0   \n",
       "m/0814255             (2015, 11, 25, 0, 0, 0, 2, 329, -1)    119.0   \n",
       "m/0814255             (2015, 11, 25, 0, 0, 0, 2, 329, -1)    119.0   \n",
       "m/0814255             (2015, 11, 25, 0, 0, 0, 2, 329, -1)    119.0   \n",
       "m/0814255             (2015, 11, 25, 0, 0, 0, 2, 329, -1)    119.0   \n",
       "\n",
       "                     production_company  ... tomatometer_count  \\\n",
       "rotten_tomatoes_link                     ...                     \n",
       "m/0814255              20th Century Fox  ...             149.0   \n",
       "m/0814255              20th Century Fox  ...             149.0   \n",
       "m/0814255              20th Century Fox  ...             149.0   \n",
       "m/0814255              20th Century Fox  ...             149.0   \n",
       "m/0814255              20th Century Fox  ...             149.0   \n",
       "\n",
       "                      audience_status  audience_rating audience_count  \\\n",
       "rotten_tomatoes_link                                                    \n",
       "m/0814255                     Spilled             53.0       254421.0   \n",
       "m/0814255                     Spilled             53.0       254421.0   \n",
       "m/0814255                     Spilled             53.0       254421.0   \n",
       "m/0814255                     Spilled             53.0       254421.0   \n",
       "m/0814255                     Spilled             53.0       254421.0   \n",
       "\n",
       "                      top_critic  publisher_name  review_type review_score  \\\n",
       "rotten_tomatoes_link                                                         \n",
       "m/0814255                    0.0  Urban Cinefile        Fresh          3.0   \n",
       "m/0814255                    0.0  Urban Cinefile        Fresh          3.0   \n",
       "m/0814255                    0.0  Urban Cinefile        Fresh          3.0   \n",
       "m/0814255                    0.0  Urban Cinefile        Fresh          3.0   \n",
       "m/0814255                    0.0  Urban Cinefile        Fresh          3.0   \n",
       "\n",
       "                                           review_date  fresh_bool  \n",
       "rotten_tomatoes_link                                                \n",
       "m/0814255             (2010, 2, 6, 0, 0, 0, 5, 37, -1)        True  \n",
       "m/0814255             (2010, 2, 6, 0, 0, 0, 5, 37, -1)        True  \n",
       "m/0814255             (2010, 2, 6, 0, 0, 0, 5, 37, -1)        True  \n",
       "m/0814255             (2010, 2, 6, 0, 0, 0, 5, 37, -1)        True  \n",
       "m/0814255             (2010, 2, 6, 0, 0, 0, 5, 37, -1)        True  \n",
       "\n",
       "[5 rows x 22 columns]"
      ]
     },
     "execution_count": 38,
     "metadata": {},
     "output_type": "execute_result"
    }
   ],
   "source": [
    "df_rgen = df_rot.explode('genres')\n",
    "print(df_rgen.shape)\n",
    "df_rgen.head()"
   ]
  },
  {
   "cell_type": "markdown",
   "id": "9467b61f-6b24-4658-86a5-4cb1223b25dd",
   "metadata": {},
   "source": [
    "In preparation for a graph, we created a Series of median `review_score`s when grouped by `genres`. Additionally, this Series will exclude any genres that have fewer than 25 movies, as these can easily be considered flukes or passing trends."
   ]
  },
  {
   "cell_type": "code",
   "execution_count": 39,
   "id": "339fd589-89b3-4724-ad9e-01abc75b4d36",
   "metadata": {},
   "outputs": [
    {
     "data": {
      "text/plain": [
       "['Anime & Manga',\n",
       " 'Cult Movies',\n",
       " 'Faith & Spirituality',\n",
       " 'Gay & Lesbian',\n",
       " 'Sports & Fitness',\n",
       " 'Television']"
      ]
     },
     "execution_count": 39,
     "metadata": {},
     "output_type": "execute_result"
    }
   ],
   "source": [
    "df_drop_gen = df_rgen.groupby('genres')['movie_title'].nunique() #we count the number of unique films in each genre\n",
    "drop_list = [gen for gen in df_drop_gen.index if df_drop_gen[gen] < 25]\n",
    "drop_list #let's take a look at the list we made"
   ]
  },
  {
   "cell_type": "code",
   "execution_count": 40,
   "id": "70896359-d804-42ff-8c13-d62bc22b209e",
   "metadata": {},
   "outputs": [
    {
     "data": {
      "text/plain": [
       "genres\n",
       "Classics                        4.287500\n",
       "Art\\nHouse\\n&\\nInternational    4.000000\n",
       "Special\\nInterest               3.750000\n",
       "Documentary                     3.750000\n",
       "Animation                       3.636364\n",
       "Name: review_score, dtype: float64"
      ]
     },
     "execution_count": 40,
     "metadata": {},
     "output_type": "execute_result"
    }
   ],
   "source": [
    "df_g_sc = df_rgen.groupby('genres')['review_score'].median().sort_values(ascending = False)\n",
    "df_g_sc.drop(drop_list, inplace = True) #here we drop the genres we found above\n",
    "df_g_sc.index = df_g_sc.index.map(lambda x: x.replace(' ','\\n')) #this is to make the graph look cleaner. Replace spaces with new lines\n",
    "df_g_sc.head()"
   ]
  },
  {
   "cell_type": "markdown",
   "id": "82efb923-efef-491b-a1d1-e99b64b4dd53",
   "metadata": {},
   "source": [
    "Let's plot this information now."
   ]
  },
  {
   "cell_type": "code",
   "execution_count": 41,
   "id": "a36dcd4e-9e30-4d32-9983-f6b09bf9ab8a",
   "metadata": {},
   "outputs": [],
   "source": [
    "sns.set_theme()"
   ]
  },
  {
   "cell_type": "code",
   "execution_count": 42,
   "id": "00ea3977-35f0-484d-82a6-41f3751f1c4b",
   "metadata": {},
   "outputs": [
    {
     "data": {
      "image/png": "[encoded data removed]",
      "text/plain": [
       "<Figure size 1800x720 with 1 Axes>"
      ]
     },
     "metadata": {},
     "output_type": "display_data"
    }
   ],
   "source": [
    "fig, ax = plt.subplots(figsize = (25,10))\n",
    "ax = sns.barplot(x = df_g_sc.index, y = df_g_sc.values)\n",
    "\n",
    "ax.set_title('Median Review Score for Each Genre', fontsize = 30)\n",
    "ax.set_xlabel('Genre', fontsize = 25)\n",
    "ax.set_ylabel('Median Review Score (0 to 5)', fontsize = 20)\n",
    "ax.tick_params(axis = 'both', labelsize = 15)\n",
    "plt.savefig('images/median_sc_gen');"
   ]
  },
  {
   "cell_type": "markdown",
   "id": "268077ce-bcd4-48e8-b4c3-e03b09b584de",
   "metadata": {},
   "source": [
    "Now let's make a boxplot of the review scores for each genre"
   ]
  },
  {
   "cell_type": "code",
   "execution_count": 43,
   "id": "919c7101-09c0-4702-9ded-12aeb26e231a",
   "metadata": {},
   "outputs": [
    {
     "data": {
      "image/png": "[encoded data removed]",
      "text/plain": [
       "<Figure size 1800x720 with 1 Axes>"
      ]
     },
     "metadata": {},
     "output_type": "display_data"
    }
   ],
   "source": [
    "df_genre_edit = copy.deepcopy(df_rgen) #making a copy so we can clean the genre names\n",
    "df_genre_edit = df_genre_edit.loc[~df_genre_edit['genres'].isin(drop_list)]\n",
    "df_genre_edit['genres'] = df_genre_edit['genres'].map(lambda x: (' '.join(x.split()[:-1])+'\\n'+x.split()[-1]).strip('\\n')) #cleaning names here\n",
    "\n",
    "fig2, ax2 = plt.subplots(figsize = (25,10))\n",
    "ax2 = sns.boxplot(data = df_genre_edit, x = 'genres', y = 'review_score')\n",
    "\n",
    "ax2.set_title('Review Scores for each Genre', fontsize = 30)\n",
    "ax2.set_xlabel('Genre', fontsize = 20)\n",
    "ax2.set_ylabel('Review Scores (0 to 5)', fontsize = 20)\n",
    "plt.xticks(rotation = 45)\n",
    "ax2.tick_params(axis = 'both', labelsize = 15)\n",
    "plt.savefig('images/box_sc_gen');"
   ]
  },
  {
   "cell_type": "markdown",
   "id": "b2196c95-b0be-4757-a5f4-ae6c262ce993",
   "metadata": {},
   "source": [
    "Finally, we make a graph of the \"freshness\" of each of the genres. We make the grouped series first..."
   ]
  },
  {
   "cell_type": "code",
   "execution_count": 44,
   "id": "4513f19b-e3b6-49c5-b465-0a9d34a03e64",
   "metadata": {},
   "outputs": [
    {
     "data": {
      "text/plain": [
       "genres\n",
       "Classics                        0.825818\n",
       "Art\\nHouse\\n&\\nInternational    0.802087\n",
       "Documentary                     0.766400\n",
       "Special\\nInterest               0.763573\n",
       "Animation                       0.714584\n",
       "Name: fresh_bool, dtype: float64"
      ]
     },
     "execution_count": 44,
     "metadata": {},
     "output_type": "execute_result"
    }
   ],
   "source": [
    "df_g_fb = df_rgen.groupby('genres')['fresh_bool'].mean().sort_values(ascending = False)\n",
    "df_g_fb.drop(drop_list, inplace = True) #dropping fluke genres\n",
    "df_g_fb.index = df_g_fb.index.map(lambda x: x.replace(' ','\\n')) #cleaning names again\n",
    "df_g_fb.head()"
   ]
  },
  {
   "cell_type": "markdown",
   "id": "affefaf2-50e1-4924-a622-72c67442c736",
   "metadata": {},
   "source": [
    "And then we plot it."
   ]
  },
  {
   "cell_type": "code",
   "execution_count": 45,
   "id": "41c7a836-2119-451d-8608-f6dc4f81ebe9",
   "metadata": {},
   "outputs": [
    {
     "data": {
      "image/png": "[encoded data removed]",
      "text/plain": [
       "<Figure size 1800x720 with 1 Axes>"
      ]
     },
     "metadata": {},
     "output_type": "display_data"
    }
   ],
   "source": [
    "fig3, ax3 = plt.subplots(figsize = (25,10))\n",
    "ax3 = sns.barplot(x = df_g_fb.index, y = df_g_fb.values*100) #the '*100' changes these decimals to percentages\n",
    "\n",
    "ax3.set_title('\"Freshness\" of Each Genre', fontsize = 30)\n",
    "ax3.set_xlabel('Genre', fontsize = 20)\n",
    "ax3.set_ylabel('\"Fresh\" Percentage', fontsize = 20)\n",
    "ax3.tick_params(axis = 'both', labelsize = 15)\n",
    "plt.savefig('images/genre_fresh');"
   ]
  },
  {
   "cell_type": "markdown",
   "id": "443a0de4-58ec-4f4d-93a4-913592efd32c",
   "metadata": {},
   "source": [
    "Let's now investigate the most popular actors for animation and musicals"
   ]
  },
  {
   "cell_type": "code",
   "execution_count": 46,
   "id": "01224ad2-94c4-4ad6-8d3d-ca7a4d76c186",
   "metadata": {},
   "outputs": [
    {
     "data": {
      "text/html": [
       "<div>\n",
       "<style scoped>\n",
       "    .dataframe tbody tr th:only-of-type {\n",
       "        vertical-align: middle;\n",
       "    }\n",
       "\n",
       "    .dataframe tbody tr th {\n",
       "        vertical-align: top;\n",
       "    }\n",
       "\n",
       "    .dataframe thead th {\n",
       "        text-align: right;\n",
       "    }\n",
       "</style>\n",
       "<table border=\"1\" class=\"dataframe\">\n",
       "  <thead>\n",
       "    <tr style=\"text-align: right;\">\n",
       "      <th></th>\n",
       "      <th>movie_title</th>\n",
       "      <th>content_rating</th>\n",
       "      <th>genres</th>\n",
       "      <th>directors</th>\n",
       "      <th>authors</th>\n",
       "      <th>actors</th>\n",
       "      <th>original_release_date</th>\n",
       "      <th>streaming_release_date</th>\n",
       "      <th>runtime</th>\n",
       "      <th>production_company</th>\n",
       "      <th>...</th>\n",
       "      <th>tomatometer_count</th>\n",
       "      <th>audience_status</th>\n",
       "      <th>audience_rating</th>\n",
       "      <th>audience_count</th>\n",
       "      <th>top_critic</th>\n",
       "      <th>publisher_name</th>\n",
       "      <th>review_type</th>\n",
       "      <th>review_score</th>\n",
       "      <th>review_date</th>\n",
       "      <th>fresh_bool</th>\n",
       "    </tr>\n",
       "    <tr>\n",
       "      <th>rotten_tomatoes_link</th>\n",
       "      <th></th>\n",
       "      <th></th>\n",
       "      <th></th>\n",
       "      <th></th>\n",
       "      <th></th>\n",
       "      <th></th>\n",
       "      <th></th>\n",
       "      <th></th>\n",
       "      <th></th>\n",
       "      <th></th>\n",
       "      <th></th>\n",
       "      <th></th>\n",
       "      <th></th>\n",
       "      <th></th>\n",
       "      <th></th>\n",
       "      <th></th>\n",
       "      <th></th>\n",
       "      <th></th>\n",
       "      <th></th>\n",
       "      <th></th>\n",
       "      <th></th>\n",
       "    </tr>\n",
       "  </thead>\n",
       "  <tbody>\n",
       "    <tr>\n",
       "      <th>m/10004659-arthur</th>\n",
       "      <td>Arthur and the Invisibles (Arthur and the Mini...</td>\n",
       "      <td>PG</td>\n",
       "      <td>Animation</td>\n",
       "      <td>[Luc Besson]</td>\n",
       "      <td>[Luc Besson, Celine Garcia]</td>\n",
       "      <td>Freddie Highmore</td>\n",
       "      <td>(2007, 1, 12, 0, 0, 0, 4, 12, -1)</td>\n",
       "      <td>(2016, 8, 10, 0, 0, 0, 2, 223, -1)</td>\n",
       "      <td>94.0</td>\n",
       "      <td>MGM</td>\n",
       "      <td>...</td>\n",
       "      <td>92.0</td>\n",
       "      <td>Spilled</td>\n",
       "      <td>56.0</td>\n",
       "      <td>134483.0</td>\n",
       "      <td>0.0</td>\n",
       "      <td>Slant Magazine</td>\n",
       "      <td>Fresh</td>\n",
       "      <td>3.75</td>\n",
       "      <td>(2006, 12, 26, 0, 0, 0, 1, 360, -1)</td>\n",
       "      <td>True</td>\n",
       "    </tr>\n",
       "    <tr>\n",
       "      <th>m/10004659-arthur</th>\n",
       "      <td>Arthur and the Invisibles (Arthur and the Mini...</td>\n",
       "      <td>PG</td>\n",
       "      <td>Animation</td>\n",
       "      <td>[Luc Besson]</td>\n",
       "      <td>[Luc Besson, Celine Garcia]</td>\n",
       "      <td>Mia Farrow</td>\n",
       "      <td>(2007, 1, 12, 0, 0, 0, 4, 12, -1)</td>\n",
       "      <td>(2016, 8, 10, 0, 0, 0, 2, 223, -1)</td>\n",
       "      <td>94.0</td>\n",
       "      <td>MGM</td>\n",
       "      <td>...</td>\n",
       "      <td>92.0</td>\n",
       "      <td>Spilled</td>\n",
       "      <td>56.0</td>\n",
       "      <td>134483.0</td>\n",
       "      <td>0.0</td>\n",
       "      <td>Slant Magazine</td>\n",
       "      <td>Fresh</td>\n",
       "      <td>3.75</td>\n",
       "      <td>(2006, 12, 26, 0, 0, 0, 1, 360, -1)</td>\n",
       "      <td>True</td>\n",
       "    </tr>\n",
       "    <tr>\n",
       "      <th>m/10004659-arthur</th>\n",
       "      <td>Arthur and the Invisibles (Arthur and the Mini...</td>\n",
       "      <td>PG</td>\n",
       "      <td>Animation</td>\n",
       "      <td>[Luc Besson]</td>\n",
       "      <td>[Luc Besson, Celine Garcia]</td>\n",
       "      <td>Penny Balfour</td>\n",
       "      <td>(2007, 1, 12, 0, 0, 0, 4, 12, -1)</td>\n",
       "      <td>(2016, 8, 10, 0, 0, 0, 2, 223, -1)</td>\n",
       "      <td>94.0</td>\n",
       "      <td>MGM</td>\n",
       "      <td>...</td>\n",
       "      <td>92.0</td>\n",
       "      <td>Spilled</td>\n",
       "      <td>56.0</td>\n",
       "      <td>134483.0</td>\n",
       "      <td>0.0</td>\n",
       "      <td>Slant Magazine</td>\n",
       "      <td>Fresh</td>\n",
       "      <td>3.75</td>\n",
       "      <td>(2006, 12, 26, 0, 0, 0, 1, 360, -1)</td>\n",
       "      <td>True</td>\n",
       "    </tr>\n",
       "    <tr>\n",
       "      <th>m/10004659-arthur</th>\n",
       "      <td>Arthur and the Invisibles (Arthur and the Mini...</td>\n",
       "      <td>PG</td>\n",
       "      <td>Animation</td>\n",
       "      <td>[Luc Besson]</td>\n",
       "      <td>[Luc Besson, Celine Garcia]</td>\n",
       "      <td>Doug Rand</td>\n",
       "      <td>(2007, 1, 12, 0, 0, 0, 4, 12, -1)</td>\n",
       "      <td>(2016, 8, 10, 0, 0, 0, 2, 223, -1)</td>\n",
       "      <td>94.0</td>\n",
       "      <td>MGM</td>\n",
       "      <td>...</td>\n",
       "      <td>92.0</td>\n",
       "      <td>Spilled</td>\n",
       "      <td>56.0</td>\n",
       "      <td>134483.0</td>\n",
       "      <td>0.0</td>\n",
       "      <td>Slant Magazine</td>\n",
       "      <td>Fresh</td>\n",
       "      <td>3.75</td>\n",
       "      <td>(2006, 12, 26, 0, 0, 0, 1, 360, -1)</td>\n",
       "      <td>True</td>\n",
       "    </tr>\n",
       "    <tr>\n",
       "      <th>m/10004659-arthur</th>\n",
       "      <td>Arthur and the Invisibles (Arthur and the Mini...</td>\n",
       "      <td>PG</td>\n",
       "      <td>Animation</td>\n",
       "      <td>[Luc Besson]</td>\n",
       "      <td>[Luc Besson, Celine Garcia]</td>\n",
       "      <td>David Bowie</td>\n",
       "      <td>(2007, 1, 12, 0, 0, 0, 4, 12, -1)</td>\n",
       "      <td>(2016, 8, 10, 0, 0, 0, 2, 223, -1)</td>\n",
       "      <td>94.0</td>\n",
       "      <td>MGM</td>\n",
       "      <td>...</td>\n",
       "      <td>92.0</td>\n",
       "      <td>Spilled</td>\n",
       "      <td>56.0</td>\n",
       "      <td>134483.0</td>\n",
       "      <td>0.0</td>\n",
       "      <td>Slant Magazine</td>\n",
       "      <td>Fresh</td>\n",
       "      <td>3.75</td>\n",
       "      <td>(2006, 12, 26, 0, 0, 0, 1, 360, -1)</td>\n",
       "      <td>True</td>\n",
       "    </tr>\n",
       "  </tbody>\n",
       "</table>\n",
       "<p>5 rows × 22 columns</p>\n",
       "</div>"
      ],
      "text/plain": [
       "                                                            movie_title  \\\n",
       "rotten_tomatoes_link                                                      \n",
       "m/10004659-arthur     Arthur and the Invisibles (Arthur and the Mini...   \n",
       "m/10004659-arthur     Arthur and the Invisibles (Arthur and the Mini...   \n",
       "m/10004659-arthur     Arthur and the Invisibles (Arthur and the Mini...   \n",
       "m/10004659-arthur     Arthur and the Invisibles (Arthur and the Mini...   \n",
       "m/10004659-arthur     Arthur and the Invisibles (Arthur and the Mini...   \n",
       "\n",
       "                     content_rating     genres     directors  \\\n",
       "rotten_tomatoes_link                                           \n",
       "m/10004659-arthur                PG  Animation  [Luc Besson]   \n",
       "m/10004659-arthur                PG  Animation  [Luc Besson]   \n",
       "m/10004659-arthur                PG  Animation  [Luc Besson]   \n",
       "m/10004659-arthur                PG  Animation  [Luc Besson]   \n",
       "m/10004659-arthur                PG  Animation  [Luc Besson]   \n",
       "\n",
       "                                          authors            actors  \\\n",
       "rotten_tomatoes_link                                                  \n",
       "m/10004659-arthur     [Luc Besson, Celine Garcia]  Freddie Highmore   \n",
       "m/10004659-arthur     [Luc Besson, Celine Garcia]        Mia Farrow   \n",
       "m/10004659-arthur     [Luc Besson, Celine Garcia]     Penny Balfour   \n",
       "m/10004659-arthur     [Luc Besson, Celine Garcia]         Doug Rand   \n",
       "m/10004659-arthur     [Luc Besson, Celine Garcia]       David Bowie   \n",
       "\n",
       "                                  original_release_date  \\\n",
       "rotten_tomatoes_link                                      \n",
       "m/10004659-arthur     (2007, 1, 12, 0, 0, 0, 4, 12, -1)   \n",
       "m/10004659-arthur     (2007, 1, 12, 0, 0, 0, 4, 12, -1)   \n",
       "m/10004659-arthur     (2007, 1, 12, 0, 0, 0, 4, 12, -1)   \n",
       "m/10004659-arthur     (2007, 1, 12, 0, 0, 0, 4, 12, -1)   \n",
       "m/10004659-arthur     (2007, 1, 12, 0, 0, 0, 4, 12, -1)   \n",
       "\n",
       "                                  streaming_release_date  runtime  \\\n",
       "rotten_tomatoes_link                                                \n",
       "m/10004659-arthur     (2016, 8, 10, 0, 0, 0, 2, 223, -1)     94.0   \n",
       "m/10004659-arthur     (2016, 8, 10, 0, 0, 0, 2, 223, -1)     94.0   \n",
       "m/10004659-arthur     (2016, 8, 10, 0, 0, 0, 2, 223, -1)     94.0   \n",
       "m/10004659-arthur     (2016, 8, 10, 0, 0, 0, 2, 223, -1)     94.0   \n",
       "m/10004659-arthur     (2016, 8, 10, 0, 0, 0, 2, 223, -1)     94.0   \n",
       "\n",
       "                     production_company  ... tomatometer_count  \\\n",
       "rotten_tomatoes_link                     ...                     \n",
       "m/10004659-arthur                   MGM  ...              92.0   \n",
       "m/10004659-arthur                   MGM  ...              92.0   \n",
       "m/10004659-arthur                   MGM  ...              92.0   \n",
       "m/10004659-arthur                   MGM  ...              92.0   \n",
       "m/10004659-arthur                   MGM  ...              92.0   \n",
       "\n",
       "                      audience_status  audience_rating audience_count  \\\n",
       "rotten_tomatoes_link                                                    \n",
       "m/10004659-arthur             Spilled             56.0       134483.0   \n",
       "m/10004659-arthur             Spilled             56.0       134483.0   \n",
       "m/10004659-arthur             Spilled             56.0       134483.0   \n",
       "m/10004659-arthur             Spilled             56.0       134483.0   \n",
       "m/10004659-arthur             Spilled             56.0       134483.0   \n",
       "\n",
       "                      top_critic  publisher_name  review_type review_score  \\\n",
       "rotten_tomatoes_link                                                         \n",
       "m/10004659-arthur            0.0  Slant Magazine        Fresh         3.75   \n",
       "m/10004659-arthur            0.0  Slant Magazine        Fresh         3.75   \n",
       "m/10004659-arthur            0.0  Slant Magazine        Fresh         3.75   \n",
       "m/10004659-arthur            0.0  Slant Magazine        Fresh         3.75   \n",
       "m/10004659-arthur            0.0  Slant Magazine        Fresh         3.75   \n",
       "\n",
       "                                              review_date  fresh_bool  \n",
       "rotten_tomatoes_link                                                   \n",
       "m/10004659-arthur     (2006, 12, 26, 0, 0, 0, 1, 360, -1)        True  \n",
       "m/10004659-arthur     (2006, 12, 26, 0, 0, 0, 1, 360, -1)        True  \n",
       "m/10004659-arthur     (2006, 12, 26, 0, 0, 0, 1, 360, -1)        True  \n",
       "m/10004659-arthur     (2006, 12, 26, 0, 0, 0, 1, 360, -1)        True  \n",
       "m/10004659-arthur     (2006, 12, 26, 0, 0, 0, 1, 360, -1)        True  \n",
       "\n",
       "[5 rows x 22 columns]"
      ]
     },
     "execution_count": 46,
     "metadata": {},
     "output_type": "execute_result"
    }
   ],
   "source": [
    "df_ract = df_rgen.loc[df_rgen['genres'].isin(['Animation','Musical & Performing Arts'])].explode('actors')\n",
    "df_ract.head()"
   ]
  },
  {
   "cell_type": "markdown",
   "id": "c6db8d7c-fb7b-4521-bf55-c08a078fd02c",
   "metadata": {},
   "source": [
    "Let's generate a similar drop list to before."
   ]
  },
  {
   "cell_type": "code",
   "execution_count": 47,
   "id": "e8d3601f-57d8-49f9-8199-961d4dd1e805",
   "metadata": {},
   "outputs": [],
   "source": [
    "df_drop_act = df_ract.groupby('actors')['movie_title'].nunique()\n",
    "drop_list_act = [act for act in df_drop_act.index if df_drop_act[act] <= 10]"
   ]
  },
  {
   "cell_type": "markdown",
   "id": "8b6e1ad3-ec9a-4396-9668-8a0dc2350919",
   "metadata": {},
   "source": [
    "Now we find the median review score for each actor not in the drop list."
   ]
  },
  {
   "cell_type": "code",
   "execution_count": 48,
   "id": "b0c0d711-fcf1-47c8-b1f8-fcf96c063d70",
   "metadata": {},
   "outputs": [
    {
     "data": {
      "image/png": "[encoded data removed]",
      "text/plain": [
       "<Figure size 1800x720 with 1 Axes>"
      ]
     },
     "metadata": {},
     "output_type": "display_data"
    }
   ],
   "source": [
    "df_ac_sc = df_ract.loc[~df_ract['actors'].isin(drop_list_act)].groupby('actors')['review_score'].median().sort_values(ascending = False)\n",
    "df_ac_sc.index = df_ac_sc.index.map(lambda x: x.replace(' ','\\n')) #fixing names for readability\n",
    "\n",
    "fig4, ax4 = plt.subplots(figsize=(25,10))\n",
    "ax4 = sns.barplot(x = df_ac_sc.index, y = df_ac_sc.values)\n",
    "\n",
    "ax4.set_title('Median Review Score for Popular\\nAnimation and Musical Actors', fontsize = 30)\n",
    "ax4.set_xlabel('Actor', fontsize = 25)\n",
    "ax4.set_ylabel('Median Review Score (0 to 5)', fontsize = 20)\n",
    "ax4.tick_params(axis = 'both', labelsize = 15)\n",
    "plt.savefig('images/median_sc_act');"
   ]
  },
  {
   "cell_type": "markdown",
   "id": "5babac97-f71f-4436-aa75-5b73455d44cf",
   "metadata": {},
   "source": [
    "Now we repeat these investigations for a only films made after 2016."
   ]
  },
  {
   "cell_type": "code",
   "execution_count": 49,
   "id": "61faea35-202c-4eab-8f9c-236b2334bdfb",
   "metadata": {},
   "outputs": [
    {
     "data": {
      "text/html": [
       "<div>\n",
       "<style scoped>\n",
       "    .dataframe tbody tr th:only-of-type {\n",
       "        vertical-align: middle;\n",
       "    }\n",
       "\n",
       "    .dataframe tbody tr th {\n",
       "        vertical-align: top;\n",
       "    }\n",
       "\n",
       "    .dataframe thead th {\n",
       "        text-align: right;\n",
       "    }\n",
       "</style>\n",
       "<table border=\"1\" class=\"dataframe\">\n",
       "  <thead>\n",
       "    <tr style=\"text-align: right;\">\n",
       "      <th></th>\n",
       "      <th>movie_title</th>\n",
       "      <th>content_rating</th>\n",
       "      <th>genres</th>\n",
       "      <th>directors</th>\n",
       "      <th>authors</th>\n",
       "      <th>actors</th>\n",
       "      <th>original_release_date</th>\n",
       "      <th>streaming_release_date</th>\n",
       "      <th>runtime</th>\n",
       "      <th>production_company</th>\n",
       "      <th>...</th>\n",
       "      <th>tomatometer_count</th>\n",
       "      <th>audience_status</th>\n",
       "      <th>audience_rating</th>\n",
       "      <th>audience_count</th>\n",
       "      <th>top_critic</th>\n",
       "      <th>publisher_name</th>\n",
       "      <th>review_type</th>\n",
       "      <th>review_score</th>\n",
       "      <th>review_date</th>\n",
       "      <th>fresh_bool</th>\n",
       "    </tr>\n",
       "    <tr>\n",
       "      <th>rotten_tomatoes_link</th>\n",
       "      <th></th>\n",
       "      <th></th>\n",
       "      <th></th>\n",
       "      <th></th>\n",
       "      <th></th>\n",
       "      <th></th>\n",
       "      <th></th>\n",
       "      <th></th>\n",
       "      <th></th>\n",
       "      <th></th>\n",
       "      <th></th>\n",
       "      <th></th>\n",
       "      <th></th>\n",
       "      <th></th>\n",
       "      <th></th>\n",
       "      <th></th>\n",
       "      <th></th>\n",
       "      <th></th>\n",
       "      <th></th>\n",
       "      <th></th>\n",
       "      <th></th>\n",
       "    </tr>\n",
       "  </thead>\n",
       "  <tbody>\n",
       "    <tr>\n",
       "      <th>m/10_cloverfield_lane</th>\n",
       "      <td>10 Cloverfield Lane</td>\n",
       "      <td>PG-13</td>\n",
       "      <td>[Drama, Mystery &amp; Suspense, Science Fiction &amp; ...</td>\n",
       "      <td>[Dan Trachtenberg]</td>\n",
       "      <td>[Josh Campbell, Matthew Stuecken, Damien Chaze...</td>\n",
       "      <td>[Mary Elizabeth Winstead, John Goodman, John G...</td>\n",
       "      <td>(2016, 3, 11, 0, 0, 0, 4, 71, -1)</td>\n",
       "      <td>(2016, 5, 31, 0, 0, 0, 1, 152, -1)</td>\n",
       "      <td>103.0</td>\n",
       "      <td>Bad Robot Productions</td>\n",
       "      <td>...</td>\n",
       "      <td>309.0</td>\n",
       "      <td>Upright</td>\n",
       "      <td>79.0</td>\n",
       "      <td>60918.0</td>\n",
       "      <td>0.0</td>\n",
       "      <td>Metro</td>\n",
       "      <td>Fresh</td>\n",
       "      <td>4.000000</td>\n",
       "      <td>(2016, 3, 8, 0, 0, 0, 1, 68, -1)</td>\n",
       "      <td>True</td>\n",
       "    </tr>\n",
       "    <tr>\n",
       "      <th>m/10_cloverfield_lane</th>\n",
       "      <td>10 Cloverfield Lane</td>\n",
       "      <td>PG-13</td>\n",
       "      <td>[Drama, Mystery &amp; Suspense, Science Fiction &amp; ...</td>\n",
       "      <td>[Dan Trachtenberg]</td>\n",
       "      <td>[Josh Campbell, Matthew Stuecken, Damien Chaze...</td>\n",
       "      <td>[Mary Elizabeth Winstead, John Goodman, John G...</td>\n",
       "      <td>(2016, 3, 11, 0, 0, 0, 4, 71, -1)</td>\n",
       "      <td>(2016, 5, 31, 0, 0, 0, 1, 152, -1)</td>\n",
       "      <td>103.0</td>\n",
       "      <td>Bad Robot Productions</td>\n",
       "      <td>...</td>\n",
       "      <td>309.0</td>\n",
       "      <td>Upright</td>\n",
       "      <td>79.0</td>\n",
       "      <td>60918.0</td>\n",
       "      <td>1.0</td>\n",
       "      <td>TheWrap</td>\n",
       "      <td>Fresh</td>\n",
       "      <td>4.000000</td>\n",
       "      <td>(2016, 3, 8, 0, 0, 0, 1, 68, -1)</td>\n",
       "      <td>True</td>\n",
       "    </tr>\n",
       "    <tr>\n",
       "      <th>m/10_cloverfield_lane</th>\n",
       "      <td>10 Cloverfield Lane</td>\n",
       "      <td>PG-13</td>\n",
       "      <td>[Drama, Mystery &amp; Suspense, Science Fiction &amp; ...</td>\n",
       "      <td>[Dan Trachtenberg]</td>\n",
       "      <td>[Josh Campbell, Matthew Stuecken, Damien Chaze...</td>\n",
       "      <td>[Mary Elizabeth Winstead, John Goodman, John G...</td>\n",
       "      <td>(2016, 3, 11, 0, 0, 0, 4, 71, -1)</td>\n",
       "      <td>(2016, 5, 31, 0, 0, 0, 1, 152, -1)</td>\n",
       "      <td>103.0</td>\n",
       "      <td>Bad Robot Productions</td>\n",
       "      <td>...</td>\n",
       "      <td>309.0</td>\n",
       "      <td>Upright</td>\n",
       "      <td>79.0</td>\n",
       "      <td>60918.0</td>\n",
       "      <td>1.0</td>\n",
       "      <td>Hollywood Reporter</td>\n",
       "      <td>Fresh</td>\n",
       "      <td>4.000000</td>\n",
       "      <td>(2016, 3, 8, 0, 0, 0, 1, 68, -1)</td>\n",
       "      <td>True</td>\n",
       "    </tr>\n",
       "    <tr>\n",
       "      <th>m/10_cloverfield_lane</th>\n",
       "      <td>10 Cloverfield Lane</td>\n",
       "      <td>PG-13</td>\n",
       "      <td>[Drama, Mystery &amp; Suspense, Science Fiction &amp; ...</td>\n",
       "      <td>[Dan Trachtenberg]</td>\n",
       "      <td>[Josh Campbell, Matthew Stuecken, Damien Chaze...</td>\n",
       "      <td>[Mary Elizabeth Winstead, John Goodman, John G...</td>\n",
       "      <td>(2016, 3, 11, 0, 0, 0, 4, 71, -1)</td>\n",
       "      <td>(2016, 5, 31, 0, 0, 0, 1, 152, -1)</td>\n",
       "      <td>103.0</td>\n",
       "      <td>Bad Robot Productions</td>\n",
       "      <td>...</td>\n",
       "      <td>309.0</td>\n",
       "      <td>Upright</td>\n",
       "      <td>79.0</td>\n",
       "      <td>60918.0</td>\n",
       "      <td>1.0</td>\n",
       "      <td>Entertainment Weekly</td>\n",
       "      <td>Fresh</td>\n",
       "      <td>3.636364</td>\n",
       "      <td>(2016, 3, 8, 0, 0, 0, 1, 68, -1)</td>\n",
       "      <td>True</td>\n",
       "    </tr>\n",
       "    <tr>\n",
       "      <th>m/10_cloverfield_lane</th>\n",
       "      <td>10 Cloverfield Lane</td>\n",
       "      <td>PG-13</td>\n",
       "      <td>[Drama, Mystery &amp; Suspense, Science Fiction &amp; ...</td>\n",
       "      <td>[Dan Trachtenberg]</td>\n",
       "      <td>[Josh Campbell, Matthew Stuecken, Damien Chaze...</td>\n",
       "      <td>[Mary Elizabeth Winstead, John Goodman, John G...</td>\n",
       "      <td>(2016, 3, 11, 0, 0, 0, 4, 71, -1)</td>\n",
       "      <td>(2016, 5, 31, 0, 0, 0, 1, 152, -1)</td>\n",
       "      <td>103.0</td>\n",
       "      <td>Bad Robot Productions</td>\n",
       "      <td>...</td>\n",
       "      <td>309.0</td>\n",
       "      <td>Upright</td>\n",
       "      <td>79.0</td>\n",
       "      <td>60918.0</td>\n",
       "      <td>1.0</td>\n",
       "      <td>Variety</td>\n",
       "      <td>Fresh</td>\n",
       "      <td>4.000000</td>\n",
       "      <td>(2016, 3, 8, 0, 0, 0, 1, 68, -1)</td>\n",
       "      <td>True</td>\n",
       "    </tr>\n",
       "  </tbody>\n",
       "</table>\n",
       "<p>5 rows × 22 columns</p>\n",
       "</div>"
      ],
      "text/plain": [
       "                               movie_title content_rating  \\\n",
       "rotten_tomatoes_link                                        \n",
       "m/10_cloverfield_lane  10 Cloverfield Lane          PG-13   \n",
       "m/10_cloverfield_lane  10 Cloverfield Lane          PG-13   \n",
       "m/10_cloverfield_lane  10 Cloverfield Lane          PG-13   \n",
       "m/10_cloverfield_lane  10 Cloverfield Lane          PG-13   \n",
       "m/10_cloverfield_lane  10 Cloverfield Lane          PG-13   \n",
       "\n",
       "                                                                  genres  \\\n",
       "rotten_tomatoes_link                                                       \n",
       "m/10_cloverfield_lane  [Drama, Mystery & Suspense, Science Fiction & ...   \n",
       "m/10_cloverfield_lane  [Drama, Mystery & Suspense, Science Fiction & ...   \n",
       "m/10_cloverfield_lane  [Drama, Mystery & Suspense, Science Fiction & ...   \n",
       "m/10_cloverfield_lane  [Drama, Mystery & Suspense, Science Fiction & ...   \n",
       "m/10_cloverfield_lane  [Drama, Mystery & Suspense, Science Fiction & ...   \n",
       "\n",
       "                                directors  \\\n",
       "rotten_tomatoes_link                        \n",
       "m/10_cloverfield_lane  [Dan Trachtenberg]   \n",
       "m/10_cloverfield_lane  [Dan Trachtenberg]   \n",
       "m/10_cloverfield_lane  [Dan Trachtenberg]   \n",
       "m/10_cloverfield_lane  [Dan Trachtenberg]   \n",
       "m/10_cloverfield_lane  [Dan Trachtenberg]   \n",
       "\n",
       "                                                                 authors  \\\n",
       "rotten_tomatoes_link                                                       \n",
       "m/10_cloverfield_lane  [Josh Campbell, Matthew Stuecken, Damien Chaze...   \n",
       "m/10_cloverfield_lane  [Josh Campbell, Matthew Stuecken, Damien Chaze...   \n",
       "m/10_cloverfield_lane  [Josh Campbell, Matthew Stuecken, Damien Chaze...   \n",
       "m/10_cloverfield_lane  [Josh Campbell, Matthew Stuecken, Damien Chaze...   \n",
       "m/10_cloverfield_lane  [Josh Campbell, Matthew Stuecken, Damien Chaze...   \n",
       "\n",
       "                                                                  actors  \\\n",
       "rotten_tomatoes_link                                                       \n",
       "m/10_cloverfield_lane  [Mary Elizabeth Winstead, John Goodman, John G...   \n",
       "m/10_cloverfield_lane  [Mary Elizabeth Winstead, John Goodman, John G...   \n",
       "m/10_cloverfield_lane  [Mary Elizabeth Winstead, John Goodman, John G...   \n",
       "m/10_cloverfield_lane  [Mary Elizabeth Winstead, John Goodman, John G...   \n",
       "m/10_cloverfield_lane  [Mary Elizabeth Winstead, John Goodman, John G...   \n",
       "\n",
       "                                   original_release_date  \\\n",
       "rotten_tomatoes_link                                       \n",
       "m/10_cloverfield_lane  (2016, 3, 11, 0, 0, 0, 4, 71, -1)   \n",
       "m/10_cloverfield_lane  (2016, 3, 11, 0, 0, 0, 4, 71, -1)   \n",
       "m/10_cloverfield_lane  (2016, 3, 11, 0, 0, 0, 4, 71, -1)   \n",
       "m/10_cloverfield_lane  (2016, 3, 11, 0, 0, 0, 4, 71, -1)   \n",
       "m/10_cloverfield_lane  (2016, 3, 11, 0, 0, 0, 4, 71, -1)   \n",
       "\n",
       "                                   streaming_release_date  runtime  \\\n",
       "rotten_tomatoes_link                                                 \n",
       "m/10_cloverfield_lane  (2016, 5, 31, 0, 0, 0, 1, 152, -1)    103.0   \n",
       "m/10_cloverfield_lane  (2016, 5, 31, 0, 0, 0, 1, 152, -1)    103.0   \n",
       "m/10_cloverfield_lane  (2016, 5, 31, 0, 0, 0, 1, 152, -1)    103.0   \n",
       "m/10_cloverfield_lane  (2016, 5, 31, 0, 0, 0, 1, 152, -1)    103.0   \n",
       "m/10_cloverfield_lane  (2016, 5, 31, 0, 0, 0, 1, 152, -1)    103.0   \n",
       "\n",
       "                          production_company  ... tomatometer_count  \\\n",
       "rotten_tomatoes_link                          ...                     \n",
       "m/10_cloverfield_lane  Bad Robot Productions  ...             309.0   \n",
       "m/10_cloverfield_lane  Bad Robot Productions  ...             309.0   \n",
       "m/10_cloverfield_lane  Bad Robot Productions  ...             309.0   \n",
       "m/10_cloverfield_lane  Bad Robot Productions  ...             309.0   \n",
       "m/10_cloverfield_lane  Bad Robot Productions  ...             309.0   \n",
       "\n",
       "                       audience_status  audience_rating audience_count  \\\n",
       "rotten_tomatoes_link                                                     \n",
       "m/10_cloverfield_lane          Upright             79.0        60918.0   \n",
       "m/10_cloverfield_lane          Upright             79.0        60918.0   \n",
       "m/10_cloverfield_lane          Upright             79.0        60918.0   \n",
       "m/10_cloverfield_lane          Upright             79.0        60918.0   \n",
       "m/10_cloverfield_lane          Upright             79.0        60918.0   \n",
       "\n",
       "                       top_critic        publisher_name  review_type  \\\n",
       "rotten_tomatoes_link                                                   \n",
       "m/10_cloverfield_lane         0.0                 Metro        Fresh   \n",
       "m/10_cloverfield_lane         1.0               TheWrap        Fresh   \n",
       "m/10_cloverfield_lane         1.0    Hollywood Reporter        Fresh   \n",
       "m/10_cloverfield_lane         1.0  Entertainment Weekly        Fresh   \n",
       "m/10_cloverfield_lane         1.0               Variety        Fresh   \n",
       "\n",
       "                      review_score                       review_date  \\\n",
       "rotten_tomatoes_link                                                   \n",
       "m/10_cloverfield_lane     4.000000  (2016, 3, 8, 0, 0, 0, 1, 68, -1)   \n",
       "m/10_cloverfield_lane     4.000000  (2016, 3, 8, 0, 0, 0, 1, 68, -1)   \n",
       "m/10_cloverfield_lane     4.000000  (2016, 3, 8, 0, 0, 0, 1, 68, -1)   \n",
       "m/10_cloverfield_lane     3.636364  (2016, 3, 8, 0, 0, 0, 1, 68, -1)   \n",
       "m/10_cloverfield_lane     4.000000  (2016, 3, 8, 0, 0, 0, 1, 68, -1)   \n",
       "\n",
       "                       fresh_bool  \n",
       "rotten_tomatoes_link               \n",
       "m/10_cloverfield_lane        True  \n",
       "m/10_cloverfield_lane        True  \n",
       "m/10_cloverfield_lane        True  \n",
       "m/10_cloverfield_lane        True  \n",
       "m/10_cloverfield_lane        True  \n",
       "\n",
       "[5 rows x 22 columns]"
      ]
     },
     "execution_count": 49,
     "metadata": {},
     "output_type": "execute_result"
    }
   ],
   "source": [
    "cutoff = time.strptime('2016-01-01', '%Y-%m-%d')\n",
    "\n",
    "df_rotrec = df_rot.loc[df_rot['original_release_date'] >= cutoff]\n",
    "df_rotrec.head()"
   ]
  },
  {
   "cell_type": "markdown",
   "id": "b13d6d13-44a9-421a-8579-8ecf8c013ffd",
   "metadata": {
    "tags": []
   },
   "source": [
    "First, we explode the genres column for closer inspection."
   ]
  },
  {
   "cell_type": "code",
   "execution_count": 50,
   "id": "ca184843-c324-4137-9c6c-6b7b8386a1e8",
   "metadata": {},
   "outputs": [
    {
     "name": "stdout",
     "output_type": "stream",
     "text": [
      "(79571, 22)\n"
     ]
    },
    {
     "data": {
      "text/html": [
       "<div>\n",
       "<style scoped>\n",
       "    .dataframe tbody tr th:only-of-type {\n",
       "        vertical-align: middle;\n",
       "    }\n",
       "\n",
       "    .dataframe tbody tr th {\n",
       "        vertical-align: top;\n",
       "    }\n",
       "\n",
       "    .dataframe thead th {\n",
       "        text-align: right;\n",
       "    }\n",
       "</style>\n",
       "<table border=\"1\" class=\"dataframe\">\n",
       "  <thead>\n",
       "    <tr style=\"text-align: right;\">\n",
       "      <th></th>\n",
       "      <th>movie_title</th>\n",
       "      <th>content_rating</th>\n",
       "      <th>genres</th>\n",
       "      <th>directors</th>\n",
       "      <th>authors</th>\n",
       "      <th>actors</th>\n",
       "      <th>original_release_date</th>\n",
       "      <th>streaming_release_date</th>\n",
       "      <th>runtime</th>\n",
       "      <th>production_company</th>\n",
       "      <th>...</th>\n",
       "      <th>tomatometer_count</th>\n",
       "      <th>audience_status</th>\n",
       "      <th>audience_rating</th>\n",
       "      <th>audience_count</th>\n",
       "      <th>top_critic</th>\n",
       "      <th>publisher_name</th>\n",
       "      <th>review_type</th>\n",
       "      <th>review_score</th>\n",
       "      <th>review_date</th>\n",
       "      <th>fresh_bool</th>\n",
       "    </tr>\n",
       "    <tr>\n",
       "      <th>rotten_tomatoes_link</th>\n",
       "      <th></th>\n",
       "      <th></th>\n",
       "      <th></th>\n",
       "      <th></th>\n",
       "      <th></th>\n",
       "      <th></th>\n",
       "      <th></th>\n",
       "      <th></th>\n",
       "      <th></th>\n",
       "      <th></th>\n",
       "      <th></th>\n",
       "      <th></th>\n",
       "      <th></th>\n",
       "      <th></th>\n",
       "      <th></th>\n",
       "      <th></th>\n",
       "      <th></th>\n",
       "      <th></th>\n",
       "      <th></th>\n",
       "      <th></th>\n",
       "      <th></th>\n",
       "    </tr>\n",
       "  </thead>\n",
       "  <tbody>\n",
       "    <tr>\n",
       "      <th>m/10_cloverfield_lane</th>\n",
       "      <td>10 Cloverfield Lane</td>\n",
       "      <td>PG-13</td>\n",
       "      <td>Drama</td>\n",
       "      <td>[Dan Trachtenberg]</td>\n",
       "      <td>[Josh Campbell, Matthew Stuecken, Damien Chaze...</td>\n",
       "      <td>[Mary Elizabeth Winstead, John Goodman, John G...</td>\n",
       "      <td>(2016, 3, 11, 0, 0, 0, 4, 71, -1)</td>\n",
       "      <td>(2016, 5, 31, 0, 0, 0, 1, 152, -1)</td>\n",
       "      <td>103.0</td>\n",
       "      <td>Bad Robot Productions</td>\n",
       "      <td>...</td>\n",
       "      <td>309.0</td>\n",
       "      <td>Upright</td>\n",
       "      <td>79.0</td>\n",
       "      <td>60918.0</td>\n",
       "      <td>0.0</td>\n",
       "      <td>Metro</td>\n",
       "      <td>Fresh</td>\n",
       "      <td>4.0</td>\n",
       "      <td>(2016, 3, 8, 0, 0, 0, 1, 68, -1)</td>\n",
       "      <td>True</td>\n",
       "    </tr>\n",
       "    <tr>\n",
       "      <th>m/10_cloverfield_lane</th>\n",
       "      <td>10 Cloverfield Lane</td>\n",
       "      <td>PG-13</td>\n",
       "      <td>Mystery &amp; Suspense</td>\n",
       "      <td>[Dan Trachtenberg]</td>\n",
       "      <td>[Josh Campbell, Matthew Stuecken, Damien Chaze...</td>\n",
       "      <td>[Mary Elizabeth Winstead, John Goodman, John G...</td>\n",
       "      <td>(2016, 3, 11, 0, 0, 0, 4, 71, -1)</td>\n",
       "      <td>(2016, 5, 31, 0, 0, 0, 1, 152, -1)</td>\n",
       "      <td>103.0</td>\n",
       "      <td>Bad Robot Productions</td>\n",
       "      <td>...</td>\n",
       "      <td>309.0</td>\n",
       "      <td>Upright</td>\n",
       "      <td>79.0</td>\n",
       "      <td>60918.0</td>\n",
       "      <td>0.0</td>\n",
       "      <td>Metro</td>\n",
       "      <td>Fresh</td>\n",
       "      <td>4.0</td>\n",
       "      <td>(2016, 3, 8, 0, 0, 0, 1, 68, -1)</td>\n",
       "      <td>True</td>\n",
       "    </tr>\n",
       "    <tr>\n",
       "      <th>m/10_cloverfield_lane</th>\n",
       "      <td>10 Cloverfield Lane</td>\n",
       "      <td>PG-13</td>\n",
       "      <td>Science Fiction &amp; Fantasy</td>\n",
       "      <td>[Dan Trachtenberg]</td>\n",
       "      <td>[Josh Campbell, Matthew Stuecken, Damien Chaze...</td>\n",
       "      <td>[Mary Elizabeth Winstead, John Goodman, John G...</td>\n",
       "      <td>(2016, 3, 11, 0, 0, 0, 4, 71, -1)</td>\n",
       "      <td>(2016, 5, 31, 0, 0, 0, 1, 152, -1)</td>\n",
       "      <td>103.0</td>\n",
       "      <td>Bad Robot Productions</td>\n",
       "      <td>...</td>\n",
       "      <td>309.0</td>\n",
       "      <td>Upright</td>\n",
       "      <td>79.0</td>\n",
       "      <td>60918.0</td>\n",
       "      <td>0.0</td>\n",
       "      <td>Metro</td>\n",
       "      <td>Fresh</td>\n",
       "      <td>4.0</td>\n",
       "      <td>(2016, 3, 8, 0, 0, 0, 1, 68, -1)</td>\n",
       "      <td>True</td>\n",
       "    </tr>\n",
       "    <tr>\n",
       "      <th>m/10_cloverfield_lane</th>\n",
       "      <td>10 Cloverfield Lane</td>\n",
       "      <td>PG-13</td>\n",
       "      <td>Drama</td>\n",
       "      <td>[Dan Trachtenberg]</td>\n",
       "      <td>[Josh Campbell, Matthew Stuecken, Damien Chaze...</td>\n",
       "      <td>[Mary Elizabeth Winstead, John Goodman, John G...</td>\n",
       "      <td>(2016, 3, 11, 0, 0, 0, 4, 71, -1)</td>\n",
       "      <td>(2016, 5, 31, 0, 0, 0, 1, 152, -1)</td>\n",
       "      <td>103.0</td>\n",
       "      <td>Bad Robot Productions</td>\n",
       "      <td>...</td>\n",
       "      <td>309.0</td>\n",
       "      <td>Upright</td>\n",
       "      <td>79.0</td>\n",
       "      <td>60918.0</td>\n",
       "      <td>1.0</td>\n",
       "      <td>TheWrap</td>\n",
       "      <td>Fresh</td>\n",
       "      <td>4.0</td>\n",
       "      <td>(2016, 3, 8, 0, 0, 0, 1, 68, -1)</td>\n",
       "      <td>True</td>\n",
       "    </tr>\n",
       "    <tr>\n",
       "      <th>m/10_cloverfield_lane</th>\n",
       "      <td>10 Cloverfield Lane</td>\n",
       "      <td>PG-13</td>\n",
       "      <td>Mystery &amp; Suspense</td>\n",
       "      <td>[Dan Trachtenberg]</td>\n",
       "      <td>[Josh Campbell, Matthew Stuecken, Damien Chaze...</td>\n",
       "      <td>[Mary Elizabeth Winstead, John Goodman, John G...</td>\n",
       "      <td>(2016, 3, 11, 0, 0, 0, 4, 71, -1)</td>\n",
       "      <td>(2016, 5, 31, 0, 0, 0, 1, 152, -1)</td>\n",
       "      <td>103.0</td>\n",
       "      <td>Bad Robot Productions</td>\n",
       "      <td>...</td>\n",
       "      <td>309.0</td>\n",
       "      <td>Upright</td>\n",
       "      <td>79.0</td>\n",
       "      <td>60918.0</td>\n",
       "      <td>1.0</td>\n",
       "      <td>TheWrap</td>\n",
       "      <td>Fresh</td>\n",
       "      <td>4.0</td>\n",
       "      <td>(2016, 3, 8, 0, 0, 0, 1, 68, -1)</td>\n",
       "      <td>True</td>\n",
       "    </tr>\n",
       "  </tbody>\n",
       "</table>\n",
       "<p>5 rows × 22 columns</p>\n",
       "</div>"
      ],
      "text/plain": [
       "                               movie_title content_rating  \\\n",
       "rotten_tomatoes_link                                        \n",
       "m/10_cloverfield_lane  10 Cloverfield Lane          PG-13   \n",
       "m/10_cloverfield_lane  10 Cloverfield Lane          PG-13   \n",
       "m/10_cloverfield_lane  10 Cloverfield Lane          PG-13   \n",
       "m/10_cloverfield_lane  10 Cloverfield Lane          PG-13   \n",
       "m/10_cloverfield_lane  10 Cloverfield Lane          PG-13   \n",
       "\n",
       "                                          genres           directors  \\\n",
       "rotten_tomatoes_link                                                   \n",
       "m/10_cloverfield_lane                      Drama  [Dan Trachtenberg]   \n",
       "m/10_cloverfield_lane         Mystery & Suspense  [Dan Trachtenberg]   \n",
       "m/10_cloverfield_lane  Science Fiction & Fantasy  [Dan Trachtenberg]   \n",
       "m/10_cloverfield_lane                      Drama  [Dan Trachtenberg]   \n",
       "m/10_cloverfield_lane         Mystery & Suspense  [Dan Trachtenberg]   \n",
       "\n",
       "                                                                 authors  \\\n",
       "rotten_tomatoes_link                                                       \n",
       "m/10_cloverfield_lane  [Josh Campbell, Matthew Stuecken, Damien Chaze...   \n",
       "m/10_cloverfield_lane  [Josh Campbell, Matthew Stuecken, Damien Chaze...   \n",
       "m/10_cloverfield_lane  [Josh Campbell, Matthew Stuecken, Damien Chaze...   \n",
       "m/10_cloverfield_lane  [Josh Campbell, Matthew Stuecken, Damien Chaze...   \n",
       "m/10_cloverfield_lane  [Josh Campbell, Matthew Stuecken, Damien Chaze...   \n",
       "\n",
       "                                                                  actors  \\\n",
       "rotten_tomatoes_link                                                       \n",
       "m/10_cloverfield_lane  [Mary Elizabeth Winstead, John Goodman, John G...   \n",
       "m/10_cloverfield_lane  [Mary Elizabeth Winstead, John Goodman, John G...   \n",
       "m/10_cloverfield_lane  [Mary Elizabeth Winstead, John Goodman, John G...   \n",
       "m/10_cloverfield_lane  [Mary Elizabeth Winstead, John Goodman, John G...   \n",
       "m/10_cloverfield_lane  [Mary Elizabeth Winstead, John Goodman, John G...   \n",
       "\n",
       "                                   original_release_date  \\\n",
       "rotten_tomatoes_link                                       \n",
       "m/10_cloverfield_lane  (2016, 3, 11, 0, 0, 0, 4, 71, -1)   \n",
       "m/10_cloverfield_lane  (2016, 3, 11, 0, 0, 0, 4, 71, -1)   \n",
       "m/10_cloverfield_lane  (2016, 3, 11, 0, 0, 0, 4, 71, -1)   \n",
       "m/10_cloverfield_lane  (2016, 3, 11, 0, 0, 0, 4, 71, -1)   \n",
       "m/10_cloverfield_lane  (2016, 3, 11, 0, 0, 0, 4, 71, -1)   \n",
       "\n",
       "                                   streaming_release_date  runtime  \\\n",
       "rotten_tomatoes_link                                                 \n",
       "m/10_cloverfield_lane  (2016, 5, 31, 0, 0, 0, 1, 152, -1)    103.0   \n",
       "m/10_cloverfield_lane  (2016, 5, 31, 0, 0, 0, 1, 152, -1)    103.0   \n",
       "m/10_cloverfield_lane  (2016, 5, 31, 0, 0, 0, 1, 152, -1)    103.0   \n",
       "m/10_cloverfield_lane  (2016, 5, 31, 0, 0, 0, 1, 152, -1)    103.0   \n",
       "m/10_cloverfield_lane  (2016, 5, 31, 0, 0, 0, 1, 152, -1)    103.0   \n",
       "\n",
       "                          production_company  ... tomatometer_count  \\\n",
       "rotten_tomatoes_link                          ...                     \n",
       "m/10_cloverfield_lane  Bad Robot Productions  ...             309.0   \n",
       "m/10_cloverfield_lane  Bad Robot Productions  ...             309.0   \n",
       "m/10_cloverfield_lane  Bad Robot Productions  ...             309.0   \n",
       "m/10_cloverfield_lane  Bad Robot Productions  ...             309.0   \n",
       "m/10_cloverfield_lane  Bad Robot Productions  ...             309.0   \n",
       "\n",
       "                       audience_status  audience_rating audience_count  \\\n",
       "rotten_tomatoes_link                                                     \n",
       "m/10_cloverfield_lane          Upright             79.0        60918.0   \n",
       "m/10_cloverfield_lane          Upright             79.0        60918.0   \n",
       "m/10_cloverfield_lane          Upright             79.0        60918.0   \n",
       "m/10_cloverfield_lane          Upright             79.0        60918.0   \n",
       "m/10_cloverfield_lane          Upright             79.0        60918.0   \n",
       "\n",
       "                       top_critic  publisher_name  review_type review_score  \\\n",
       "rotten_tomatoes_link                                                          \n",
       "m/10_cloverfield_lane         0.0           Metro        Fresh          4.0   \n",
       "m/10_cloverfield_lane         0.0           Metro        Fresh          4.0   \n",
       "m/10_cloverfield_lane         0.0           Metro        Fresh          4.0   \n",
       "m/10_cloverfield_lane         1.0         TheWrap        Fresh          4.0   \n",
       "m/10_cloverfield_lane         1.0         TheWrap        Fresh          4.0   \n",
       "\n",
       "                                            review_date  fresh_bool  \n",
       "rotten_tomatoes_link                                                 \n",
       "m/10_cloverfield_lane  (2016, 3, 8, 0, 0, 0, 1, 68, -1)        True  \n",
       "m/10_cloverfield_lane  (2016, 3, 8, 0, 0, 0, 1, 68, -1)        True  \n",
       "m/10_cloverfield_lane  (2016, 3, 8, 0, 0, 0, 1, 68, -1)        True  \n",
       "m/10_cloverfield_lane  (2016, 3, 8, 0, 0, 0, 1, 68, -1)        True  \n",
       "m/10_cloverfield_lane  (2016, 3, 8, 0, 0, 0, 1, 68, -1)        True  \n",
       "\n",
       "[5 rows x 22 columns]"
      ]
     },
     "execution_count": 50,
     "metadata": {},
     "output_type": "execute_result"
    }
   ],
   "source": [
    "df_recgen = df_rotrec.explode('genres')\n",
    "print(df_recgen.shape)\n",
    "df_recgen.head()"
   ]
  },
  {
   "cell_type": "markdown",
   "id": "4223ac3b-3373-4783-9ff6-ab3341405e80",
   "metadata": {},
   "source": [
    "In preparation for a graph, we created a Series of median `review_score`s when grouped by `genres`. This time, we won't drop any genres."
   ]
  },
  {
   "cell_type": "code",
   "execution_count": 51,
   "id": "6e07d53c-a099-4875-95e9-a56dfcf412cf",
   "metadata": {},
   "outputs": [
    {
     "data": {
      "text/plain": [
       "genres\n",
       "Mystery\\n&\\nSuspense            3.750000\n",
       "Musical\\n&\\nPerforming\\nArts    3.750000\n",
       "Drama                           3.750000\n",
       "Science\\nFiction\\n&\\nFantasy    3.636364\n",
       "Animation                       3.636364\n",
       "Name: review_score, dtype: float64"
      ]
     },
     "execution_count": 51,
     "metadata": {},
     "output_type": "execute_result"
    }
   ],
   "source": [
    "df_g_sc_rec = df_recgen.groupby('genres')['review_score'].median().sort_values(ascending = False)\n",
    "df_g_sc_rec.index = df_g_sc_rec.index.map(lambda x: x.replace(' ','\\n')) #this is to make the graph look cleaner. Replace spaces with new lines\n",
    "df_g_sc_rec.head()"
   ]
  },
  {
   "cell_type": "markdown",
   "id": "61f6e6a9-ba23-4756-9877-485e58cd54a4",
   "metadata": {},
   "source": [
    "Let's plot this information now."
   ]
  },
  {
   "cell_type": "code",
   "execution_count": 52,
   "id": "c061136e-fddf-4d47-b7f7-e51d27a24b96",
   "metadata": {},
   "outputs": [
    {
     "data": {
      "image/png": "[encoded data removed]",
      "text/plain": [
       "<Figure size 1800x720 with 1 Axes>"
      ]
     },
     "metadata": {},
     "output_type": "display_data"
    }
   ],
   "source": [
    "fig5, ax5 = plt.subplots(figsize = (25,10))\n",
    "ax5 = sns.barplot(x = df_g_sc_rec.index, y = df_g_sc_rec.values)\n",
    "\n",
    "ax5.set_title('Recent Median Review Score for Each Genre', fontsize = 30)\n",
    "ax5.set_xlabel('Genre', fontsize = 25)\n",
    "ax5.set_ylabel('Median Review Score (0 to 5)', fontsize = 20)\n",
    "ax5.tick_params(axis = 'both', labelsize = 15)\n",
    "plt.savefig('images/rec_median_sc_gen');"
   ]
  },
  {
   "cell_type": "markdown",
   "id": "0e8d7ee3-3baf-42a5-b909-d3a85825a2d9",
   "metadata": {},
   "source": [
    "Now let's make a boxplot of the review scores for each genre"
   ]
  },
  {
   "cell_type": "code",
   "execution_count": 53,
   "id": "4fc07ed6-4e6b-4098-916c-b8ee38b4436e",
   "metadata": {},
   "outputs": [
    {
     "data": {
      "image/png": "[encoded data removed]",
      "text/plain": [
       "<Figure size 1800x720 with 1 Axes>"
      ]
     },
     "metadata": {},
     "output_type": "display_data"
    }
   ],
   "source": [
    "df_genre_edit_rec = copy.deepcopy(df_recgen) #making a copy so we can clean the genre names\n",
    "df_genre_edit_rec['genres'] = df_genre_edit_rec['genres'].map(lambda x: (' '.join(x.split()[:-1])+'\\n'+x.split()[-1]).strip('\\n')) #cleaning names here\n",
    "\n",
    "fig6, ax6 = plt.subplots(figsize = (25,10))\n",
    "ax6 = sns.boxplot(data = df_genre_edit_rec, x = 'genres', y = 'review_score')\n",
    "\n",
    "ax6.set_title('Recent Review Scores for each Genre', fontsize = 30)\n",
    "ax6.set_xlabel('Genre', fontsize = 20)\n",
    "ax6.set_ylabel('Review Scores (0 to 5)', fontsize = 20)\n",
    "plt.xticks(rotation = 45)\n",
    "ax6.tick_params(axis = 'both', labelsize = 15)\n",
    "plt.savefig('images/rec_box_sc_gen');"
   ]
  },
  {
   "cell_type": "markdown",
   "id": "9f619394-ac07-4cf0-9a74-16dd0a9cfecb",
   "metadata": {},
   "source": [
    "Finally, we make a graph of the \"freshness\" of each of the genres. We make the grouped series first..."
   ]
  },
  {
   "cell_type": "code",
   "execution_count": 54,
   "id": "8cb2a214-b90c-4252-ba87-0c5fdd7b0fcb",
   "metadata": {},
   "outputs": [
    {
     "data": {
      "text/plain": [
       "genres\n",
       "Animation                       0.815877\n",
       "Mystery\\n&\\nSuspense            0.807248\n",
       "Musical\\n&\\nPerforming\\nArts    0.788815\n",
       "Drama                           0.766572\n",
       "Kids\\n&\\nFamily                 0.747002\n",
       "Name: fresh_bool, dtype: float64"
      ]
     },
     "execution_count": 54,
     "metadata": {},
     "output_type": "execute_result"
    }
   ],
   "source": [
    "df_g_fb_rec = df_recgen.groupby('genres')['fresh_bool'].mean().sort_values(ascending = False)\n",
    "df_g_fb_rec.index = df_g_fb_rec.index.map(lambda x: x.replace(' ','\\n')) #cleaning names again\n",
    "df_g_fb_rec.head()"
   ]
  },
  {
   "cell_type": "markdown",
   "id": "19897542-7316-4753-98c8-03cce85de620",
   "metadata": {},
   "source": [
    "And then we plot it."
   ]
  },
  {
   "cell_type": "code",
   "execution_count": 55,
   "id": "eb9a1edb-6dbb-4a9f-bbbb-28763a29753a",
   "metadata": {},
   "outputs": [
    {
     "data": {
      "image/png": "[encoded data removed]",
      "text/plain": [
       "<Figure size 1800x720 with 1 Axes>"
      ]
     },
     "metadata": {},
     "output_type": "display_data"
    }
   ],
   "source": [
    "fig7, ax7 = plt.subplots(figsize = (25,10))\n",
    "ax7 = sns.barplot(x = df_g_fb_rec.index, y = df_g_fb_rec.values*100) #the '*100' changes these decimals to percentages\n",
    "\n",
    "ax7.set_title('Recent \"Freshness\" of Each Genre', fontsize = 30)\n",
    "ax7.set_xlabel('Genre', fontsize = 20)\n",
    "ax7.set_ylabel('\"Fresh\" Percentage', fontsize = 20)\n",
    "ax7.tick_params(axis = 'both', labelsize = 15)\n",
    "plt.savefig('images/rec_genre_fresh');"
   ]
  },
  {
   "cell_type": "markdown",
   "id": "583ce8c5-8522-4c6a-99ea-0b6f1eb2c7c0",
   "metadata": {},
   "source": [
    "Let's now investigate the most popular actors for animation and musicals"
   ]
  },
  {
   "cell_type": "code",
   "execution_count": 56,
   "id": "7393bbb6-0520-480a-9c0f-09d624c7e443",
   "metadata": {},
   "outputs": [
    {
     "data": {
      "text/html": [
       "<div>\n",
       "<style scoped>\n",
       "    .dataframe tbody tr th:only-of-type {\n",
       "        vertical-align: middle;\n",
       "    }\n",
       "\n",
       "    .dataframe tbody tr th {\n",
       "        vertical-align: top;\n",
       "    }\n",
       "\n",
       "    .dataframe thead th {\n",
       "        text-align: right;\n",
       "    }\n",
       "</style>\n",
       "<table border=\"1\" class=\"dataframe\">\n",
       "  <thead>\n",
       "    <tr style=\"text-align: right;\">\n",
       "      <th></th>\n",
       "      <th>movie_title</th>\n",
       "      <th>content_rating</th>\n",
       "      <th>genres</th>\n",
       "      <th>directors</th>\n",
       "      <th>authors</th>\n",
       "      <th>actors</th>\n",
       "      <th>original_release_date</th>\n",
       "      <th>streaming_release_date</th>\n",
       "      <th>runtime</th>\n",
       "      <th>production_company</th>\n",
       "      <th>...</th>\n",
       "      <th>tomatometer_count</th>\n",
       "      <th>audience_status</th>\n",
       "      <th>audience_rating</th>\n",
       "      <th>audience_count</th>\n",
       "      <th>top_critic</th>\n",
       "      <th>publisher_name</th>\n",
       "      <th>review_type</th>\n",
       "      <th>review_score</th>\n",
       "      <th>review_date</th>\n",
       "      <th>fresh_bool</th>\n",
       "    </tr>\n",
       "    <tr>\n",
       "      <th>rotten_tomatoes_link</th>\n",
       "      <th></th>\n",
       "      <th></th>\n",
       "      <th></th>\n",
       "      <th></th>\n",
       "      <th></th>\n",
       "      <th></th>\n",
       "      <th></th>\n",
       "      <th></th>\n",
       "      <th></th>\n",
       "      <th></th>\n",
       "      <th></th>\n",
       "      <th></th>\n",
       "      <th></th>\n",
       "      <th></th>\n",
       "      <th></th>\n",
       "      <th></th>\n",
       "      <th></th>\n",
       "      <th></th>\n",
       "      <th></th>\n",
       "      <th></th>\n",
       "      <th></th>\n",
       "    </tr>\n",
       "  </thead>\n",
       "  <tbody>\n",
       "    <tr>\n",
       "      <th>m/akira</th>\n",
       "      <td>Akira</td>\n",
       "      <td>R</td>\n",
       "      <td>Animation</td>\n",
       "      <td>[Katsuhiro Ôtomo]</td>\n",
       "      <td>[Katsuhiro Ôtomo, Izo Hashimoto]</td>\n",
       "      <td>Cameron Clarke</td>\n",
       "      <td>(2020, 9, 24, 0, 0, 0, 3, 268, -1)</td>\n",
       "      <td>(2016, 11, 30, 0, 0, 0, 2, 335, -1)</td>\n",
       "      <td>124.0</td>\n",
       "      <td>Streamline Pictures</td>\n",
       "      <td>...</td>\n",
       "      <td>49.0</td>\n",
       "      <td>Upright</td>\n",
       "      <td>90.0</td>\n",
       "      <td>148559.0</td>\n",
       "      <td>0.0</td>\n",
       "      <td>rec.arts.movies.reviews</td>\n",
       "      <td>Fresh</td>\n",
       "      <td>4.0</td>\n",
       "      <td>(2000, 1, 1, 0, 0, 0, 5, 1, -1)</td>\n",
       "      <td>True</td>\n",
       "    </tr>\n",
       "    <tr>\n",
       "      <th>m/akira</th>\n",
       "      <td>Akira</td>\n",
       "      <td>R</td>\n",
       "      <td>Animation</td>\n",
       "      <td>[Katsuhiro Ôtomo]</td>\n",
       "      <td>[Katsuhiro Ôtomo, Izo Hashimoto]</td>\n",
       "      <td>Mitsuo Iwara</td>\n",
       "      <td>(2020, 9, 24, 0, 0, 0, 3, 268, -1)</td>\n",
       "      <td>(2016, 11, 30, 0, 0, 0, 2, 335, -1)</td>\n",
       "      <td>124.0</td>\n",
       "      <td>Streamline Pictures</td>\n",
       "      <td>...</td>\n",
       "      <td>49.0</td>\n",
       "      <td>Upright</td>\n",
       "      <td>90.0</td>\n",
       "      <td>148559.0</td>\n",
       "      <td>0.0</td>\n",
       "      <td>rec.arts.movies.reviews</td>\n",
       "      <td>Fresh</td>\n",
       "      <td>4.0</td>\n",
       "      <td>(2000, 1, 1, 0, 0, 0, 5, 1, -1)</td>\n",
       "      <td>True</td>\n",
       "    </tr>\n",
       "    <tr>\n",
       "      <th>m/akira</th>\n",
       "      <td>Akira</td>\n",
       "      <td>R</td>\n",
       "      <td>Animation</td>\n",
       "      <td>[Katsuhiro Ôtomo]</td>\n",
       "      <td>[Katsuhiro Ôtomo, Izo Hashimoto]</td>\n",
       "      <td>Nozomu Sasaki</td>\n",
       "      <td>(2020, 9, 24, 0, 0, 0, 3, 268, -1)</td>\n",
       "      <td>(2016, 11, 30, 0, 0, 0, 2, 335, -1)</td>\n",
       "      <td>124.0</td>\n",
       "      <td>Streamline Pictures</td>\n",
       "      <td>...</td>\n",
       "      <td>49.0</td>\n",
       "      <td>Upright</td>\n",
       "      <td>90.0</td>\n",
       "      <td>148559.0</td>\n",
       "      <td>0.0</td>\n",
       "      <td>rec.arts.movies.reviews</td>\n",
       "      <td>Fresh</td>\n",
       "      <td>4.0</td>\n",
       "      <td>(2000, 1, 1, 0, 0, 0, 5, 1, -1)</td>\n",
       "      <td>True</td>\n",
       "    </tr>\n",
       "    <tr>\n",
       "      <th>m/akira</th>\n",
       "      <td>Akira</td>\n",
       "      <td>R</td>\n",
       "      <td>Animation</td>\n",
       "      <td>[Katsuhiro Ôtomo]</td>\n",
       "      <td>[Katsuhiro Ôtomo, Izo Hashimoto]</td>\n",
       "      <td>Jan Rabson</td>\n",
       "      <td>(2020, 9, 24, 0, 0, 0, 3, 268, -1)</td>\n",
       "      <td>(2016, 11, 30, 0, 0, 0, 2, 335, -1)</td>\n",
       "      <td>124.0</td>\n",
       "      <td>Streamline Pictures</td>\n",
       "      <td>...</td>\n",
       "      <td>49.0</td>\n",
       "      <td>Upright</td>\n",
       "      <td>90.0</td>\n",
       "      <td>148559.0</td>\n",
       "      <td>0.0</td>\n",
       "      <td>rec.arts.movies.reviews</td>\n",
       "      <td>Fresh</td>\n",
       "      <td>4.0</td>\n",
       "      <td>(2000, 1, 1, 0, 0, 0, 5, 1, -1)</td>\n",
       "      <td>True</td>\n",
       "    </tr>\n",
       "    <tr>\n",
       "      <th>m/akira</th>\n",
       "      <td>Akira</td>\n",
       "      <td>R</td>\n",
       "      <td>Animation</td>\n",
       "      <td>[Katsuhiro Ôtomo]</td>\n",
       "      <td>[Katsuhiro Ôtomo, Izo Hashimoto]</td>\n",
       "      <td>Lara Cody</td>\n",
       "      <td>(2020, 9, 24, 0, 0, 0, 3, 268, -1)</td>\n",
       "      <td>(2016, 11, 30, 0, 0, 0, 2, 335, -1)</td>\n",
       "      <td>124.0</td>\n",
       "      <td>Streamline Pictures</td>\n",
       "      <td>...</td>\n",
       "      <td>49.0</td>\n",
       "      <td>Upright</td>\n",
       "      <td>90.0</td>\n",
       "      <td>148559.0</td>\n",
       "      <td>0.0</td>\n",
       "      <td>rec.arts.movies.reviews</td>\n",
       "      <td>Fresh</td>\n",
       "      <td>4.0</td>\n",
       "      <td>(2000, 1, 1, 0, 0, 0, 5, 1, -1)</td>\n",
       "      <td>True</td>\n",
       "    </tr>\n",
       "  </tbody>\n",
       "</table>\n",
       "<p>5 rows × 22 columns</p>\n",
       "</div>"
      ],
      "text/plain": [
       "                     movie_title content_rating     genres          directors  \\\n",
       "rotten_tomatoes_link                                                            \n",
       "m/akira                    Akira              R  Animation  [Katsuhiro Ôtomo]   \n",
       "m/akira                    Akira              R  Animation  [Katsuhiro Ôtomo]   \n",
       "m/akira                    Akira              R  Animation  [Katsuhiro Ôtomo]   \n",
       "m/akira                    Akira              R  Animation  [Katsuhiro Ôtomo]   \n",
       "m/akira                    Akira              R  Animation  [Katsuhiro Ôtomo]   \n",
       "\n",
       "                                               authors          actors  \\\n",
       "rotten_tomatoes_link                                                     \n",
       "m/akira               [Katsuhiro Ôtomo, Izo Hashimoto]  Cameron Clarke   \n",
       "m/akira               [Katsuhiro Ôtomo, Izo Hashimoto]    Mitsuo Iwara   \n",
       "m/akira               [Katsuhiro Ôtomo, Izo Hashimoto]   Nozomu Sasaki   \n",
       "m/akira               [Katsuhiro Ôtomo, Izo Hashimoto]      Jan Rabson   \n",
       "m/akira               [Katsuhiro Ôtomo, Izo Hashimoto]       Lara Cody   \n",
       "\n",
       "                                   original_release_date  \\\n",
       "rotten_tomatoes_link                                       \n",
       "m/akira               (2020, 9, 24, 0, 0, 0, 3, 268, -1)   \n",
       "m/akira               (2020, 9, 24, 0, 0, 0, 3, 268, -1)   \n",
       "m/akira               (2020, 9, 24, 0, 0, 0, 3, 268, -1)   \n",
       "m/akira               (2020, 9, 24, 0, 0, 0, 3, 268, -1)   \n",
       "m/akira               (2020, 9, 24, 0, 0, 0, 3, 268, -1)   \n",
       "\n",
       "                                   streaming_release_date  runtime  \\\n",
       "rotten_tomatoes_link                                                 \n",
       "m/akira               (2016, 11, 30, 0, 0, 0, 2, 335, -1)    124.0   \n",
       "m/akira               (2016, 11, 30, 0, 0, 0, 2, 335, -1)    124.0   \n",
       "m/akira               (2016, 11, 30, 0, 0, 0, 2, 335, -1)    124.0   \n",
       "m/akira               (2016, 11, 30, 0, 0, 0, 2, 335, -1)    124.0   \n",
       "m/akira               (2016, 11, 30, 0, 0, 0, 2, 335, -1)    124.0   \n",
       "\n",
       "                       production_company  ... tomatometer_count  \\\n",
       "rotten_tomatoes_link                       ...                     \n",
       "m/akira               Streamline Pictures  ...              49.0   \n",
       "m/akira               Streamline Pictures  ...              49.0   \n",
       "m/akira               Streamline Pictures  ...              49.0   \n",
       "m/akira               Streamline Pictures  ...              49.0   \n",
       "m/akira               Streamline Pictures  ...              49.0   \n",
       "\n",
       "                      audience_status  audience_rating audience_count  \\\n",
       "rotten_tomatoes_link                                                    \n",
       "m/akira                       Upright             90.0       148559.0   \n",
       "m/akira                       Upright             90.0       148559.0   \n",
       "m/akira                       Upright             90.0       148559.0   \n",
       "m/akira                       Upright             90.0       148559.0   \n",
       "m/akira                       Upright             90.0       148559.0   \n",
       "\n",
       "                      top_critic           publisher_name  review_type  \\\n",
       "rotten_tomatoes_link                                                     \n",
       "m/akira                      0.0  rec.arts.movies.reviews        Fresh   \n",
       "m/akira                      0.0  rec.arts.movies.reviews        Fresh   \n",
       "m/akira                      0.0  rec.arts.movies.reviews        Fresh   \n",
       "m/akira                      0.0  rec.arts.movies.reviews        Fresh   \n",
       "m/akira                      0.0  rec.arts.movies.reviews        Fresh   \n",
       "\n",
       "                     review_score                      review_date  fresh_bool  \n",
       "rotten_tomatoes_link                                                            \n",
       "m/akira                       4.0  (2000, 1, 1, 0, 0, 0, 5, 1, -1)        True  \n",
       "m/akira                       4.0  (2000, 1, 1, 0, 0, 0, 5, 1, -1)        True  \n",
       "m/akira                       4.0  (2000, 1, 1, 0, 0, 0, 5, 1, -1)        True  \n",
       "m/akira                       4.0  (2000, 1, 1, 0, 0, 0, 5, 1, -1)        True  \n",
       "m/akira                       4.0  (2000, 1, 1, 0, 0, 0, 5, 1, -1)        True  \n",
       "\n",
       "[5 rows x 22 columns]"
      ]
     },
     "execution_count": 56,
     "metadata": {},
     "output_type": "execute_result"
    }
   ],
   "source": [
    "df_recact = df_recgen.loc[df_recgen['genres'].isin(['Animation','Musical & Performing Arts'])].explode('actors')\n",
    "df_recact.head()"
   ]
  },
  {
   "cell_type": "markdown",
   "id": "3ff6ff7a-0b3a-4b9b-b2d5-a2808e792776",
   "metadata": {},
   "source": [
    "Let's generate a similar drop list to before."
   ]
  },
  {
   "cell_type": "code",
   "execution_count": 57,
   "id": "4c9c15d6-7ca4-418c-8bd7-5b3034e99f4a",
   "metadata": {},
   "outputs": [],
   "source": [
    "df_drop_act_rec = df_recact.groupby('actors')['movie_title'].nunique()\n",
    "drop_list_act_rec = [act for act in df_drop_act_rec.index if df_drop_act_rec[act] <= 2] #any actor who was only in 2 or fewer movies"
   ]
  },
  {
   "cell_type": "markdown",
   "id": "0b61c17a-4e4b-4e99-8c6b-8d15ef5feb4c",
   "metadata": {},
   "source": [
    "Now we find the median review score for each actor not in the drop list."
   ]
  },
  {
   "cell_type": "code",
   "execution_count": 58,
   "id": "22c2f1e4-bf96-42a9-bf59-3f1c27720077",
   "metadata": {},
   "outputs": [
    {
     "data": {
      "image/png": "[encoded data removed]",
      "text/plain": [
       "<Figure size 1800x720 with 1 Axes>"
      ]
     },
     "metadata": {},
     "output_type": "display_data"
    }
   ],
   "source": [
    "df_ac_sc_rec = df_recact.loc[~df_recact['actors'].isin(drop_list_act_rec)].groupby('actors')['review_score'].median().sort_values(ascending = False)\n",
    "df_ac_sc_rec.index = df_ac_sc_rec.index.map(lambda x: x.replace(' ','\\n')) #fixing names for readability\n",
    "\n",
    "fig8, ax8 = plt.subplots(figsize=(25,10))\n",
    "ax8 = sns.barplot(x = df_ac_sc_rec.index, y = df_ac_sc_rec.values)\n",
    "\n",
    "ax8.set_title('Median Review Score for Recently Popular\\nAnimation and Musical Actors', fontsize = 30)\n",
    "ax8.set_xlabel('Actor', fontsize = 25)\n",
    "ax8.set_ylabel('Median Review Score (0 to 5)', fontsize = 20)\n",
    "ax8.tick_params(axis = 'both', labelsize = 15)\n",
    "plt.savefig('images/rec_median_sc_act');"
   ]
  },
  {
   "cell_type": "markdown",
   "id": "6506f996-47eb-4bba-9d08-09f4cf9baef6",
   "metadata": {},
   "source": [
    "# Part 2: All the other Tables"
   ]
  }
 ],
 "metadata": {
  "kernelspec": {
   "display_name": "learn-env",
   "language": "python",
   "name": "learn-env"
  },
  "language_info": {
   "codemirror_mode": {
    "name": "ipython",
    "version": 3
   },
   "file_extension": ".py",
   "mimetype": "text/x-python",
   "name": "python",
   "nbconvert_exporter": "python",
   "pygments_lexer": "ipython3",
   "version": "3.8.5"
  }
 },
 "nbformat": 4,
 "nbformat_minor": 5
}
