{
 "cells": [
  {
   "cell_type": "code",
   "execution_count": 1,
   "id": "be373584",
   "metadata": {},
   "outputs": [
    {
     "name": "stdout",
     "output_type": "stream",
     "text": [
      "<class 'pandas.core.frame.DataFrame'>\n",
      "RangeIndex: 146144 entries, 0 to 146143\n",
      "Data columns (total 7 columns):\n",
      " #   Column           Non-Null Count   Dtype  \n",
      "---  ------           --------------   -----  \n",
      " 0   idx              146144 non-null  int64  \n",
      " 1   tconst           146144 non-null  object \n",
      " 2   primary_title    146144 non-null  object \n",
      " 3   original_title   146123 non-null  object \n",
      " 4   start_year       146144 non-null  int64  \n",
      " 5   runtime_minutes  114405 non-null  float64\n",
      " 6   genres           140736 non-null  object \n",
      "dtypes: float64(1), int64(2), object(4)\n",
      "memory usage: 7.8+ MB\n"
     ]
    }
   ],
   "source": [
    "import sqlite3\n",
    "import pandas as pd\n",
    "import seaborn as sns\n",
    "import numpy as np\n",
    "\n",
    "conn = sqlite3.connect('../data/movies.db')\n",
    "\n",
    "df_imdb_title_basics = pd.read_sql('''\n",
    "select * from imdb_title_basics\n",
    "''', conn)\n",
    "\n",
    "df_imdb_title_basics.info()"
   ]
  },
  {
   "cell_type": "code",
   "execution_count": 2,
   "id": "f86bda17",
   "metadata": {},
   "outputs": [
    {
     "data": {
      "text/html": [
       "<div>\n",
       "<style scoped>\n",
       "    .dataframe tbody tr th:only-of-type {\n",
       "        vertical-align: middle;\n",
       "    }\n",
       "\n",
       "    .dataframe tbody tr th {\n",
       "        vertical-align: top;\n",
       "    }\n",
       "\n",
       "    .dataframe thead th {\n",
       "        text-align: right;\n",
       "    }\n",
       "</style>\n",
       "<table border=\"1\" class=\"dataframe\">\n",
       "  <thead>\n",
       "    <tr style=\"text-align: right;\">\n",
       "      <th></th>\n",
       "      <th>idx</th>\n",
       "      <th>tconst</th>\n",
       "      <th>primary_title</th>\n",
       "      <th>original_title</th>\n",
       "      <th>start_year</th>\n",
       "      <th>runtime_minutes</th>\n",
       "      <th>genres</th>\n",
       "    </tr>\n",
       "  </thead>\n",
       "  <tbody>\n",
       "    <tr>\n",
       "      <th>39095</th>\n",
       "      <td>39095</td>\n",
       "      <td>tt2397619</td>\n",
       "      <td>Woody Allen: A Documentary</td>\n",
       "      <td>None</td>\n",
       "      <td>2012</td>\n",
       "      <td>195.0</td>\n",
       "      <td>None</td>\n",
       "    </tr>\n",
       "    <tr>\n",
       "      <th>58624</th>\n",
       "      <td>58624</td>\n",
       "      <td>tt3414266</td>\n",
       "      <td>The Outer Loop</td>\n",
       "      <td>None</td>\n",
       "      <td>2013</td>\n",
       "      <td>78.0</td>\n",
       "      <td>None</td>\n",
       "    </tr>\n",
       "    <tr>\n",
       "      <th>62944</th>\n",
       "      <td>62944</td>\n",
       "      <td>tt3616658</td>\n",
       "      <td>The Hangman</td>\n",
       "      <td>None</td>\n",
       "      <td>2017</td>\n",
       "      <td>NaN</td>\n",
       "      <td>None</td>\n",
       "    </tr>\n",
       "    <tr>\n",
       "      <th>79274</th>\n",
       "      <td>79274</td>\n",
       "      <td>tt4548042</td>\n",
       "      <td>Urban Legend: The Blind Side Strangler</td>\n",
       "      <td>None</td>\n",
       "      <td>2016</td>\n",
       "      <td>NaN</td>\n",
       "      <td>None</td>\n",
       "    </tr>\n",
       "    <tr>\n",
       "      <th>80116</th>\n",
       "      <td>80116</td>\n",
       "      <td>tt4599436</td>\n",
       "      <td>Please Don't Eat the Pansies</td>\n",
       "      <td>None</td>\n",
       "      <td>2016</td>\n",
       "      <td>NaN</td>\n",
       "      <td>None</td>\n",
       "    </tr>\n",
       "  </tbody>\n",
       "</table>\n",
       "</div>"
      ],
      "text/plain": [
       "         idx     tconst                           primary_title  \\\n",
       "39095  39095  tt2397619              Woody Allen: A Documentary   \n",
       "58624  58624  tt3414266                          The Outer Loop   \n",
       "62944  62944  tt3616658                             The Hangman   \n",
       "79274  79274  tt4548042  Urban Legend: The Blind Side Strangler   \n",
       "80116  80116  tt4599436            Please Don't Eat the Pansies   \n",
       "\n",
       "      original_title  start_year  runtime_minutes genres  \n",
       "39095           None        2012            195.0   None  \n",
       "58624           None        2013             78.0   None  \n",
       "62944           None        2017              NaN   None  \n",
       "79274           None        2016              NaN   None  \n",
       "80116           None        2016              NaN   None  "
      ]
     },
     "execution_count": 2,
     "metadata": {},
     "output_type": "execute_result"
    }
   ],
   "source": [
    "df_original_null = df_imdb_title_basics.loc[df_imdb_title_basics['original_title'].isna()]\n",
    "df_original_null.head()"
   ]
  },
  {
   "cell_type": "code",
   "execution_count": 3,
   "id": "8334e4a6",
   "metadata": {},
   "outputs": [
    {
     "data": {
      "text/html": [
       "<div>\n",
       "<style scoped>\n",
       "    .dataframe tbody tr th:only-of-type {\n",
       "        vertical-align: middle;\n",
       "    }\n",
       "\n",
       "    .dataframe tbody tr th {\n",
       "        vertical-align: top;\n",
       "    }\n",
       "\n",
       "    .dataframe thead th {\n",
       "        text-align: right;\n",
       "    }\n",
       "</style>\n",
       "<table border=\"1\" class=\"dataframe\">\n",
       "  <thead>\n",
       "    <tr style=\"text-align: right;\">\n",
       "      <th></th>\n",
       "      <th>idx</th>\n",
       "      <th>tconst</th>\n",
       "      <th>primary_title</th>\n",
       "      <th>original_title</th>\n",
       "      <th>start_year</th>\n",
       "      <th>runtime_minutes</th>\n",
       "      <th>genres</th>\n",
       "    </tr>\n",
       "  </thead>\n",
       "  <tbody>\n",
       "    <tr>\n",
       "      <th>0</th>\n",
       "      <td>0</td>\n",
       "      <td>tt0063540</td>\n",
       "      <td>Sunghursh</td>\n",
       "      <td>Sunghursh</td>\n",
       "      <td>2013</td>\n",
       "      <td>175.0</td>\n",
       "      <td>Action,Crime,Drama</td>\n",
       "    </tr>\n",
       "    <tr>\n",
       "      <th>1</th>\n",
       "      <td>1</td>\n",
       "      <td>tt0066787</td>\n",
       "      <td>One Day Before the Rainy Season</td>\n",
       "      <td>Ashad Ka Ek Din</td>\n",
       "      <td>2019</td>\n",
       "      <td>114.0</td>\n",
       "      <td>Biography,Drama</td>\n",
       "    </tr>\n",
       "    <tr>\n",
       "      <th>2</th>\n",
       "      <td>2</td>\n",
       "      <td>tt0069049</td>\n",
       "      <td>The Other Side of the Wind</td>\n",
       "      <td>The Other Side of the Wind</td>\n",
       "      <td>2018</td>\n",
       "      <td>122.0</td>\n",
       "      <td>Drama</td>\n",
       "    </tr>\n",
       "    <tr>\n",
       "      <th>3</th>\n",
       "      <td>3</td>\n",
       "      <td>tt0069204</td>\n",
       "      <td>Sabse Bada Sukh</td>\n",
       "      <td>Sabse Bada Sukh</td>\n",
       "      <td>2018</td>\n",
       "      <td>NaN</td>\n",
       "      <td>Comedy,Drama</td>\n",
       "    </tr>\n",
       "    <tr>\n",
       "      <th>4</th>\n",
       "      <td>4</td>\n",
       "      <td>tt0100275</td>\n",
       "      <td>The Wandering Soap Opera</td>\n",
       "      <td>La Telenovela Errante</td>\n",
       "      <td>2017</td>\n",
       "      <td>80.0</td>\n",
       "      <td>Comedy,Drama,Fantasy</td>\n",
       "    </tr>\n",
       "  </tbody>\n",
       "</table>\n",
       "</div>"
      ],
      "text/plain": [
       "   idx     tconst                    primary_title  \\\n",
       "0    0  tt0063540                        Sunghursh   \n",
       "1    1  tt0066787  One Day Before the Rainy Season   \n",
       "2    2  tt0069049       The Other Side of the Wind   \n",
       "3    3  tt0069204                  Sabse Bada Sukh   \n",
       "4    4  tt0100275         The Wandering Soap Opera   \n",
       "\n",
       "               original_title  start_year  runtime_minutes  \\\n",
       "0                   Sunghursh        2013            175.0   \n",
       "1             Ashad Ka Ek Din        2019            114.0   \n",
       "2  The Other Side of the Wind        2018            122.0   \n",
       "3             Sabse Bada Sukh        2018              NaN   \n",
       "4       La Telenovela Errante        2017             80.0   \n",
       "\n",
       "                 genres  \n",
       "0    Action,Crime,Drama  \n",
       "1       Biography,Drama  \n",
       "2                 Drama  \n",
       "3          Comedy,Drama  \n",
       "4  Comedy,Drama,Fantasy  "
      ]
     },
     "execution_count": 3,
     "metadata": {},
     "output_type": "execute_result"
    }
   ],
   "source": [
    "df_original_notnull = df_imdb_title_basics.loc[df_imdb_title_basics['original_title'].dropna().index]\n",
    "df_original_notnull.head()"
   ]
  },
  {
   "cell_type": "code",
   "execution_count": 4,
   "id": "c6b9cbe0",
   "metadata": {},
   "outputs": [],
   "source": [
    "df_imdb_title_basics.loc[df_imdb_title_basics['original_title'].isna(), 'original_title'] = df_imdb_title_basics['primary_title']"
   ]
  },
  {
   "cell_type": "code",
   "execution_count": 5,
   "id": "8c853629",
   "metadata": {},
   "outputs": [
    {
     "name": "stdout",
     "output_type": "stream",
     "text": [
      "<class 'pandas.core.frame.DataFrame'>\n",
      "RangeIndex: 146144 entries, 0 to 146143\n",
      "Data columns (total 7 columns):\n",
      " #   Column           Non-Null Count   Dtype  \n",
      "---  ------           --------------   -----  \n",
      " 0   idx              146144 non-null  int64  \n",
      " 1   tconst           146144 non-null  object \n",
      " 2   primary_title    146144 non-null  object \n",
      " 3   original_title   146144 non-null  object \n",
      " 4   start_year       146144 non-null  int64  \n",
      " 5   runtime_minutes  114405 non-null  float64\n",
      " 6   genres           140736 non-null  object \n",
      "dtypes: float64(1), int64(2), object(4)\n",
      "memory usage: 7.8+ MB\n"
     ]
    }
   ],
   "source": [
    "df_imdb_title_basics.info()"
   ]
  },
  {
   "cell_type": "code",
   "execution_count": 6,
   "id": "22b05a77",
   "metadata": {},
   "outputs": [
    {
     "data": {
      "text/plain": [
       "132389    51420.0\n",
       "44840     14400.0\n",
       "123467     6017.0\n",
       "87264      6000.0\n",
       "88717      5460.0\n",
       "           ...   \n",
       "146131        NaN\n",
       "146138        NaN\n",
       "146140        NaN\n",
       "146141        NaN\n",
       "146143        NaN\n",
       "Name: runtime_minutes, Length: 146144, dtype: float64"
      ]
     },
     "execution_count": 6,
     "metadata": {},
     "output_type": "execute_result"
    }
   ],
   "source": [
    "df_imdb_title_basics['runtime_minutes'].sort_values(ascending = False)"
   ]
  },
  {
   "cell_type": "code",
   "execution_count": 7,
   "id": "325ce2f7",
   "metadata": {},
   "outputs": [
    {
     "data": {
      "text/plain": [
       "<AxesSubplot:xlabel='runtime_minutes', ylabel='Count'>"
      ]
     },
     "execution_count": 7,
     "metadata": {},
     "output_type": "execute_result"
    },
    {
     "data": {
      "image/png": "[encoded data removed]",
      "text/plain": [
       "<Figure size 432x288 with 1 Axes>"
      ]
     },
     "metadata": {
      "needs_background": "light"
     },
     "output_type": "display_data"
    }
   ],
   "source": [
    "df_no_long = df_imdb_title_basics.loc[df_imdb_title_basics['runtime_minutes'] < 500]\n",
    "sns.histplot(data = df_no_long['runtime_minutes'].dropna())"
   ]
  },
  {
   "cell_type": "code",
   "execution_count": 8,
   "id": "27dd43c4",
   "metadata": {},
   "outputs": [],
   "source": [
    "mode_runtime = float(df_imdb_title_basics['runtime_minutes'].mode())\n",
    "df_imdb_title_basics['runtime_minutes'] = df_imdb_title_basics['runtime_minutes'].astype(float)\n",
    "df_imdb_title_basics['runtime_minutes'].fillna(mode_runtime, inplace = True)"
   ]
  },
  {
   "cell_type": "code",
   "execution_count": 9,
   "id": "636181c2",
   "metadata": {},
   "outputs": [
    {
     "name": "stdout",
     "output_type": "stream",
     "text": [
      "<class 'pandas.core.frame.DataFrame'>\n",
      "RangeIndex: 146144 entries, 0 to 146143\n",
      "Data columns (total 7 columns):\n",
      " #   Column           Non-Null Count   Dtype  \n",
      "---  ------           --------------   -----  \n",
      " 0   idx              146144 non-null  int64  \n",
      " 1   tconst           146144 non-null  object \n",
      " 2   primary_title    146144 non-null  object \n",
      " 3   original_title   146144 non-null  object \n",
      " 4   start_year       146144 non-null  int64  \n",
      " 5   runtime_minutes  146144 non-null  float64\n",
      " 6   genres           140736 non-null  object \n",
      "dtypes: float64(1), int64(2), object(4)\n",
      "memory usage: 7.8+ MB\n"
     ]
    }
   ],
   "source": [
    "df_imdb_title_basics.info()"
   ]
  },
  {
   "cell_type": "code",
   "execution_count": 10,
   "id": "741519af",
   "metadata": {},
   "outputs": [],
   "source": [
    "df_imdb_title_basics['genres'].fillna('None', inplace = True)"
   ]
  },
  {
   "cell_type": "code",
   "execution_count": 11,
   "id": "49cc1c25",
   "metadata": {},
   "outputs": [
    {
     "name": "stdout",
     "output_type": "stream",
     "text": [
      "<class 'pandas.core.frame.DataFrame'>\n",
      "RangeIndex: 146144 entries, 0 to 146143\n",
      "Data columns (total 7 columns):\n",
      " #   Column           Non-Null Count   Dtype  \n",
      "---  ------           --------------   -----  \n",
      " 0   idx              146144 non-null  int64  \n",
      " 1   tconst           146144 non-null  object \n",
      " 2   primary_title    146144 non-null  object \n",
      " 3   original_title   146144 non-null  object \n",
      " 4   start_year       146144 non-null  int64  \n",
      " 5   runtime_minutes  146144 non-null  float64\n",
      " 6   genres           146144 non-null  object \n",
      "dtypes: float64(1), int64(2), object(4)\n",
      "memory usage: 7.8+ MB\n"
     ]
    }
   ],
   "source": [
    "df_imdb_title_basics.info()"
   ]
  },
  {
   "cell_type": "code",
   "execution_count": 12,
   "id": "2d7782da",
   "metadata": {},
   "outputs": [],
   "source": [
    "df_imdb_title_basics.to_csv(path_or_buf = '../data/cln_imdb_title_basics.csv')"
   ]
  }
 ],
 "metadata": {
  "kernelspec": {
   "display_name": "learn-env",
   "language": "python",
   "name": "learn-env"
  },
  "language_info": {
   "codemirror_mode": {
    "name": "ipython",
    "version": 3
   },
   "file_extension": ".py",
   "mimetype": "text/x-python",
   "name": "python",
   "nbconvert_exporter": "python",
   "pygments_lexer": "ipython3",
   "version": "3.8.5"
  },
  "toc-showcode": false
 },
 "nbformat": 4,
 "nbformat_minor": 5
}
