{
 "cells": [
  {
   "cell_type": "code",
   "execution_count": 1,
   "metadata": {},
   "outputs": [],
   "source": [
    "def de_moneyize(money):\n",
    "    number = money.replace(',','')\n",
    "    number = number.strip('$')\n",
    "    return int(number)"
   ]
  },
  {
   "cell_type": "code",
   "execution_count": 2,
   "metadata": {},
   "outputs": [
    {
     "name": "stdout",
     "output_type": "stream",
     "text": [
      "<class 'pandas.core.frame.DataFrame'>\n",
      "RangeIndex: 3387 entries, 0 to 3386\n",
      "Data columns (total 6 columns):\n",
      " #   Column          Non-Null Count  Dtype  \n",
      "---  ------          --------------  -----  \n",
      " 0   idx             3387 non-null   int64  \n",
      " 1   title           3387 non-null   object \n",
      " 2   studio          3382 non-null   object \n",
      " 3   domestic_gross  3359 non-null   float64\n",
      " 4   foreign_gross   2037 non-null   object \n",
      " 5   year            3387 non-null   int64  \n",
      "dtypes: float64(1), int64(2), object(3)\n",
      "memory usage: 158.9+ KB\n"
     ]
    }
   ],
   "source": [
    "import pandas as pd\n",
    "import sqlite3\n",
    "\n",
    "conn = sqlite3.connect('data/movies.db')\n",
    "\n",
    "df_bom_movie_gross = pd.read_sql('''\n",
    "select *\n",
    "from bom_movie_gross\n",
    "''', conn)\n",
    "\n",
    "df_bom_movie_gross.info()"
   ]
  }
 ],
 "metadata": {
  "kernelspec": {
   "display_name": "learn-env",
   "language": "python",
   "name": "learn-env"
  },
  "language_info": {
   "codemirror_mode": {
    "name": "ipython",
    "version": 3
   },
   "file_extension": ".py",
   "mimetype": "text/x-python",
   "name": "python",
   "nbconvert_exporter": "python",
   "pygments_lexer": "ipython3",
   "version": "3.8.5"
  }
 },
 "nbformat": 4,
 "nbformat_minor": 4
}
