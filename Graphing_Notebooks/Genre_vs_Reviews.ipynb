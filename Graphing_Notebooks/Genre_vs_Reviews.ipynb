{
 "cells": [
  {
   "cell_type": "code",
   "execution_count": 11,
   "id": "382755ac-b7db-469d-8a57-bc75994264a6",
   "metadata": {},
   "outputs": [
    {
     "data": {
      "text/html": [
       "<div>\n",
       "<style scoped>\n",
       "    .dataframe tbody tr th:only-of-type {\n",
       "        vertical-align: middle;\n",
       "    }\n",
       "\n",
       "    .dataframe tbody tr th {\n",
       "        vertical-align: top;\n",
       "    }\n",
       "\n",
       "    .dataframe thead th {\n",
       "        text-align: right;\n",
       "    }\n",
       "</style>\n",
       "<table border=\"1\" class=\"dataframe\">\n",
       "  <thead>\n",
       "    <tr style=\"text-align: right;\">\n",
       "      <th></th>\n",
       "      <th>rotten_tomatoes_link</th>\n",
       "      <th>movie_title</th>\n",
       "      <th>content_rating</th>\n",
       "      <th>genres</th>\n",
       "      <th>directors</th>\n",
       "      <th>authors</th>\n",
       "      <th>actors</th>\n",
       "      <th>runtime</th>\n",
       "      <th>production_company</th>\n",
       "      <th>tomatometer_status</th>\n",
       "      <th>...</th>\n",
       "      <th>audience_count</th>\n",
       "      <th>tomatometer_top_critics_count</th>\n",
       "      <th>tomatometer_fresh_critics_count</th>\n",
       "      <th>tomatometer_rotten_critics_count</th>\n",
       "      <th>critic_name</th>\n",
       "      <th>top_critic</th>\n",
       "      <th>publisher_name</th>\n",
       "      <th>review_type</th>\n",
       "      <th>review_score</th>\n",
       "      <th>review_date</th>\n",
       "    </tr>\n",
       "  </thead>\n",
       "  <tbody>\n",
       "    <tr>\n",
       "      <th>0</th>\n",
       "      <td>m/0814255</td>\n",
       "      <td>Percy Jackson &amp; the Olympians: The Lightning T...</td>\n",
       "      <td>PG</td>\n",
       "      <td>Action &amp; Adventure</td>\n",
       "      <td>['Chris Columbus']</td>\n",
       "      <td>['Craig Titley', ' Chris Columbus', ' Rick Rio...</td>\n",
       "      <td>['Logan Lerman', ' Brandon T. Jackson', ' Alex...</td>\n",
       "      <td>119.0</td>\n",
       "      <td>20th Century Fox</td>\n",
       "      <td>Rotten</td>\n",
       "      <td>...</td>\n",
       "      <td>254421.0</td>\n",
       "      <td>43</td>\n",
       "      <td>73</td>\n",
       "      <td>76</td>\n",
       "      <td>Andrew L. Urban</td>\n",
       "      <td>0.0</td>\n",
       "      <td>Urban Cinefile</td>\n",
       "      <td>Fresh</td>\n",
       "      <td>0.541766</td>\n",
       "      <td>2010-02-06</td>\n",
       "    </tr>\n",
       "    <tr>\n",
       "      <th>1</th>\n",
       "      <td>m/0814255</td>\n",
       "      <td>Percy Jackson &amp; the Olympians: The Lightning T...</td>\n",
       "      <td>PG</td>\n",
       "      <td>Comedy</td>\n",
       "      <td>['Chris Columbus']</td>\n",
       "      <td>['Craig Titley', ' Chris Columbus', ' Rick Rio...</td>\n",
       "      <td>['Logan Lerman', ' Brandon T. Jackson', ' Alex...</td>\n",
       "      <td>119.0</td>\n",
       "      <td>20th Century Fox</td>\n",
       "      <td>Rotten</td>\n",
       "      <td>...</td>\n",
       "      <td>254421.0</td>\n",
       "      <td>43</td>\n",
       "      <td>73</td>\n",
       "      <td>76</td>\n",
       "      <td>Andrew L. Urban</td>\n",
       "      <td>0.0</td>\n",
       "      <td>Urban Cinefile</td>\n",
       "      <td>Fresh</td>\n",
       "      <td>0.541766</td>\n",
       "      <td>2010-02-06</td>\n",
       "    </tr>\n",
       "    <tr>\n",
       "      <th>2</th>\n",
       "      <td>m/0814255</td>\n",
       "      <td>Percy Jackson &amp; the Olympians: The Lightning T...</td>\n",
       "      <td>PG</td>\n",
       "      <td>Drama</td>\n",
       "      <td>['Chris Columbus']</td>\n",
       "      <td>['Craig Titley', ' Chris Columbus', ' Rick Rio...</td>\n",
       "      <td>['Logan Lerman', ' Brandon T. Jackson', ' Alex...</td>\n",
       "      <td>119.0</td>\n",
       "      <td>20th Century Fox</td>\n",
       "      <td>Rotten</td>\n",
       "      <td>...</td>\n",
       "      <td>254421.0</td>\n",
       "      <td>43</td>\n",
       "      <td>73</td>\n",
       "      <td>76</td>\n",
       "      <td>Andrew L. Urban</td>\n",
       "      <td>0.0</td>\n",
       "      <td>Urban Cinefile</td>\n",
       "      <td>Fresh</td>\n",
       "      <td>0.541766</td>\n",
       "      <td>2010-02-06</td>\n",
       "    </tr>\n",
       "    <tr>\n",
       "      <th>3</th>\n",
       "      <td>m/0814255</td>\n",
       "      <td>Percy Jackson &amp; the Olympians: The Lightning T...</td>\n",
       "      <td>PG</td>\n",
       "      <td>Science Fiction &amp; Fantasy</td>\n",
       "      <td>['Chris Columbus']</td>\n",
       "      <td>['Craig Titley', ' Chris Columbus', ' Rick Rio...</td>\n",
       "      <td>['Logan Lerman', ' Brandon T. Jackson', ' Alex...</td>\n",
       "      <td>119.0</td>\n",
       "      <td>20th Century Fox</td>\n",
       "      <td>Rotten</td>\n",
       "      <td>...</td>\n",
       "      <td>254421.0</td>\n",
       "      <td>43</td>\n",
       "      <td>73</td>\n",
       "      <td>76</td>\n",
       "      <td>Andrew L. Urban</td>\n",
       "      <td>0.0</td>\n",
       "      <td>Urban Cinefile</td>\n",
       "      <td>Fresh</td>\n",
       "      <td>0.541766</td>\n",
       "      <td>2010-02-06</td>\n",
       "    </tr>\n",
       "    <tr>\n",
       "      <th>4</th>\n",
       "      <td>m/0814255</td>\n",
       "      <td>Percy Jackson &amp; the Olympians: The Lightning T...</td>\n",
       "      <td>PG</td>\n",
       "      <td>Action &amp; Adventure</td>\n",
       "      <td>['Chris Columbus']</td>\n",
       "      <td>['Craig Titley', ' Chris Columbus', ' Rick Rio...</td>\n",
       "      <td>['Logan Lerman', ' Brandon T. Jackson', ' Alex...</td>\n",
       "      <td>119.0</td>\n",
       "      <td>20th Century Fox</td>\n",
       "      <td>Rotten</td>\n",
       "      <td>...</td>\n",
       "      <td>254421.0</td>\n",
       "      <td>43</td>\n",
       "      <td>73</td>\n",
       "      <td>76</td>\n",
       "      <td>Louise Keller</td>\n",
       "      <td>0.0</td>\n",
       "      <td>Urban Cinefile</td>\n",
       "      <td>Fresh</td>\n",
       "      <td>0.541766</td>\n",
       "      <td>2010-02-06</td>\n",
       "    </tr>\n",
       "  </tbody>\n",
       "</table>\n",
       "<p>5 rows × 24 columns</p>\n",
       "</div>"
      ],
      "text/plain": [
       "  rotten_tomatoes_link                                        movie_title  \\\n",
       "0            m/0814255  Percy Jackson & the Olympians: The Lightning T...   \n",
       "1            m/0814255  Percy Jackson & the Olympians: The Lightning T...   \n",
       "2            m/0814255  Percy Jackson & the Olympians: The Lightning T...   \n",
       "3            m/0814255  Percy Jackson & the Olympians: The Lightning T...   \n",
       "4            m/0814255  Percy Jackson & the Olympians: The Lightning T...   \n",
       "\n",
       "  content_rating                      genres           directors  \\\n",
       "0             PG          Action & Adventure  ['Chris Columbus']   \n",
       "1             PG                      Comedy  ['Chris Columbus']   \n",
       "2             PG                       Drama  ['Chris Columbus']   \n",
       "3             PG   Science Fiction & Fantasy  ['Chris Columbus']   \n",
       "4             PG          Action & Adventure  ['Chris Columbus']   \n",
       "\n",
       "                                             authors  \\\n",
       "0  ['Craig Titley', ' Chris Columbus', ' Rick Rio...   \n",
       "1  ['Craig Titley', ' Chris Columbus', ' Rick Rio...   \n",
       "2  ['Craig Titley', ' Chris Columbus', ' Rick Rio...   \n",
       "3  ['Craig Titley', ' Chris Columbus', ' Rick Rio...   \n",
       "4  ['Craig Titley', ' Chris Columbus', ' Rick Rio...   \n",
       "\n",
       "                                              actors  runtime  \\\n",
       "0  ['Logan Lerman', ' Brandon T. Jackson', ' Alex...    119.0   \n",
       "1  ['Logan Lerman', ' Brandon T. Jackson', ' Alex...    119.0   \n",
       "2  ['Logan Lerman', ' Brandon T. Jackson', ' Alex...    119.0   \n",
       "3  ['Logan Lerman', ' Brandon T. Jackson', ' Alex...    119.0   \n",
       "4  ['Logan Lerman', ' Brandon T. Jackson', ' Alex...    119.0   \n",
       "\n",
       "  production_company tomatometer_status  ...  audience_count  \\\n",
       "0   20th Century Fox             Rotten  ...        254421.0   \n",
       "1   20th Century Fox             Rotten  ...        254421.0   \n",
       "2   20th Century Fox             Rotten  ...        254421.0   \n",
       "3   20th Century Fox             Rotten  ...        254421.0   \n",
       "4   20th Century Fox             Rotten  ...        254421.0   \n",
       "\n",
       "   tomatometer_top_critics_count tomatometer_fresh_critics_count  \\\n",
       "0                             43                              73   \n",
       "1                             43                              73   \n",
       "2                             43                              73   \n",
       "3                             43                              73   \n",
       "4                             43                              73   \n",
       "\n",
       "   tomatometer_rotten_critics_count      critic_name  top_critic  \\\n",
       "0                                76  Andrew L. Urban         0.0   \n",
       "1                                76  Andrew L. Urban         0.0   \n",
       "2                                76  Andrew L. Urban         0.0   \n",
       "3                                76  Andrew L. Urban         0.0   \n",
       "4                                76    Louise Keller         0.0   \n",
       "\n",
       "   publisher_name  review_type review_score  review_date  \n",
       "0  Urban Cinefile        Fresh     0.541766   2010-02-06  \n",
       "1  Urban Cinefile        Fresh     0.541766   2010-02-06  \n",
       "2  Urban Cinefile        Fresh     0.541766   2010-02-06  \n",
       "3  Urban Cinefile        Fresh     0.541766   2010-02-06  \n",
       "4  Urban Cinefile        Fresh     0.541766   2010-02-06  \n",
       "\n",
       "[5 rows x 24 columns]"
      ]
     },
     "execution_count": 11,
     "metadata": {},
     "output_type": "execute_result"
    }
   ],
   "source": [
    "import pandas as pd\n",
    "\n",
    "df = pd.read_csv('../data/cln_rotten__full_genres_expl.csv')\n",
    "df.head()"
   ]
  },
  {
   "cell_type": "code",
   "execution_count": 12,
   "id": "61d18842-2ff1-4ffd-b7cc-c42d45f48d40",
   "metadata": {},
   "outputs": [
    {
     "data": {
      "text/plain": [
       "(2369208, 24)"
      ]
     },
     "execution_count": 12,
     "metadata": {},
     "output_type": "execute_result"
    }
   ],
   "source": [
    "df.shape"
   ]
  },
  {
   "cell_type": "code",
   "execution_count": 13,
   "id": "cb8436d2-b793-4d86-a7d5-ed7b473a8819",
   "metadata": {},
   "outputs": [
    {
     "name": "stdout",
     "output_type": "stream",
     "text": [
      "<class 'pandas.core.frame.DataFrame'>\n",
      "RangeIndex: 2369208 entries, 0 to 2369207\n",
      "Data columns (total 24 columns):\n",
      " #   Column                            Dtype  \n",
      "---  ------                            -----  \n",
      " 0   rotten_tomatoes_link              object \n",
      " 1   movie_title                       object \n",
      " 2   content_rating                    object \n",
      " 3   genres                            object \n",
      " 4   directors                         object \n",
      " 5   authors                           object \n",
      " 6   actors                            object \n",
      " 7   runtime                           float64\n",
      " 8   production_company                object \n",
      " 9   tomatometer_status                object \n",
      " 10  tomatometer_rating                float64\n",
      " 11  tomatometer_count                 float64\n",
      " 12  audience_status                   object \n",
      " 13  audience_rating                   float64\n",
      " 14  audience_count                    float64\n",
      " 15  tomatometer_top_critics_count     int64  \n",
      " 16  tomatometer_fresh_critics_count   int64  \n",
      " 17  tomatometer_rotten_critics_count  int64  \n",
      " 18  critic_name                       object \n",
      " 19  top_critic                        float64\n",
      " 20  publisher_name                    object \n",
      " 21  review_type                       object \n",
      " 22  review_score                      float64\n",
      " 23  review_date                       object \n",
      "dtypes: float64(7), int64(3), object(14)\n",
      "memory usage: 433.8+ MB\n"
     ]
    }
   ],
   "source": [
    "df.info()"
   ]
  },
  {
   "cell_type": "code",
   "execution_count": 14,
   "id": "8a17f9b9-500a-4891-8a5f-05597407c88d",
   "metadata": {},
   "outputs": [
    {
     "data": {
      "text/plain": [
       "rotten_tomatoes_link                  0\n",
       "movie_title                           0\n",
       "content_rating                        0\n",
       "genres                              245\n",
       "directors                             0\n",
       "authors                               0\n",
       "actors                                0\n",
       "runtime                               0\n",
       "production_company                    0\n",
       "tomatometer_status                    0\n",
       "tomatometer_rating                    0\n",
       "tomatometer_count                     0\n",
       "audience_status                       0\n",
       "audience_rating                       0\n",
       "audience_count                        0\n",
       "tomatometer_top_critics_count         0\n",
       "tomatometer_fresh_critics_count       0\n",
       "tomatometer_rotten_critics_count      0\n",
       "critic_name                          50\n",
       "top_critic                           50\n",
       "publisher_name                       50\n",
       "review_type                          50\n",
       "review_score                         50\n",
       "review_date                          50\n",
       "dtype: int64"
      ]
     },
     "execution_count": 14,
     "metadata": {},
     "output_type": "execute_result"
    }
   ],
   "source": [
    "df.isna().sum()"
   ]
  },
  {
   "cell_type": "code",
   "execution_count": 18,
   "id": "c7857865-936c-4831-bc45-4146fea3b6d4",
   "metadata": {},
   "outputs": [
    {
     "data": {
      "text/plain": [
       "rotten_tomatoes_link                0\n",
       "movie_title                         0\n",
       "content_rating                      0\n",
       "genres                              0\n",
       "directors                           0\n",
       "authors                             0\n",
       "actors                              0\n",
       "runtime                             0\n",
       "production_company                  0\n",
       "tomatometer_status                  0\n",
       "tomatometer_rating                  0\n",
       "tomatometer_count                   0\n",
       "audience_status                     0\n",
       "audience_rating                     0\n",
       "audience_count                      0\n",
       "tomatometer_top_critics_count       0\n",
       "tomatometer_fresh_critics_count     0\n",
       "tomatometer_rotten_critics_count    0\n",
       "critic_name                         0\n",
       "top_critic                          0\n",
       "publisher_name                      0\n",
       "review_type                         0\n",
       "review_score                        0\n",
       "review_date                         0\n",
       "dtype: int64"
      ]
     },
     "execution_count": 18,
     "metadata": {},
     "output_type": "execute_result"
    }
   ],
   "source": [
    "df.dropna(inplace = True)\n",
    "df.isna().sum()"
   ]
  },
  {
   "cell_type": "code",
   "execution_count": 20,
   "id": "e8663e21-6596-4972-b265-b79d46c58feb",
   "metadata": {},
   "outputs": [],
   "source": [
    "df['genres'] = df['genres'].map(lambda x: x.strip())"
   ]
  },
  {
   "cell_type": "code",
   "execution_count": 27,
   "id": "7cc5578b-35f0-45cb-b7e8-efb4fff142c1",
   "metadata": {},
   "outputs": [
    {
     "data": {
      "text/plain": [
       "genres\n",
       "Action & Adventure           0.617021\n",
       "Animation                    0.680951\n",
       "Anime & Manga                0.707836\n",
       "Art House & International    0.707372\n",
       "Classics                     0.760596\n",
       "Comedy                       0.615046\n",
       "Cult Movies                  0.656172\n",
       "Documentary                  0.733293\n",
       "Drama                        0.676963\n",
       "Faith & Spirituality         0.632066\n",
       "Gay & Lesbian                0.681958\n",
       "Horror                       0.580764\n",
       "Kids & Family                0.629104\n",
       "Musical & Performing Arts    0.674689\n",
       "Mystery & Suspense           0.624114\n",
       "Romance                      0.636357\n",
       "Science Fiction & Fantasy    0.638000\n",
       "Special Interest             0.720334\n",
       "Sports & Fitness             0.681049\n",
       "Television                   0.680728\n",
       "Western                      0.671530\n",
       "Name: review_score, dtype: float64"
      ]
     },
     "execution_count": 27,
     "metadata": {},
     "output_type": "execute_result"
    }
   ],
   "source": [
    "df_g_sc = df.groupby('genres')['review_score'].mean()\n",
    "df_g_sc"
   ]
  },
  {
   "cell_type": "code",
   "execution_count": 31,
   "id": "e0cd03fe-a519-4031-ba4b-0617daf1dffc",
   "metadata": {},
   "outputs": [],
   "source": [
    "df_g_sc.index = df_g_sc.index.map(lambda x: x.replace(' ','\\n'))"
   ]
  },
  {
   "cell_type": "code",
   "execution_count": 32,
   "id": "5c48bd59-49c0-4c59-a265-6d965ea1f01f",
   "metadata": {},
   "outputs": [
    {
     "data": {
      "text/plain": [
       "<AxesSubplot:xlabel='genres'>"
      ]
     },
     "execution_count": 32,
     "metadata": {},
     "output_type": "execute_result"
    },
    {
     "data": {
      "image/png": "[encoded data removed]",
      "text/plain": [
       "<Figure size 1440x720 with 1 Axes>"
      ]
     },
     "metadata": {
      "needs_background": "light"
     },
     "output_type": "display_data"
    }
   ],
   "source": [
    "import seaborn as sns\n",
    "import matplotlib.pyplot as plt\n",
    "fig, ax = plt.subplots(figsize = (20,10))\n",
    "sns.barplot(x = df_g_sc.index, y = df_g_sc.values)"
   ]
  },
  {
   "cell_type": "code",
   "execution_count": null,
   "id": "2b31a00d-2922-4a97-a066-58e4928572c7",
   "metadata": {},
   "outputs": [],
   "source": []
  }
 ],
 "metadata": {
  "kernelspec": {
   "display_name": "learn-env",
   "language": "python",
   "name": "learn-env"
  },
  "language_info": {
   "codemirror_mode": {
    "name": "ipython",
    "version": 3
   },
   "file_extension": ".py",
   "mimetype": "text/x-python",
   "name": "python",
   "nbconvert_exporter": "python",
   "pygments_lexer": "ipython3",
   "version": "3.8.5"
  }
 },
 "nbformat": 4,
 "nbformat_minor": 5
}
